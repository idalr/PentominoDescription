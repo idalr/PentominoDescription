{
 "cells": [
  {
   "cell_type": "markdown",
   "id": "17e3fb74",
   "metadata": {},
   "source": [
    "## Overview\n",
    "\n",
    "In this notebook, we use the TakeCV corpus and the augmented corpus as train and validation data to train LSTM and BiLSTM classifiers. Then, we test the models on the Survey corpus.\n",
    "\n",
    "- In the first section, we import the three corpora, create label dictionary/reverse dictionary, initiate a tokenizer, split train/validation data, and set initial hyperparameters.\n",
    "- The second part is training. We train LSTMs and BiLSTM on three different sets of labels, i.e., full label (color and shape), color only and shape only, on the two training corpora.  As well, we assess the results of combining predictions from the color model and the shape model (color + shape).\n",
    "- The next part is hyperparameter-tuning, using `GridSearchCV` and `KerasTuner`.\n",
    "- The final section, we assess the models performance by using survey data as a test dataset."
   ]
  },
  {
   "cell_type": "markdown",
   "id": "f8ebdcab",
   "metadata": {
    "id": "42eef0dc"
   },
   "source": [
    "# Import data"
   ]
  },
  {
   "cell_type": "code",
   "execution_count": 1,
   "id": "b47cea2d",
   "metadata": {
    "id": "0b75824f"
   },
   "outputs": [],
   "source": [
    "import pandas as pd"
   ]
  },
  {
   "cell_type": "code",
   "execution_count": 2,
   "id": "8c0274ca",
   "metadata": {
    "id": "a2315797",
    "outputId": "f1bc5b4a-e26f-40b7-d70b-2dee0613fdb0"
   },
   "outputs": [],
   "source": [
    "# read data\n",
    "# TakeCV corpus\n",
    "tcv = pd.read_csv('data_clean.csv')\n",
    "# Augmented data\n",
    "aug_all = pd.read_csv('output.csv',usecols=[1,2,3])\n",
    "# Survey data\n",
    "sur = pd.read_excel('processed_survey.xlsx',usecols=[0,1])"
   ]
  },
  {
   "cell_type": "code",
   "execution_count": 3,
   "id": "b09f8958",
   "metadata": {},
   "outputs": [],
   "source": [
    "# process aug_data\n",
    "aug_all['color'] = aug_all['color'].str.replace('grey','gray')\n",
    "aug_all['label'] = aug_all['color'] + ' ' + aug_all['shape']\n",
    "aug = aug_all[aug_all['label'].isin(set(tcv['label']))]\n",
    "\n",
    "sur['label'] = sur['label'].str.replace('orange t','yellow t')"
   ]
  },
  {
   "cell_type": "code",
   "execution_count": 4,
   "id": "3fd55eef",
   "metadata": {
    "id": "44363832",
    "scrolled": false
   },
   "outputs": [],
   "source": [
    "# split label into color and shape\n",
    "tcv[['color','shape']] = tcv['label'].str.split(' ',expand=True)\n",
    "sur[['color','shape']] = sur['label'].str.split(' ',expand=True)"
   ]
  },
  {
   "cell_type": "code",
   "execution_count": 5,
   "id": "3199b7c3",
   "metadata": {},
   "outputs": [],
   "source": [
    "df = pd.concat([tcv,sur,aug])"
   ]
  },
  {
   "cell_type": "code",
   "execution_count": 6,
   "id": "5131ea3f",
   "metadata": {
    "id": "df6c07ec",
    "outputId": "bd13ef68-645a-4580-bbed-d211b074fdba"
   },
   "outputs": [
    {
     "name": "stdout",
     "output_type": "stream",
     "text": [
      "wooden i    6934\n",
      "wooden f    6169\n",
      "wooden w    6167\n",
      "wooden v    5939\n",
      "wooden y    5431\n",
      "wooden p    4628\n",
      "wooden n    3848\n",
      "blue i      3494\n",
      "gray f      3113\n",
      "wooden z    3085\n",
      "blue v      2989\n",
      "wooden l    2323\n",
      "wooden x    2317\n",
      "green w     1576\n",
      "blue z      1573\n",
      "pink p      1190\n",
      "yellow u    1188\n",
      "orange u    1179\n",
      "purple n     996\n",
      "orange l     616\n",
      "red x        614\n",
      "green t      236\n",
      "yellow t     220\n",
      "Name: label, dtype: int64\n",
      "wooden    46841\n",
      "blue       8056\n",
      "gray       3113\n",
      "green      1812\n",
      "orange     1795\n",
      "yellow     1408\n",
      "pink       1190\n",
      "purple      996\n",
      "red         614\n",
      "Name: color, dtype: int64\n",
      "i    10428\n",
      "f     9282\n",
      "v     8928\n",
      "w     7743\n",
      "p     5818\n",
      "y     5431\n",
      "n     4844\n",
      "z     4658\n",
      "l     2939\n",
      "x     2931\n",
      "u     2367\n",
      "t      456\n",
      "Name: shape, dtype: int64\n",
      "23\n",
      "9\n",
      "12\n"
     ]
    }
   ],
   "source": [
    "# check if split correctly\n",
    "print (df['label'].value_counts())\n",
    "print (df['color'].value_counts())\n",
    "print (df['shape'].value_counts())\n",
    "# check no. of labels\n",
    "print (df['label'].nunique())\n",
    "print (df['color'].nunique())\n",
    "print (df['shape'].nunique())"
   ]
  },
  {
   "cell_type": "markdown",
   "id": "de96855f",
   "metadata": {},
   "source": [
    "## Create label dictionary"
   ]
  },
  {
   "cell_type": "code",
   "execution_count": 7,
   "id": "7decfd47",
   "metadata": {},
   "outputs": [],
   "source": [
    "import io\n",
    "import json"
   ]
  },
  {
   "cell_type": "code",
   "execution_count": 83,
   "id": "c5eef579",
   "metadata": {},
   "outputs": [],
   "source": [
    "all_label = sorted(list(set(df['label'])))\n",
    "all_shape = sorted(list(set(df['shape'])))\n",
    "all_color = sorted(list(set(df['color'])))\n",
    "all_label_dict = {k: v for v, k in enumerate(all_label)}\n",
    "all_shape_dict = {k: v for v, k in enumerate(all_shape)}\n",
    "all_color_dict = {k: v for v, k in enumerate(all_color)}"
   ]
  },
  {
   "cell_type": "code",
   "execution_count": 84,
   "id": "9c2043cc",
   "metadata": {},
   "outputs": [],
   "source": [
    "# Serialize data into file:\n",
    "json.dump(all_label_dict, open( \"all_label_dict.json\", 'w' ) )\n",
    "json.dump(all_shape_dict, open( \"all_shape_dict.json\", 'w' ) )\n",
    "json.dump(all_color_dict, open( \"all_color_dict.json\", 'w' ) )"
   ]
  },
  {
   "cell_type": "code",
   "execution_count": 8,
   "id": "91d298da",
   "metadata": {},
   "outputs": [],
   "source": [
    "# Read data from file:\n",
    "loaded_label_dict = json.load( open( \"all_label_dict.json\" ) )\n",
    "loaded_shape_dict = json.load( open( \"all_shape_dict.json\" ) )\n",
    "loaded_color_dict = json.load( open( \"all_color_dict.json\" ) )"
   ]
  },
  {
   "cell_type": "code",
   "execution_count": 9,
   "id": "75df8556",
   "metadata": {},
   "outputs": [],
   "source": [
    "label_list = list(loaded_label_dict)\n",
    "shape_list = list(loaded_shape_dict)\n",
    "color_list = list(loaded_color_dict)"
   ]
  },
  {
   "cell_type": "markdown",
   "id": "a9a9da3e",
   "metadata": {},
   "source": [
    "# Tokenizer & Models"
   ]
  },
  {
   "cell_type": "code",
   "execution_count": 10,
   "id": "f31593dd",
   "metadata": {},
   "outputs": [],
   "source": [
    "import numpy as np \n",
    "import pandas as pd\n",
    "import matplotlib.pyplot as plt\n",
    "import seaborn as sns\n",
    "from keras.preprocessing.text import Tokenizer\n",
    "from keras_preprocessing.text import tokenizer_from_json\n",
    "from keras.preprocessing.sequence import pad_sequences\n",
    "from keras.models import Sequential\n",
    "from keras.layers import Dense, Embedding, LSTM, SpatialDropout1D\n",
    "from sklearn.model_selection import train_test_split\n",
    "from keras.utils.np_utils import to_categorical\n",
    "from keras.callbacks import EarlyStopping\n",
    "from keras.layers import Dropout\n",
    "from keras.optimizers import adam_v2\n",
    "from nltk.corpus import stopwords\n",
    "from nltk import word_tokenize\n",
    "import matplotlib.pyplot as plt\n",
    "from keras.models import load_model\n",
    "\n",
    "STOPWORDS = set(stopwords.words('english'))"
   ]
  },
  {
   "cell_type": "code",
   "execution_count": 11,
   "id": "830f5d29",
   "metadata": {},
   "outputs": [],
   "source": [
    "# The maximum number of words to be used. (most frequent)\n",
    "MAX_NB_WORDS = 200\n",
    "# Max number of words in each text.\n",
    "MAX_SEQUENCE_LENGTH = max([len(x) for x in df['text']])"
   ]
  },
  {
   "cell_type": "code",
   "execution_count": 64,
   "id": "adc66f37",
   "metadata": {},
   "outputs": [
    {
     "name": "stdout",
     "output_type": "stream",
     "text": [
      "Longest sequence 287.\n",
      "Found 459 unique tokens.\n"
     ]
    }
   ],
   "source": [
    "# Initialize tokenizer\n",
    "tokenizer = Tokenizer(num_words=MAX_NB_WORDS) #, filters='!\"#$%&()*+,./:;<=>?@[\\]^_-`{|}~', lower=True) #delete -\n",
    "tokenizer.fit_on_texts(df['text'].values)\n",
    "word_index = tokenizer.word_index\n",
    "print('Longest sequence %s.' % MAX_SEQUENCE_LENGTH)\n",
    "print('Found %s unique tokens.' % len(word_index))"
   ]
  },
  {
   "cell_type": "markdown",
   "id": "45d91951",
   "metadata": {},
   "source": [
    "## Save Tokenizer"
   ]
  },
  {
   "cell_type": "code",
   "execution_count": 16,
   "id": "a02ca18b",
   "metadata": {},
   "outputs": [],
   "source": [
    "# saving toakenizer\n",
    "tokenizer_json = tokenizer.to_json()\n",
    "with io.open('tokenizer.json', 'w', encoding='utf-8') as f:\n",
    "    f.write(json.dumps(tokenizer_json, ensure_ascii=False))"
   ]
  },
  {
   "cell_type": "code",
   "execution_count": 12,
   "id": "b7883f4c",
   "metadata": {},
   "outputs": [],
   "source": [
    "# loading tokenizer\n",
    "with open('tokenizer.json') as f:\n",
    "    data = json.load(f)\n",
    "    loaded_tokenizer = tokenizer_from_json(data)"
   ]
  },
  {
   "cell_type": "markdown",
   "id": "12f9d367",
   "metadata": {},
   "source": [
    "## Creating a reverse dictionary"
   ]
  },
  {
   "cell_type": "code",
   "execution_count": 13,
   "id": "3354a64c",
   "metadata": {},
   "outputs": [],
   "source": [
    "reverse_word_map = dict(map(reversed, loaded_tokenizer.word_index.items()))"
   ]
  },
  {
   "cell_type": "code",
   "execution_count": 14,
   "id": "4f8e10bf",
   "metadata": {},
   "outputs": [],
   "source": [
    "def sequence_to_text(list_of_indices):\n",
    "    \n",
    "    text = []\n",
    "    \n",
    "    # Looking up words in dictionary\n",
    "    for l in list_of_indices:\n",
    "        if l == 0:\n",
    "            pass\n",
    "        else:\n",
    "            w = reverse_word_map.get(l)\n",
    "            text.append(w)\n",
    "            \n",
    "    seq = ' '.join(text)\n",
    "    return seq"
   ]
  },
  {
   "cell_type": "markdown",
   "id": "4905597e",
   "metadata": {},
   "source": [
    "## Preprocessing & Split"
   ]
  },
  {
   "cell_type": "code",
   "execution_count": 15,
   "id": "762f185f",
   "metadata": {},
   "outputs": [],
   "source": [
    "SEED = 0\n",
    "TEST_SIZE = 0.2"
   ]
  },
  {
   "cell_type": "code",
   "execution_count": 16,
   "id": "df127ac4",
   "metadata": {
    "id": "a27ea3f0",
    "outputId": "b3143dad-7fb9-44a5-b90e-c68b1dbcfd1d"
   },
   "outputs": [
    {
     "name": "stdout",
     "output_type": "stream",
     "text": [
      "Shape of data tensor: (525, 287)\n",
      "Shape of label tensor: (525, 23)\n",
      "Shape of shape tensor: (525, 9)\n",
      "Shape of color tensor: (525, 12)\n"
     ]
    }
   ],
   "source": [
    "# TAKE-CV\n",
    "tcv=tcv.replace({\"label\": loaded_label_dict})\n",
    "tcv=tcv.replace({\"shape\": loaded_shape_dict})\n",
    "tcv=tcv.replace({\"color\": loaded_color_dict})\n",
    "\n",
    "# define X\n",
    "X_tcv = loaded_tokenizer.texts_to_sequences(tcv['text'].values)\n",
    "X_tcv = pad_sequences(X_tcv, maxlen=MAX_SEQUENCE_LENGTH)\n",
    "print('Shape of data tensor:', X_tcv.shape)\n",
    "\n",
    "# define Y\n",
    "Y_tcv = pd.get_dummies(tcv['label']).values\n",
    "Y_color_tcv = pd.get_dummies(tcv['color']).values\n",
    "Y_shape_tcv = pd.get_dummies(tcv['shape']).values\n",
    "\n",
    "print('Shape of label tensor:', Y_tcv.shape)\n",
    "print('Shape of shape tensor:', Y_color_tcv.shape)\n",
    "print('Shape of color tensor:', Y_shape_tcv.shape)"
   ]
  },
  {
   "cell_type": "code",
   "execution_count": 17,
   "id": "0a277956",
   "metadata": {},
   "outputs": [
    {
     "name": "stdout",
     "output_type": "stream",
     "text": [
      "Shape of data tensor: (65124, 287)\n",
      "Shape of label tensor: (65124, 23)\n",
      "Shape of shape tensor: (65124, 9)\n",
      "Shape of color tensor: (65124, 12)\n"
     ]
    }
   ],
   "source": [
    "# AUGMENTED\n",
    "aug=aug.replace({\"label\": loaded_label_dict})\n",
    "aug=aug.replace({\"shape\": loaded_shape_dict})\n",
    "aug=aug.replace({\"color\": loaded_color_dict})\n",
    "\n",
    "# define X\n",
    "X_aug = loaded_tokenizer.texts_to_sequences(aug['text'].values)\n",
    "X_aug = pad_sequences(X_aug, maxlen=MAX_SEQUENCE_LENGTH)\n",
    "print('Shape of data tensor:', X_aug.shape)\n",
    "\n",
    "# define Y\n",
    "Y_aug = pd.get_dummies(aug['label']).values\n",
    "Y_color_aug = pd.get_dummies(aug['color']).values\n",
    "Y_shape_aug = pd.get_dummies(aug['shape']).values\n",
    "\n",
    "print('Shape of label tensor:', Y_aug.shape)\n",
    "print('Shape of shape tensor:', Y_color_aug.shape)\n",
    "print('Shape of color tensor:', Y_shape_aug.shape)"
   ]
  },
  {
   "cell_type": "code",
   "execution_count": 18,
   "id": "d6ddf10e",
   "metadata": {},
   "outputs": [
    {
     "name": "stdout",
     "output_type": "stream",
     "text": [
      "Shape of data tensor: (176, 287)\n",
      "Shape of label tensor: (176, 21)\n",
      "Shape of shape tensor: (176, 9)\n",
      "Shape of color tensor: (176, 12)\n"
     ]
    }
   ],
   "source": [
    "# SURVEY\n",
    "sur=sur.replace({\"label\": loaded_label_dict})\n",
    "sur=sur.replace({\"shape\": loaded_shape_dict})\n",
    "sur=sur.replace({\"color\": loaded_color_dict})\n",
    "\n",
    "# define X\n",
    "X_sur = loaded_tokenizer.texts_to_sequences(sur['text'].values)\n",
    "X_sur = pad_sequences(X_sur, maxlen=MAX_SEQUENCE_LENGTH)\n",
    "print('Shape of data tensor:', X_sur.shape)\n",
    "\n",
    "# define Y\n",
    "Y_sur = pd.get_dummies(sur['label']).values\n",
    "Y_color_sur = pd.get_dummies(sur['color']).values\n",
    "Y_shape_sur = pd.get_dummies(sur['shape']).values\n",
    "\n",
    "print('Shape of label tensor:', Y_sur.shape)\n",
    "print('Shape of shape tensor:', Y_color_sur.shape)\n",
    "print('Shape of color tensor:', Y_shape_sur.shape)"
   ]
  },
  {
   "cell_type": "code",
   "execution_count": 21,
   "id": "b4d3fa4c",
   "metadata": {
    "id": "02cd8517",
    "outputId": "39d7c88f-c1f2-49c4-da69-c37f3d562b8b"
   },
   "outputs": [
    {
     "name": "stdout",
     "output_type": "stream",
     "text": [
      "(420, 287) (420, 23) (420, 9) (420, 12)\n",
      "(105, 287) (105, 23) (105, 9) (105, 12)\n"
     ]
    }
   ],
   "source": [
    "# split TAKE-CV Sdata\n",
    "X_train_tcv, X_test_tcv, Y_train_tcv, Y_test_tcv = train_test_split(X_tcv,Y_tcv, test_size = TEST_SIZE, random_state = SEED)\n",
    "X_train_tcv, X_test_tcv, Y_color_train_tcv, Y_color_test_tcv = train_test_split(X_tcv,Y_color_tcv, test_size = TEST_SIZE, random_state = SEED)\n",
    "X_train_tcv, X_test_tcv, Y_shape_train_tcv, Y_shape_test_tcv = train_test_split(X_tcv,Y_shape_tcv, test_size = TEST_SIZE, random_state = SEED)\n",
    "\n",
    "print(X_train_tcv.shape,Y_train_tcv.shape, Y_color_train_tcv.shape, Y_shape_train_tcv.shape)\n",
    "print(X_test_tcv.shape,Y_test_tcv.shape, Y_color_test_tcv.shape, Y_shape_test_tcv.shape)"
   ]
  },
  {
   "cell_type": "code",
   "execution_count": 22,
   "id": "8e4df956",
   "metadata": {},
   "outputs": [
    {
     "name": "stdout",
     "output_type": "stream",
     "text": [
      "(52099, 287) (52099, 23) (52099, 9) (52099, 12)\n",
      "(13025, 287) (13025, 23) (13025, 9) (13025, 12)\n"
     ]
    }
   ],
   "source": [
    "# split AUG Sdata\n",
    "X_train_aug, X_test_aug, Y_train_aug, Y_test_aug = train_test_split(X_aug,Y_aug, test_size = TEST_SIZE, random_state = SEED)\n",
    "X_train_aug, X_test_aug, Y_color_train_aug, Y_color_test_aug = train_test_split(X_aug,Y_color_aug, test_size = TEST_SIZE, random_state = SEED)\n",
    "X_train_aug, X_test_aug, Y_shape_train_aug, Y_shape_test_aug = train_test_split(X_aug,Y_shape_aug, test_size = TEST_SIZE, random_state = SEED)\n",
    "\n",
    "print(X_train_aug.shape,Y_train_aug.shape, Y_color_train_aug.shape, Y_shape_train_aug.shape)\n",
    "print(X_test_aug.shape,Y_test_aug.shape, Y_color_test_aug.shape, Y_shape_test_aug.shape)"
   ]
  },
  {
   "cell_type": "markdown",
   "id": "7c653834",
   "metadata": {},
   "source": [
    "## Set Hyperparameters"
   ]
  },
  {
   "cell_type": "code",
   "execution_count": 23,
   "id": "11ca1ef0",
   "metadata": {},
   "outputs": [],
   "source": [
    "EMBEDDING_DIM = 100\n",
    "EPOCHS = 100\n",
    "DROPOUT = 0.2\n",
    "BATCH = 64\n",
    "INPUT_LEN = X_train_tcv.shape[1]\n",
    "EPOCHS_A = 50\n",
    "BATCH_A = 512"
   ]
  },
  {
   "cell_type": "markdown",
   "id": "28b3faa5",
   "metadata": {
    "id": "040cd7e7"
   },
   "source": [
    "# LSTM - full label"
   ]
  },
  {
   "cell_type": "code",
   "execution_count": 28,
   "id": "b65ab7ec",
   "metadata": {
    "id": "97b88308",
    "outputId": "bf4d1baf-ee86-40f8-fca3-b7b0be75f85f"
   },
   "outputs": [
    {
     "name": "stdout",
     "output_type": "stream",
     "text": [
      "Model: \"sequential_1\"\n",
      "_________________________________________________________________\n",
      "Layer (type)                 Output Shape              Param #   \n",
      "=================================================================\n",
      "embedding_1 (Embedding)      (None, 287, 100)          20000     \n",
      "_________________________________________________________________\n",
      "spatial_dropout1d_1 (Spatial (None, 287, 100)          0         \n",
      "_________________________________________________________________\n",
      "lstm_1 (LSTM)                (None, 128)               117248    \n",
      "_________________________________________________________________\n",
      "dense_1 (Dense)              (None, 23)                2967      \n",
      "=================================================================\n",
      "Total params: 140,215\n",
      "Trainable params: 140,215\n",
      "Non-trainable params: 0\n",
      "_________________________________________________________________\n",
      "None\n"
     ]
    }
   ],
   "source": [
    "lstm_l_cv = Sequential()\n",
    "lstm_l_cv.add(Embedding(MAX_NB_WORDS, EMBEDDING_DIM, input_length=INPUT_LEN))\n",
    "lstm_l_cv.add(SpatialDropout1D(DROPOUT))\n",
    "lstm_l_cv.add(LSTM(128))\n",
    "lstm_l_cv.add(Dense(Y_train_tcv.shape[1], activation='sigmoid'))\n",
    "lstm_l_cv.compile(loss='categorical_crossentropy', optimizer='adam', metrics=['accuracy'])\n",
    "print(lstm_l_cv.summary())"
   ]
  },
  {
   "cell_type": "code",
   "execution_count": 29,
   "id": "b4f95011",
   "metadata": {
    "id": "422c5e41",
    "outputId": "a48bedb1-fd59-415e-9423-59c8a34a168d",
    "scrolled": true
   },
   "outputs": [
    {
     "name": "stdout",
     "output_type": "stream",
     "text": [
      "Epoch 1/100\n",
      "7/7 [==============================] - 8s 599ms/step - loss: 3.1307 - accuracy: 0.0690 - val_loss: 3.1161 - val_accuracy: 0.1810\n",
      "Epoch 2/100\n",
      "7/7 [==============================] - 2s 355ms/step - loss: 3.0910 - accuracy: 0.1262 - val_loss: 3.0674 - val_accuracy: 0.0476\n",
      "Epoch 3/100\n",
      "7/7 [==============================] - 2s 355ms/step - loss: 3.0413 - accuracy: 0.0762 - val_loss: 3.0431 - val_accuracy: 0.0667\n",
      "Epoch 4/100\n",
      "7/7 [==============================] - 2s 356ms/step - loss: 3.0184 - accuracy: 0.1619 - val_loss: 3.0270 - val_accuracy: 0.1238\n",
      "Epoch 5/100\n",
      "7/7 [==============================] - 2s 351ms/step - loss: 2.9861 - accuracy: 0.1595 - val_loss: 3.0222 - val_accuracy: 0.1333\n",
      "Epoch 6/100\n",
      "7/7 [==============================] - 2s 319ms/step - loss: 2.9543 - accuracy: 0.1690 - val_loss: 2.9795 - val_accuracy: 0.0952\n",
      "Epoch 7/100\n",
      "7/7 [==============================] - 2s 325ms/step - loss: 2.9076 - accuracy: 0.2238 - val_loss: 2.9261 - val_accuracy: 0.2286\n",
      "Epoch 8/100\n",
      "7/7 [==============================] - 2s 328ms/step - loss: 2.8505 - accuracy: 0.2262 - val_loss: 2.8873 - val_accuracy: 0.1714\n",
      "Epoch 9/100\n",
      "7/7 [==============================] - 2s 315ms/step - loss: 2.7334 - accuracy: 0.3048 - val_loss: 2.8059 - val_accuracy: 0.2286\n",
      "Epoch 10/100\n",
      "7/7 [==============================] - 2s 308ms/step - loss: 2.5626 - accuracy: 0.3167 - val_loss: 2.6342 - val_accuracy: 0.2476\n",
      "Epoch 11/100\n",
      "7/7 [==============================] - 2s 299ms/step - loss: 2.4613 - accuracy: 0.2881 - val_loss: 2.5288 - val_accuracy: 0.3905\n",
      "Epoch 12/100\n",
      "7/7 [==============================] - 3s 368ms/step - loss: 2.4236 - accuracy: 0.4262 - val_loss: 2.4797 - val_accuracy: 0.3714\n",
      "Epoch 13/100\n",
      "7/7 [==============================] - 2s 357ms/step - loss: 2.1818 - accuracy: 0.4143 - val_loss: 2.3037 - val_accuracy: 0.3524\n",
      "Epoch 14/100\n",
      "7/7 [==============================] - 3s 376ms/step - loss: 1.9826 - accuracy: 0.4976 - val_loss: 2.1761 - val_accuracy: 0.3905\n",
      "Epoch 15/100\n",
      "7/7 [==============================] - 3s 389ms/step - loss: 1.7918 - accuracy: 0.5071 - val_loss: 1.9596 - val_accuracy: 0.4571\n",
      "Epoch 16/100\n",
      "7/7 [==============================] - 3s 373ms/step - loss: 1.6514 - accuracy: 0.5619 - val_loss: 1.8762 - val_accuracy: 0.5333\n",
      "Epoch 17/100\n",
      "7/7 [==============================] - 2s 284ms/step - loss: 1.4948 - accuracy: 0.6000 - val_loss: 1.7877 - val_accuracy: 0.4857\n",
      "Epoch 18/100\n",
      "7/7 [==============================] - 3s 399ms/step - loss: 1.3761 - accuracy: 0.6071 - val_loss: 1.6358 - val_accuracy: 0.6190\n",
      "Epoch 19/100\n",
      "7/7 [==============================] - 3s 393ms/step - loss: 1.2860 - accuracy: 0.6429 - val_loss: 1.6312 - val_accuracy: 0.5619\n",
      "Epoch 20/100\n",
      "7/7 [==============================] - 3s 388ms/step - loss: 1.1813 - accuracy: 0.6976 - val_loss: 1.5757 - val_accuracy: 0.5619\n",
      "Epoch 21/100\n",
      "7/7 [==============================] - 3s 380ms/step - loss: 1.7015 - accuracy: 0.5310 - val_loss: 1.8188 - val_accuracy: 0.5143\n",
      "Epoch 22/100\n",
      "7/7 [==============================] - 3s 387ms/step - loss: 1.5668 - accuracy: 0.6048 - val_loss: 1.7871 - val_accuracy: 0.5524\n",
      "Epoch 23/100\n",
      "7/7 [==============================] - 2s 293ms/step - loss: 1.4889 - accuracy: 0.6548 - val_loss: 1.7770 - val_accuracy: 0.5143\n",
      "Epoch 24/100\n",
      "7/7 [==============================] - 2s 360ms/step - loss: 1.3444 - accuracy: 0.6619 - val_loss: 1.7294 - val_accuracy: 0.5048\n",
      "Epoch 25/100\n",
      "7/7 [==============================] - 2s 332ms/step - loss: 1.2248 - accuracy: 0.6524 - val_loss: 1.6507 - val_accuracy: 0.5048\n",
      "Epoch 26/100\n",
      "7/7 [==============================] - 2s 359ms/step - loss: 1.1075 - accuracy: 0.6929 - val_loss: 1.5461 - val_accuracy: 0.5238\n",
      "Epoch 27/100\n",
      "7/7 [==============================] - 3s 395ms/step - loss: 1.0415 - accuracy: 0.7048 - val_loss: 1.4808 - val_accuracy: 0.5714\n",
      "Epoch 28/100\n",
      "7/7 [==============================] - 3s 373ms/step - loss: 0.9554 - accuracy: 0.7571 - val_loss: 1.4354 - val_accuracy: 0.6286\n",
      "Epoch 29/100\n",
      "7/7 [==============================] - 2s 352ms/step - loss: 0.8771 - accuracy: 0.7667 - val_loss: 1.3961 - val_accuracy: 0.6286\n",
      "Epoch 30/100\n",
      "7/7 [==============================] - 2s 277ms/step - loss: 0.8382 - accuracy: 0.7738 - val_loss: 1.4191 - val_accuracy: 0.6000\n",
      "Epoch 31/100\n",
      "7/7 [==============================] - 3s 507ms/step - loss: 0.7859 - accuracy: 0.8119 - val_loss: 1.3557 - val_accuracy: 0.6095\n",
      "Epoch 32/100\n",
      "7/7 [==============================] - 3s 381ms/step - loss: 0.7163 - accuracy: 0.8310 - val_loss: 1.3657 - val_accuracy: 0.6190\n",
      "Epoch 33/100\n",
      "7/7 [==============================] - 3s 395ms/step - loss: 0.6719 - accuracy: 0.8286 - val_loss: 1.3474 - val_accuracy: 0.6381\n",
      "Epoch 34/100\n",
      "7/7 [==============================] - 3s 396ms/step - loss: 0.6414 - accuracy: 0.8452 - val_loss: 1.3317 - val_accuracy: 0.5905\n",
      "Epoch 35/100\n",
      "7/7 [==============================] - 3s 397ms/step - loss: 0.6323 - accuracy: 0.8381 - val_loss: 1.3391 - val_accuracy: 0.6190\n",
      "Epoch 36/100\n",
      "7/7 [==============================] - 2s 264ms/step - loss: 0.5981 - accuracy: 0.8500 - val_loss: 1.3240 - val_accuracy: 0.6190\n",
      "Epoch 37/100\n",
      "7/7 [==============================] - 3s 416ms/step - loss: 0.5609 - accuracy: 0.8643 - val_loss: 1.3344 - val_accuracy: 0.6476\n",
      "Epoch 38/100\n",
      "7/7 [==============================] - 3s 396ms/step - loss: 0.5609 - accuracy: 0.8571 - val_loss: 1.3106 - val_accuracy: 0.6190\n",
      "Epoch 39/100\n",
      "7/7 [==============================] - 2s 365ms/step - loss: 0.4995 - accuracy: 0.8833 - val_loss: 1.2945 - val_accuracy: 0.6381\n",
      "Epoch 40/100\n",
      "7/7 [==============================] - 3s 391ms/step - loss: 0.4833 - accuracy: 0.8833 - val_loss: 1.2685 - val_accuracy: 0.6476\n",
      "Epoch 41/100\n",
      "7/7 [==============================] - 3s 381ms/step - loss: 0.4558 - accuracy: 0.8690 - val_loss: 1.3297 - val_accuracy: 0.6000\n",
      "Epoch 42/100\n",
      "7/7 [==============================] - 2s 283ms/step - loss: 0.4407 - accuracy: 0.8881 - val_loss: 1.3036 - val_accuracy: 0.6381\n",
      "Epoch 43/100\n",
      "7/7 [==============================] - 3s 383ms/step - loss: 0.4035 - accuracy: 0.9024 - val_loss: 1.3549 - val_accuracy: 0.6286\n",
      "Epoch 44/100\n",
      "7/7 [==============================] - 3s 392ms/step - loss: 0.3792 - accuracy: 0.9190 - val_loss: 1.3673 - val_accuracy: 0.6381\n",
      "Epoch 45/100\n",
      "7/7 [==============================] - 3s 393ms/step - loss: 0.3649 - accuracy: 0.9167 - val_loss: 1.3184 - val_accuracy: 0.6381\n",
      "Epoch 46/100\n",
      "7/7 [==============================] - 3s 369ms/step - loss: 0.3405 - accuracy: 0.9286 - val_loss: 1.3057 - val_accuracy: 0.6381\n",
      "Epoch 47/100\n",
      "7/7 [==============================] - 3s 385ms/step - loss: 0.3239 - accuracy: 0.9238 - val_loss: 1.3263 - val_accuracy: 0.6000\n",
      "Epoch 48/100\n",
      "7/7 [==============================] - 2s 324ms/step - loss: 0.3202 - accuracy: 0.9262 - val_loss: 1.3813 - val_accuracy: 0.6476\n",
      "Epoch 49/100\n",
      "7/7 [==============================] - 2s 356ms/step - loss: 0.3040 - accuracy: 0.9357 - val_loss: 1.3524 - val_accuracy: 0.6000\n",
      "Epoch 50/100\n",
      "7/7 [==============================] - 3s 395ms/step - loss: 0.3187 - accuracy: 0.9357 - val_loss: 1.3543 - val_accuracy: 0.6667\n",
      "Epoch 51/100\n",
      "7/7 [==============================] - 3s 391ms/step - loss: 0.2861 - accuracy: 0.9333 - val_loss: 1.2975 - val_accuracy: 0.6571\n",
      "Epoch 52/100\n",
      "7/7 [==============================] - 3s 393ms/step - loss: 0.2678 - accuracy: 0.9429 - val_loss: 1.3250 - val_accuracy: 0.6476\n",
      "Epoch 53/100\n",
      "7/7 [==============================] - 3s 389ms/step - loss: 0.2643 - accuracy: 0.9476 - val_loss: 1.5495 - val_accuracy: 0.5619\n",
      "Epoch 54/100\n",
      "7/7 [==============================] - 3s 373ms/step - loss: 0.3822 - accuracy: 0.8929 - val_loss: 1.4282 - val_accuracy: 0.6286\n",
      "Epoch 55/100\n",
      "7/7 [==============================] - 3s 444ms/step - loss: 0.3464 - accuracy: 0.9214 - val_loss: 1.2852 - val_accuracy: 0.6952\n",
      "Epoch 56/100\n",
      "7/7 [==============================] - 2s 341ms/step - loss: 0.2903 - accuracy: 0.9333 - val_loss: 1.2536 - val_accuracy: 0.6476\n",
      "Epoch 57/100\n",
      "7/7 [==============================] - ETA: 0s - loss: 0.2522 - accuracy: 0.95 - 2s 304ms/step - loss: 0.2522 - accuracy: 0.9500 - val_loss: 1.3162 - val_accuracy: 0.6476\n",
      "Epoch 58/100\n",
      "7/7 [==============================] - 2s 336ms/step - loss: 0.2384 - accuracy: 0.9548 - val_loss: 1.3397 - val_accuracy: 0.6857\n",
      "Epoch 59/100\n",
      "7/7 [==============================] - 2s 331ms/step - loss: 0.2255 - accuracy: 0.9548 - val_loss: 1.4066 - val_accuracy: 0.6571\n",
      "Epoch 60/100\n",
      "7/7 [==============================] - 2s 343ms/step - loss: 0.2156 - accuracy: 0.9548 - val_loss: 1.2715 - val_accuracy: 0.6476\n",
      "Epoch 61/100\n",
      "7/7 [==============================] - 2s 285ms/step - loss: 0.2102 - accuracy: 0.9595 - val_loss: 1.4892 - val_accuracy: 0.6381\n",
      "Epoch 62/100\n",
      "7/7 [==============================] - 3s 391ms/step - loss: 0.1993 - accuracy: 0.9690 - val_loss: 1.3963 - val_accuracy: 0.6571\n",
      "Epoch 63/100\n",
      "7/7 [==============================] - 2s 363ms/step - loss: 0.1782 - accuracy: 0.9667 - val_loss: 1.3398 - val_accuracy: 0.6667\n",
      "Epoch 64/100\n",
      "7/7 [==============================] - 3s 381ms/step - loss: 0.1788 - accuracy: 0.9762 - val_loss: 1.3882 - val_accuracy: 0.6762\n",
      "Epoch 65/100\n",
      "7/7 [==============================] - 3s 395ms/step - loss: 0.1633 - accuracy: 0.9714 - val_loss: 1.4078 - val_accuracy: 0.6571\n",
      "Epoch 66/100\n",
      "7/7 [==============================] - 3s 380ms/step - loss: 0.1571 - accuracy: 0.9714 - val_loss: 1.4517 - val_accuracy: 0.6476\n",
      "Epoch 67/100\n",
      "7/7 [==============================] - 3s 365ms/step - loss: 0.1464 - accuracy: 0.9714 - val_loss: 1.4049 - val_accuracy: 0.6762\n",
      "Epoch 68/100\n",
      "7/7 [==============================] - 2s 371ms/step - loss: 0.1443 - accuracy: 0.9810 - val_loss: 1.5026 - val_accuracy: 0.6476\n",
      "Epoch 69/100\n",
      "7/7 [==============================] - 3s 372ms/step - loss: 0.1323 - accuracy: 0.9810 - val_loss: 1.5254 - val_accuracy: 0.6571\n",
      "Epoch 70/100\n",
      "7/7 [==============================] - 2s 351ms/step - loss: 0.1310 - accuracy: 0.9833 - val_loss: 1.4438 - val_accuracy: 0.6667\n",
      "Epoch 71/100\n",
      "7/7 [==============================] - 2s 347ms/step - loss: 0.1331 - accuracy: 0.9810 - val_loss: 1.4985 - val_accuracy: 0.6571\n",
      "Epoch 72/100\n",
      "7/7 [==============================] - 2s 344ms/step - loss: 0.1149 - accuracy: 0.9857 - val_loss: 1.5102 - val_accuracy: 0.6571\n",
      "Epoch 73/100\n",
      "7/7 [==============================] - 2s 348ms/step - loss: 0.1206 - accuracy: 0.9810 - val_loss: 1.4843 - val_accuracy: 0.6571\n",
      "Epoch 74/100\n",
      "7/7 [==============================] - 2s 292ms/step - loss: 0.1139 - accuracy: 0.9881 - val_loss: 1.5649 - val_accuracy: 0.6476\n",
      "Epoch 75/100\n",
      "7/7 [==============================] - 3s 379ms/step - loss: 0.1213 - accuracy: 0.9810 - val_loss: 1.5632 - val_accuracy: 0.6381\n",
      "Epoch 76/100\n",
      "7/7 [==============================] - 2s 343ms/step - loss: 0.1030 - accuracy: 0.9833 - val_loss: 1.5397 - val_accuracy: 0.6762\n",
      "Epoch 77/100\n",
      "7/7 [==============================] - 3s 392ms/step - loss: 0.1099 - accuracy: 0.9810 - val_loss: 1.4988 - val_accuracy: 0.6476\n",
      "Epoch 78/100\n",
      "7/7 [==============================] - 3s 397ms/step - loss: 0.1025 - accuracy: 0.9857 - val_loss: 1.6075 - val_accuracy: 0.6381\n",
      "Epoch 79/100\n",
      "7/7 [==============================] - 3s 399ms/step - loss: 0.1118 - accuracy: 0.9857 - val_loss: 1.6319 - val_accuracy: 0.6476\n",
      "Epoch 80/100\n",
      "7/7 [==============================] - 2s 341ms/step - loss: 0.1077 - accuracy: 0.9833 - val_loss: 1.4819 - val_accuracy: 0.6667\n",
      "Epoch 81/100\n",
      "7/7 [==============================] - 3s 383ms/step - loss: 0.1050 - accuracy: 0.9857 - val_loss: 1.5430 - val_accuracy: 0.6476\n",
      "Epoch 82/100\n",
      "7/7 [==============================] - 3s 389ms/step - loss: 0.1054 - accuracy: 0.9762 - val_loss: 1.6271 - val_accuracy: 0.6381\n",
      "Epoch 83/100\n",
      "7/7 [==============================] - 3s 389ms/step - loss: 0.0960 - accuracy: 0.9833 - val_loss: 1.5411 - val_accuracy: 0.6857\n",
      "Epoch 84/100\n",
      "7/7 [==============================] - 3s 392ms/step - loss: 0.0860 - accuracy: 0.9857 - val_loss: 1.5019 - val_accuracy: 0.6667\n",
      "Epoch 85/100\n",
      "7/7 [==============================] - 3s 388ms/step - loss: 0.0847 - accuracy: 0.9905 - val_loss: 1.5996 - val_accuracy: 0.6571\n",
      "Epoch 86/100\n",
      "7/7 [==============================] - 3s 364ms/step - loss: 0.0805 - accuracy: 0.9929 - val_loss: 1.6235 - val_accuracy: 0.6476\n",
      "Epoch 87/100\n",
      "7/7 [==============================] - 2s 349ms/step - loss: 0.0745 - accuracy: 0.9952 - val_loss: 1.6534 - val_accuracy: 0.6667\n",
      "Epoch 88/100\n",
      "7/7 [==============================] - 3s 392ms/step - loss: 0.0774 - accuracy: 0.9881 - val_loss: 1.5867 - val_accuracy: 0.7048\n",
      "Epoch 89/100\n",
      "7/7 [==============================] - 3s 396ms/step - loss: 0.0734 - accuracy: 0.9905 - val_loss: 1.5702 - val_accuracy: 0.6762\n",
      "Epoch 90/100\n",
      "7/7 [==============================] - 3s 393ms/step - loss: 0.0670 - accuracy: 0.9929 - val_loss: 1.5916 - val_accuracy: 0.6952\n",
      "Epoch 91/100\n",
      "7/7 [==============================] - 3s 393ms/step - loss: 0.0788 - accuracy: 0.9833 - val_loss: 1.6125 - val_accuracy: 0.6571\n",
      "Epoch 92/100\n",
      "7/7 [==============================] - 3s 377ms/step - loss: 0.0741 - accuracy: 0.9929 - val_loss: 1.6338 - val_accuracy: 0.6381\n",
      "Epoch 93/100\n",
      "7/7 [==============================] - 2s 299ms/step - loss: 0.0705 - accuracy: 0.9857 - val_loss: 1.6204 - val_accuracy: 0.6762\n",
      "Epoch 94/100\n",
      "7/7 [==============================] - 3s 392ms/step - loss: 0.0661 - accuracy: 0.9976 - val_loss: 1.6680 - val_accuracy: 0.6571\n",
      "Epoch 95/100\n",
      "7/7 [==============================] - 3s 383ms/step - loss: 0.0638 - accuracy: 0.9952 - val_loss: 1.6341 - val_accuracy: 0.6667\n",
      "Epoch 96/100\n",
      "7/7 [==============================] - 3s 387ms/step - loss: 0.0589 - accuracy: 0.9976 - val_loss: 1.6634 - val_accuracy: 0.6381\n",
      "Epoch 97/100\n",
      "7/7 [==============================] - 3s 379ms/step - loss: 0.0618 - accuracy: 0.9929 - val_loss: 1.6569 - val_accuracy: 0.6381\n",
      "Epoch 98/100\n",
      "7/7 [==============================] - 3s 379ms/step - loss: 0.0643 - accuracy: 0.9905 - val_loss: 1.7011 - val_accuracy: 0.6667\n",
      "Epoch 99/100\n",
      "7/7 [==============================] - 2s 269ms/step - loss: 0.0613 - accuracy: 0.9929 - val_loss: 1.6849 - val_accuracy: 0.6762\n",
      "Epoch 100/100\n",
      "7/7 [==============================] - 3s 431ms/step - loss: 0.0667 - accuracy: 0.9905 - val_loss: 1.6052 - val_accuracy: 0.6667\n"
     ]
    }
   ],
   "source": [
    "history_lstm_l_cv = lstm_l_cv.fit(X_train_tcv, Y_train_tcv, epochs=EPOCHS, \n",
    "                    batch_size=BATCH,validation_data=(X_test_tcv,Y_test_tcv))"
   ]
  },
  {
   "cell_type": "code",
   "execution_count": 30,
   "id": "00282ff4",
   "metadata": {
    "id": "62f10640",
    "outputId": "e8506577-e842-43a1-b85c-e93e89f1c7b8"
   },
   "outputs": [
    {
     "data": {
      "image/png": "[encoded data removed]",
      "text/plain": [
       "<Figure size 432x288 with 1 Axes>"
      ]
     },
     "metadata": {
      "needs_background": "light"
     },
     "output_type": "display_data"
    },
    {
     "data": {
      "image/png": "[encoded data removed]",
      "text/plain": [
       "<Figure size 432x288 with 1 Axes>"
      ]
     },
     "metadata": {
      "needs_background": "light"
     },
     "output_type": "display_data"
    }
   ],
   "source": [
    "plt.title('Loss')\n",
    "plt.plot(history_lstm_l_cv.history['loss'], label='train')\n",
    "plt.plot(history_lstm_l_cv.history['val_loss'], label='val')\n",
    "plt.legend()\n",
    "plt.show();\n",
    "\n",
    "plt.title('Accuracy')\n",
    "plt.plot(history_lstm_l_cv.history['accuracy'], label='train')\n",
    "plt.plot(history_lstm_l_cv.history['val_accuracy'], label='val')\n",
    "plt.legend()\n",
    "plt.show();"
   ]
  },
  {
   "cell_type": "code",
   "execution_count": 31,
   "id": "a6640ba5",
   "metadata": {
    "id": "88ffe807",
    "outputId": "eb120936-ad3e-4dcd-eaec-110fbf78690a"
   },
   "outputs": [
    {
     "name": "stdout",
     "output_type": "stream",
     "text": [
      "4/4 [==============================] - 0s 56ms/step - loss: 1.6052 - accuracy: 0.6667\n",
      "Test set\n",
      "  Loss: 1.605\n",
      "  Accuracy: 0.667\n"
     ]
    }
   ],
   "source": [
    "accr = lstm_l_cv.evaluate(X_test_tcv,Y_test_tcv)\n",
    "print('Test set\\n  Loss: {:0.3f}\\n  Accuracy: {:0.3f}'.format(accr[0],accr[1]))"
   ]
  },
  {
   "cell_type": "code",
   "execution_count": 33,
   "id": "dbb4b456",
   "metadata": {
    "id": "14c69ae1",
    "outputId": "1ba6542a-b2f4-4a72-f398-bbcf7e10d20b"
   },
   "outputs": [
    {
     "name": "stdout",
     "output_type": "stream",
     "text": [
      "wooden p\n"
     ]
    }
   ],
   "source": [
    "# test with new data\n",
    "new_text = ['we are looking for the brown no dark wooden piece that shape like l']\n",
    "seq = loaded_tokenizer.texts_to_sequences(new_text)\n",
    "padded = pad_sequences(seq, maxlen=MAX_SEQUENCE_LENGTH)\n",
    "pred = lstm_l_cv.predict(padded)\n",
    "print(label_list[np.argmax(pred)])"
   ]
  },
  {
   "cell_type": "code",
   "execution_count": 34,
   "id": "2b060fa9",
   "metadata": {},
   "outputs": [],
   "source": [
    "lstm_l_cv.save(\"lstm_l_cv.h5\")"
   ]
  },
  {
   "cell_type": "markdown",
   "id": "22b74ad2",
   "metadata": {},
   "source": [
    "# LSTM - color"
   ]
  },
  {
   "cell_type": "code",
   "execution_count": 24,
   "id": "87c40097",
   "metadata": {},
   "outputs": [
    {
     "name": "stdout",
     "output_type": "stream",
     "text": [
      "Model: \"sequential\"\n",
      "_________________________________________________________________\n",
      "Layer (type)                 Output Shape              Param #   \n",
      "=================================================================\n",
      "embedding (Embedding)        (None, 287, 100)          20000     \n",
      "_________________________________________________________________\n",
      "spatial_dropout1d (SpatialDr (None, 287, 100)          0         \n",
      "_________________________________________________________________\n",
      "lstm (LSTM)                  (None, 128)               117248    \n",
      "_________________________________________________________________\n",
      "dense (Dense)                (None, 9)                 1161      \n",
      "=================================================================\n",
      "Total params: 138,409\n",
      "Trainable params: 138,409\n",
      "Non-trainable params: 0\n",
      "_________________________________________________________________\n",
      "None\n"
     ]
    }
   ],
   "source": [
    "lstm_c_cv = Sequential()\n",
    "lstm_c_cv.add(Embedding(MAX_NB_WORDS, EMBEDDING_DIM, input_length=INPUT_LEN))\n",
    "lstm_c_cv.add(SpatialDropout1D(DROPOUT))\n",
    "lstm_c_cv.add(LSTM(128))\n",
    "lstm_c_cv.add(Dense(Y_color_train_tcv.shape[1], activation='sigmoid'))\n",
    "lstm_c_cv.compile(loss='categorical_crossentropy', optimizer='adam', metrics=['accuracy'])\n",
    "print(lstm_c_cv.summary())"
   ]
  },
  {
   "cell_type": "code",
   "execution_count": 25,
   "id": "6553220a",
   "metadata": {
    "scrolled": true
   },
   "outputs": [
    {
     "name": "stdout",
     "output_type": "stream",
     "text": [
      "Epoch 1/100\n",
      "7/7 [==============================] - 5s 409ms/step - loss: 2.1768 - accuracy: 0.2381 - val_loss: 2.1166 - val_accuracy: 0.2952\n",
      "Epoch 2/100\n",
      "7/7 [==============================] - 2s 228ms/step - loss: 2.0540 - accuracy: 0.2905 - val_loss: 2.0758 - val_accuracy: 0.2952\n",
      "Epoch 3/100\n",
      "7/7 [==============================] - 2s 227ms/step - loss: 2.0273 - accuracy: 0.2095 - val_loss: 2.0945 - val_accuracy: 0.2952\n",
      "Epoch 4/100\n",
      "7/7 [==============================] - 2s 240ms/step - loss: 1.9809 - accuracy: 0.3238 - val_loss: 2.0679 - val_accuracy: 0.2952\n",
      "Epoch 5/100\n",
      "7/7 [==============================] - 2s 226ms/step - loss: 1.9508 - accuracy: 0.2905 - val_loss: 1.9974 - val_accuracy: 0.2952\n",
      "Epoch 6/100\n",
      "7/7 [==============================] - 2s 229ms/step - loss: 1.9150 - accuracy: 0.2905 - val_loss: 1.9500 - val_accuracy: 0.2952\n",
      "Epoch 7/100\n",
      "7/7 [==============================] - 2s 242ms/step - loss: 1.8516 - accuracy: 0.2976 - val_loss: 1.8883 - val_accuracy: 0.3048\n",
      "Epoch 8/100\n",
      "7/7 [==============================] - 2s 238ms/step - loss: 1.7626 - accuracy: 0.3595 - val_loss: 1.7673 - val_accuracy: 0.4286\n",
      "Epoch 9/100\n",
      "7/7 [==============================] - 2s 235ms/step - loss: 1.6299 - accuracy: 0.4500 - val_loss: 1.6698 - val_accuracy: 0.4381\n",
      "Epoch 10/100\n",
      "7/7 [==============================] - 2s 326ms/step - loss: 1.4519 - accuracy: 0.5095 - val_loss: 1.4846 - val_accuracy: 0.4857\n",
      "Epoch 11/100\n",
      "7/7 [==============================] - 2s 228ms/step - loss: 1.2819 - accuracy: 0.5786 - val_loss: 1.6174 - val_accuracy: 0.4857\n",
      "Epoch 12/100\n",
      "7/7 [==============================] - 2s 229ms/step - loss: 1.2367 - accuracy: 0.6095 - val_loss: 1.2821 - val_accuracy: 0.6000\n",
      "Epoch 13/100\n",
      "7/7 [==============================] - 2s 234ms/step - loss: 1.1000 - accuracy: 0.7024 - val_loss: 1.2620 - val_accuracy: 0.6286\n",
      "Epoch 14/100\n",
      "7/7 [==============================] - 2s 230ms/step - loss: 0.9798 - accuracy: 0.7405 - val_loss: 1.0918 - val_accuracy: 0.6381\n",
      "Epoch 15/100\n",
      "7/7 [==============================] - 2s 229ms/step - loss: 0.8943 - accuracy: 0.7405 - val_loss: 1.0624 - val_accuracy: 0.6857\n",
      "Epoch 16/100\n",
      "7/7 [==============================] - 2s 232ms/step - loss: 0.8320 - accuracy: 0.7619 - val_loss: 0.9658 - val_accuracy: 0.6952\n",
      "Epoch 17/100\n",
      "7/7 [==============================] - 2s 276ms/step - loss: 0.7363 - accuracy: 0.7929 - val_loss: 0.8959 - val_accuracy: 0.7333\n",
      "Epoch 18/100\n",
      "7/7 [==============================] - 2s 303ms/step - loss: 0.6669 - accuracy: 0.7952 - val_loss: 0.9158 - val_accuracy: 0.7333\n",
      "Epoch 19/100\n",
      "7/7 [==============================] - 3s 382ms/step - loss: 0.6281 - accuracy: 0.8190 - val_loss: 0.7730 - val_accuracy: 0.7905\n",
      "Epoch 20/100\n",
      "7/7 [==============================] - 2s 296ms/step - loss: 0.5729 - accuracy: 0.8381 - val_loss: 0.7214 - val_accuracy: 0.8000\n",
      "Epoch 21/100\n",
      "7/7 [==============================] - 2s 294ms/step - loss: 0.5108 - accuracy: 0.8571 - val_loss: 0.6649 - val_accuracy: 0.8095\n",
      "Epoch 22/100\n",
      "7/7 [==============================] - 2s 297ms/step - loss: 0.4655 - accuracy: 0.8714 - val_loss: 0.7189 - val_accuracy: 0.8095\n",
      "Epoch 23/100\n",
      "7/7 [==============================] - 2s 298ms/step - loss: 0.4575 - accuracy: 0.8714 - val_loss: 0.5701 - val_accuracy: 0.8667\n",
      "Epoch 24/100\n",
      "7/7 [==============================] - 2s 297ms/step - loss: 0.4428 - accuracy: 0.8786 - val_loss: 0.5878 - val_accuracy: 0.8667\n",
      "Epoch 25/100\n",
      "7/7 [==============================] - 2s 298ms/step - loss: 0.4112 - accuracy: 0.8762 - val_loss: 0.6394 - val_accuracy: 0.8571\n",
      "Epoch 26/100\n",
      "7/7 [==============================] - 2s 338ms/step - loss: 0.4343 - accuracy: 0.8667 - val_loss: 0.5845 - val_accuracy: 0.8667\n",
      "Epoch 27/100\n",
      "7/7 [==============================] - 4s 575ms/step - loss: 0.4108 - accuracy: 0.8857 - val_loss: 0.5729 - val_accuracy: 0.8667\n",
      "Epoch 28/100\n",
      "7/7 [==============================] - 2s 309ms/step - loss: 0.3448 - accuracy: 0.9024 - val_loss: 0.5819 - val_accuracy: 0.8667\n",
      "Epoch 29/100\n",
      "7/7 [==============================] - 2s 310ms/step - loss: 0.3161 - accuracy: 0.9143 - val_loss: 0.5208 - val_accuracy: 0.8476\n",
      "Epoch 30/100\n",
      "7/7 [==============================] - 2s 297ms/step - loss: 0.2875 - accuracy: 0.9357 - val_loss: 0.4557 - val_accuracy: 0.8762\n",
      "Epoch 31/100\n",
      "7/7 [==============================] - 2s 304ms/step - loss: 0.2708 - accuracy: 0.9452 - val_loss: 0.5231 - val_accuracy: 0.8667\n",
      "Epoch 32/100\n",
      "7/7 [==============================] - 2s 307ms/step - loss: 0.2378 - accuracy: 0.9500 - val_loss: 0.4192 - val_accuracy: 0.9048\n",
      "Epoch 33/100\n",
      "7/7 [==============================] - 3s 403ms/step - loss: 0.2218 - accuracy: 0.9667 - val_loss: 0.4195 - val_accuracy: 0.8857\n",
      "Epoch 34/100\n",
      "7/7 [==============================] - 3s 420ms/step - loss: 0.1927 - accuracy: 0.9667 - val_loss: 0.4147 - val_accuracy: 0.8762\n",
      "Epoch 35/100\n",
      "7/7 [==============================] - 2s 307ms/step - loss: 0.1872 - accuracy: 0.9619 - val_loss: 0.4577 - val_accuracy: 0.8762\n",
      "Epoch 36/100\n",
      "7/7 [==============================] - 2s 340ms/step - loss: 0.1701 - accuracy: 0.9738 - val_loss: 0.4784 - val_accuracy: 0.8857\n",
      "Epoch 37/100\n",
      "7/7 [==============================] - 2s 323ms/step - loss: 0.1564 - accuracy: 0.9690 - val_loss: 0.4093 - val_accuracy: 0.8952\n",
      "Epoch 38/100\n",
      "7/7 [==============================] - 2s 332ms/step - loss: 0.1540 - accuracy: 0.9690 - val_loss: 0.3207 - val_accuracy: 0.9048\n",
      "Epoch 39/100\n",
      "7/7 [==============================] - 2s 341ms/step - loss: 0.1710 - accuracy: 0.9500 - val_loss: 0.3638 - val_accuracy: 0.9238\n",
      "Epoch 40/100\n",
      "7/7 [==============================] - 4s 615ms/step - loss: 0.1722 - accuracy: 0.9643 - val_loss: 0.3171 - val_accuracy: 0.9333\n",
      "Epoch 41/100\n",
      "7/7 [==============================] - 3s 371ms/step - loss: 0.1363 - accuracy: 0.9738 - val_loss: 0.3158 - val_accuracy: 0.8762\n",
      "Epoch 42/100\n",
      "7/7 [==============================] - 2s 340ms/step - loss: 0.1344 - accuracy: 0.9690 - val_loss: 0.3197 - val_accuracy: 0.9143\n",
      "Epoch 43/100\n",
      "7/7 [==============================] - 2s 324ms/step - loss: 0.1086 - accuracy: 0.9833 - val_loss: 0.3175 - val_accuracy: 0.9048\n",
      "Epoch 44/100\n",
      "7/7 [==============================] - 2s 329ms/step - loss: 0.1034 - accuracy: 0.9786 - val_loss: 0.3399 - val_accuracy: 0.9238\n",
      "Epoch 45/100\n",
      "7/7 [==============================] - 3s 367ms/step - loss: 0.0852 - accuracy: 0.9905 - val_loss: 0.3108 - val_accuracy: 0.9333\n",
      "Epoch 46/100\n",
      "7/7 [==============================] - 4s 605ms/step - loss: 0.0755 - accuracy: 0.9905 - val_loss: 0.2965 - val_accuracy: 0.9333\n",
      "Epoch 47/100\n",
      "7/7 [==============================] - 2s 331ms/step - loss: 0.0737 - accuracy: 0.9857 - val_loss: 0.3032 - val_accuracy: 0.9238\n",
      "Epoch 48/100\n",
      "7/7 [==============================] - 2s 316ms/step - loss: 0.0664 - accuracy: 0.9929 - val_loss: 0.2981 - val_accuracy: 0.9238\n",
      "Epoch 49/100\n",
      "7/7 [==============================] - 2s 318ms/step - loss: 0.1000 - accuracy: 0.9810 - val_loss: 0.3146 - val_accuracy: 0.9333\n",
      "Epoch 50/100\n",
      "7/7 [==============================] - 2s 315ms/step - loss: 0.1813 - accuracy: 0.9643 - val_loss: 0.3834 - val_accuracy: 0.8952\n",
      "Epoch 51/100\n",
      "7/7 [==============================] - 2s 322ms/step - loss: 0.1893 - accuracy: 0.9571 - val_loss: 0.3540 - val_accuracy: 0.9143\n",
      "Epoch 52/100\n",
      "7/7 [==============================] - 3s 474ms/step - loss: 0.1539 - accuracy: 0.9548 - val_loss: 0.3673 - val_accuracy: 0.9143\n",
      "Epoch 53/100\n",
      "7/7 [==============================] - 3s 394ms/step - loss: 0.1078 - accuracy: 0.9714 - val_loss: 0.3289 - val_accuracy: 0.9143\n",
      "Epoch 54/100\n",
      "7/7 [==============================] - 2s 347ms/step - loss: 0.0829 - accuracy: 0.9762 - val_loss: 0.2948 - val_accuracy: 0.9143\n",
      "Epoch 55/100\n",
      "7/7 [==============================] - 2s 336ms/step - loss: 0.0679 - accuracy: 0.9905 - val_loss: 0.2705 - val_accuracy: 0.9238\n",
      "Epoch 56/100\n",
      "7/7 [==============================] - 2s 345ms/step - loss: 0.0576 - accuracy: 0.9929 - val_loss: 0.2759 - val_accuracy: 0.9238\n",
      "Epoch 57/100\n",
      "7/7 [==============================] - 2s 349ms/step - loss: 0.0505 - accuracy: 0.9929 - val_loss: 0.2863 - val_accuracy: 0.9238\n",
      "Epoch 58/100\n",
      "7/7 [==============================] - 3s 421ms/step - loss: 0.0417 - accuracy: 0.9976 - val_loss: 0.2833 - val_accuracy: 0.9238\n"
     ]
    },
    {
     "name": "stdout",
     "output_type": "stream",
     "text": [
      "Epoch 59/100\n",
      "7/7 [==============================] - 3s 428ms/step - loss: 0.0329 - accuracy: 1.0000 - val_loss: 0.2956 - val_accuracy: 0.9143\n",
      "Epoch 60/100\n",
      "7/7 [==============================] - 2s 328ms/step - loss: 0.0438 - accuracy: 0.9905 - val_loss: 0.3265 - val_accuracy: 0.9143\n",
      "Epoch 61/100\n",
      "7/7 [==============================] - 2s 324ms/step - loss: 0.0326 - accuracy: 0.9952 - val_loss: 0.2954 - val_accuracy: 0.9143\n",
      "Epoch 62/100\n",
      "7/7 [==============================] - 2s 342ms/step - loss: 0.0807 - accuracy: 0.9857 - val_loss: 0.2679 - val_accuracy: 0.9238\n",
      "Epoch 63/100\n",
      "7/7 [==============================] - 2s 342ms/step - loss: 0.0982 - accuracy: 0.9738 - val_loss: 0.2507 - val_accuracy: 0.9333\n",
      "Epoch 64/100\n",
      "7/7 [==============================] - 3s 403ms/step - loss: 0.0387 - accuracy: 0.9976 - val_loss: 0.3664 - val_accuracy: 0.9048\n",
      "Epoch 65/100\n",
      "7/7 [==============================] - 4s 557ms/step - loss: 0.0622 - accuracy: 0.9881 - val_loss: 0.3221 - val_accuracy: 0.9238\n",
      "Epoch 66/100\n",
      "7/7 [==============================] - 2s 331ms/step - loss: 0.0410 - accuracy: 0.9881 - val_loss: 0.3240 - val_accuracy: 0.9143\n",
      "Epoch 67/100\n",
      "7/7 [==============================] - 2s 333ms/step - loss: 0.0446 - accuracy: 0.9857 - val_loss: 0.2566 - val_accuracy: 0.9238\n",
      "Epoch 68/100\n",
      "7/7 [==============================] - 2s 326ms/step - loss: 0.0319 - accuracy: 0.9976 - val_loss: 0.2559 - val_accuracy: 0.9143\n",
      "Epoch 69/100\n",
      "7/7 [==============================] - 2s 332ms/step - loss: 0.0265 - accuracy: 1.0000 - val_loss: 0.3250 - val_accuracy: 0.9048\n",
      "Epoch 70/100\n",
      "7/7 [==============================] - 3s 398ms/step - loss: 0.0268 - accuracy: 1.0000 - val_loss: 0.3745 - val_accuracy: 0.9048\n",
      "Epoch 71/100\n",
      "7/7 [==============================] - 4s 613ms/step - loss: 0.0316 - accuracy: 0.9976 - val_loss: 0.2521 - val_accuracy: 0.9143\n",
      "Epoch 72/100\n",
      "7/7 [==============================] - 2s 352ms/step - loss: 0.0694 - accuracy: 0.9833 - val_loss: 0.2916 - val_accuracy: 0.9143\n",
      "Epoch 73/100\n",
      "7/7 [==============================] - 2s 330ms/step - loss: 0.0290 - accuracy: 1.0000 - val_loss: 0.3300 - val_accuracy: 0.9143\n",
      "Epoch 74/100\n",
      "7/7 [==============================] - 2s 325ms/step - loss: 0.0355 - accuracy: 0.9976 - val_loss: 0.3429 - val_accuracy: 0.9143\n",
      "Epoch 75/100\n",
      "7/7 [==============================] - 2s 324ms/step - loss: 0.0292 - accuracy: 0.9976 - val_loss: 0.3360 - val_accuracy: 0.9143\n",
      "Epoch 76/100\n",
      "7/7 [==============================] - 2s 343ms/step - loss: 0.0253 - accuracy: 1.0000 - val_loss: 0.3321 - val_accuracy: 0.9143\n",
      "Epoch 77/100\n",
      "7/7 [==============================] - 3s 394ms/step - loss: 0.0240 - accuracy: 1.0000 - val_loss: 0.3445 - val_accuracy: 0.9143\n",
      "Epoch 78/100\n",
      "7/7 [==============================] - 2s 327ms/step - loss: 0.0210 - accuracy: 1.0000 - val_loss: 0.3463 - val_accuracy: 0.9143\n",
      "Epoch 79/100\n",
      "7/7 [==============================] - 2s 328ms/step - loss: 0.0197 - accuracy: 0.9976 - val_loss: 0.3544 - val_accuracy: 0.9143\n",
      "Epoch 80/100\n",
      "7/7 [==============================] - 2s 328ms/step - loss: 0.0189 - accuracy: 0.9976 - val_loss: 0.3636 - val_accuracy: 0.9143\n",
      "Epoch 81/100\n",
      "7/7 [==============================] - 2s 332ms/step - loss: 0.0201 - accuracy: 0.9976 - val_loss: 0.4819 - val_accuracy: 0.8857\n",
      "Epoch 82/100\n",
      "7/7 [==============================] - 2s 326ms/step - loss: 0.0366 - accuracy: 0.9929 - val_loss: 0.3742 - val_accuracy: 0.8952\n",
      "Epoch 83/100\n",
      "7/7 [==============================] - 3s 421ms/step - loss: 0.0207 - accuracy: 0.9952 - val_loss: 0.3800 - val_accuracy: 0.8952\n",
      "Epoch 84/100\n",
      "7/7 [==============================] - 3s 453ms/step - loss: 0.0187 - accuracy: 1.0000 - val_loss: 0.3734 - val_accuracy: 0.9143\n",
      "Epoch 85/100\n",
      "7/7 [==============================] - 2s 329ms/step - loss: 0.0135 - accuracy: 1.0000 - val_loss: 0.3687 - val_accuracy: 0.9143\n",
      "Epoch 86/100\n",
      "7/7 [==============================] - 2s 329ms/step - loss: 0.0145 - accuracy: 1.0000 - val_loss: 0.3739 - val_accuracy: 0.9048\n",
      "Epoch 87/100\n",
      "7/7 [==============================] - 2s 328ms/step - loss: 0.0152 - accuracy: 1.0000 - val_loss: 0.3983 - val_accuracy: 0.9048\n",
      "Epoch 88/100\n",
      "7/7 [==============================] - 2s 329ms/step - loss: 0.0130 - accuracy: 0.9976 - val_loss: 0.4118 - val_accuracy: 0.9048\n",
      "Epoch 89/100\n",
      "7/7 [==============================] - 2s 347ms/step - loss: 0.0127 - accuracy: 1.0000 - val_loss: 0.4234 - val_accuracy: 0.9048\n",
      "Epoch 90/100\n",
      "7/7 [==============================] - 3s 396ms/step - loss: 0.0487 - accuracy: 0.9929 - val_loss: 0.5937 - val_accuracy: 0.9048\n",
      "Epoch 91/100\n",
      "7/7 [==============================] - 2s 327ms/step - loss: 0.1160 - accuracy: 0.9738 - val_loss: 0.4218 - val_accuracy: 0.9048\n",
      "Epoch 92/100\n",
      "7/7 [==============================] - 2s 329ms/step - loss: 0.0458 - accuracy: 0.9905 - val_loss: 0.3665 - val_accuracy: 0.9048\n",
      "Epoch 93/100\n",
      "7/7 [==============================] - 2s 328ms/step - loss: 0.0817 - accuracy: 0.9810 - val_loss: 0.5257 - val_accuracy: 0.9143\n",
      "Epoch 94/100\n",
      "7/7 [==============================] - 2s 348ms/step - loss: 0.0396 - accuracy: 0.9905 - val_loss: 0.4544 - val_accuracy: 0.9048\n",
      "Epoch 95/100\n",
      "7/7 [==============================] - 2s 349ms/step - loss: 0.0248 - accuracy: 0.9976 - val_loss: 0.4112 - val_accuracy: 0.9048\n",
      "Epoch 96/100\n",
      "7/7 [==============================] - 3s 460ms/step - loss: 0.0213 - accuracy: 0.9976 - val_loss: 0.4031 - val_accuracy: 0.9048\n",
      "Epoch 97/100\n",
      "7/7 [==============================] - 3s 428ms/step - loss: 0.0194 - accuracy: 0.9976 - val_loss: 0.4051 - val_accuracy: 0.9048\n",
      "Epoch 98/100\n",
      "7/7 [==============================] - 3s 362ms/step - loss: 0.0152 - accuracy: 1.0000 - val_loss: 0.4096 - val_accuracy: 0.9048\n",
      "Epoch 99/100\n",
      "7/7 [==============================] - 2s 331ms/step - loss: 0.0128 - accuracy: 1.0000 - val_loss: 0.4180 - val_accuracy: 0.9048\n",
      "Epoch 100/100\n",
      "7/7 [==============================] - 2s 335ms/step - loss: 0.0126 - accuracy: 1.0000 - val_loss: 0.4176 - val_accuracy: 0.9048\n"
     ]
    }
   ],
   "source": [
    "history_lstm_c_cv = lstm_c_cv.fit(X_train_tcv, Y_color_train_tcv, epochs=EPOCHS, \n",
    "                    batch_size=BATCH,validation_data=(X_test_tcv,Y_color_test_tcv))"
   ]
  },
  {
   "cell_type": "code",
   "execution_count": 26,
   "id": "0eddc44e",
   "metadata": {},
   "outputs": [
    {
     "data": {
      "image/png": "[encoded data removed]",
      "text/plain": [
       "<Figure size 432x288 with 1 Axes>"
      ]
     },
     "metadata": {
      "needs_background": "light"
     },
     "output_type": "display_data"
    },
    {
     "data": {
      "image/png": "[encoded data removed]",
      "text/plain": [
       "<Figure size 432x288 with 1 Axes>"
      ]
     },
     "metadata": {
      "needs_background": "light"
     },
     "output_type": "display_data"
    }
   ],
   "source": [
    "plt.title('Loss')\n",
    "plt.plot(history_lstm_c_cv.history['loss'], label='train')\n",
    "plt.plot(history_lstm_c_cv.history['val_loss'], label='val')\n",
    "plt.legend()\n",
    "plt.show();\n",
    "\n",
    "plt.title('Accuracy')\n",
    "plt.plot(history_lstm_c_cv.history['accuracy'], label='train')\n",
    "plt.plot(history_lstm_c_cv.history['val_accuracy'], label='val')\n",
    "plt.legend()\n",
    "plt.show();"
   ]
  },
  {
   "cell_type": "code",
   "execution_count": 27,
   "id": "5039de4c",
   "metadata": {},
   "outputs": [],
   "source": [
    "lstm_c_cv.save(\"lstm_c_cv.h5\")"
   ]
  },
  {
   "cell_type": "markdown",
   "id": "f8db90b4",
   "metadata": {},
   "source": [
    "# LSTM - shape"
   ]
  },
  {
   "cell_type": "code",
   "execution_count": 28,
   "id": "7de3bb46",
   "metadata": {},
   "outputs": [
    {
     "name": "stdout",
     "output_type": "stream",
     "text": [
      "Model: \"sequential_1\"\n",
      "_________________________________________________________________\n",
      "Layer (type)                 Output Shape              Param #   \n",
      "=================================================================\n",
      "embedding_1 (Embedding)      (None, 287, 100)          20000     \n",
      "_________________________________________________________________\n",
      "spatial_dropout1d_1 (Spatial (None, 287, 100)          0         \n",
      "_________________________________________________________________\n",
      "lstm_1 (LSTM)                (None, 128)               117248    \n",
      "_________________________________________________________________\n",
      "dense_1 (Dense)              (None, 12)                1548      \n",
      "=================================================================\n",
      "Total params: 138,796\n",
      "Trainable params: 138,796\n",
      "Non-trainable params: 0\n",
      "_________________________________________________________________\n",
      "None\n"
     ]
    }
   ],
   "source": [
    "lstm_s_cv = Sequential()\n",
    "lstm_s_cv.add(Embedding(MAX_NB_WORDS, EMBEDDING_DIM, input_length=INPUT_LEN))\n",
    "lstm_s_cv.add(SpatialDropout1D(DROPOUT))\n",
    "lstm_s_cv.add(LSTM(128))\n",
    "lstm_s_cv.add(Dense(Y_shape_train_tcv.shape[1], activation='sigmoid'))\n",
    "lstm_s_cv.compile(loss='categorical_crossentropy', optimizer='adam', metrics=['accuracy'])\n",
    "print(lstm_s_cv.summary())"
   ]
  },
  {
   "cell_type": "code",
   "execution_count": 29,
   "id": "72520427",
   "metadata": {
    "scrolled": true
   },
   "outputs": [
    {
     "name": "stdout",
     "output_type": "stream",
     "text": [
      "Epoch 1/100\n",
      "7/7 [==============================] - 6s 577ms/step - loss: 2.4818 - accuracy: 0.1119 - val_loss: 2.4722 - val_accuracy: 0.2190\n",
      "Epoch 2/100\n",
      "7/7 [==============================] - 2s 350ms/step - loss: 2.4631 - accuracy: 0.2190 - val_loss: 2.4529 - val_accuracy: 0.1524\n",
      "Epoch 3/100\n",
      "7/7 [==============================] - 2s 353ms/step - loss: 2.4370 - accuracy: 0.1833 - val_loss: 2.4226 - val_accuracy: 0.1429\n",
      "Epoch 4/100\n",
      "7/7 [==============================] - 2s 351ms/step - loss: 2.4008 - accuracy: 0.1905 - val_loss: 2.3909 - val_accuracy: 0.2762\n",
      "Epoch 5/100\n",
      "7/7 [==============================] - 3s 369ms/step - loss: 2.3521 - accuracy: 0.3071 - val_loss: 2.3252 - val_accuracy: 0.2857\n",
      "Epoch 6/100\n",
      "7/7 [==============================] - 3s 387ms/step - loss: 2.2676 - accuracy: 0.3143 - val_loss: 2.2808 - val_accuracy: 0.3048\n",
      "Epoch 7/100\n",
      "7/7 [==============================] - 3s 443ms/step - loss: 2.1866 - accuracy: 0.3524 - val_loss: 2.2066 - val_accuracy: 0.2667\n",
      "Epoch 8/100\n",
      "7/7 [==============================] - 3s 391ms/step - loss: 2.0447 - accuracy: 0.3976 - val_loss: 2.1776 - val_accuracy: 0.2000\n",
      "Epoch 9/100\n",
      "7/7 [==============================] - 3s 361ms/step - loss: 2.0082 - accuracy: 0.3333 - val_loss: 2.0961 - val_accuracy: 0.4000\n",
      "Epoch 10/100\n",
      "7/7 [==============================] - 2s 343ms/step - loss: 1.9257 - accuracy: 0.4952 - val_loss: 1.9961 - val_accuracy: 0.4762\n",
      "Epoch 11/100\n",
      "7/7 [==============================] - 3s 375ms/step - loss: 1.7639 - accuracy: 0.5357 - val_loss: 1.8678 - val_accuracy: 0.4857\n",
      "Epoch 12/100\n",
      "7/7 [==============================] - 3s 368ms/step - loss: 1.6297 - accuracy: 0.5524 - val_loss: 1.7562 - val_accuracy: 0.5143\n",
      "Epoch 13/100\n",
      "7/7 [==============================] - 3s 429ms/step - loss: 1.4914 - accuracy: 0.5476 - val_loss: 1.6337 - val_accuracy: 0.5429\n",
      "Epoch 14/100\n",
      "7/7 [==============================] - 2s 332ms/step - loss: 1.3436 - accuracy: 0.5619 - val_loss: 1.5811 - val_accuracy: 0.5333\n",
      "Epoch 15/100\n",
      "7/7 [==============================] - 2s 358ms/step - loss: 1.2222 - accuracy: 0.6095 - val_loss: 1.4525 - val_accuracy: 0.6000\n",
      "Epoch 16/100\n",
      "7/7 [==============================] - 3s 463ms/step - loss: 1.0958 - accuracy: 0.6643 - val_loss: 1.3702 - val_accuracy: 0.5619\n",
      "Epoch 17/100\n",
      "7/7 [==============================] - 3s 383ms/step - loss: 0.9988 - accuracy: 0.6929 - val_loss: 1.3438 - val_accuracy: 0.6000\n",
      "Epoch 18/100\n",
      "7/7 [==============================] - 3s 397ms/step - loss: 0.9279 - accuracy: 0.7167 - val_loss: 1.2800 - val_accuracy: 0.6095\n",
      "Epoch 19/100\n",
      "7/7 [==============================] - 5s 734ms/step - loss: 0.8545 - accuracy: 0.7429 - val_loss: 1.2738 - val_accuracy: 0.6286\n",
      "Epoch 20/100\n",
      "7/7 [==============================] - 2s 345ms/step - loss: 0.7659 - accuracy: 0.7738 - val_loss: 1.2289 - val_accuracy: 0.6476\n",
      "Epoch 21/100\n",
      "7/7 [==============================] - 2s 353ms/step - loss: 0.6883 - accuracy: 0.7881 - val_loss: 1.2423 - val_accuracy: 0.6476\n",
      "Epoch 22/100\n",
      "7/7 [==============================] - 3s 368ms/step - loss: 0.6273 - accuracy: 0.8214 - val_loss: 1.1065 - val_accuracy: 0.6952\n",
      "Epoch 23/100\n",
      "7/7 [==============================] - 2s 355ms/step - loss: 0.5804 - accuracy: 0.8286 - val_loss: 1.1860 - val_accuracy: 0.6286\n",
      "Epoch 24/100\n",
      "7/7 [==============================] - 3s 460ms/step - loss: 0.5824 - accuracy: 0.8333 - val_loss: 1.2098 - val_accuracy: 0.6857\n",
      "Epoch 25/100\n",
      "7/7 [==============================] - 2s 349ms/step - loss: 0.5384 - accuracy: 0.8476 - val_loss: 1.1713 - val_accuracy: 0.6476\n",
      "Epoch 26/100\n",
      "7/7 [==============================] - 2s 343ms/step - loss: 0.5081 - accuracy: 0.8429 - val_loss: 1.2196 - val_accuracy: 0.7238\n",
      "Epoch 27/100\n",
      "7/7 [==============================] - 2s 338ms/step - loss: 0.4832 - accuracy: 0.8405 - val_loss: 1.1724 - val_accuracy: 0.7143\n",
      "Epoch 28/100\n",
      "7/7 [==============================] - 2s 340ms/step - loss: 0.4313 - accuracy: 0.8690 - val_loss: 1.1939 - val_accuracy: 0.7429\n",
      "Epoch 29/100\n",
      "7/7 [==============================] - 2s 342ms/step - loss: 0.3929 - accuracy: 0.8905 - val_loss: 1.0711 - val_accuracy: 0.7238\n",
      "Epoch 30/100\n",
      "7/7 [==============================] - 3s 387ms/step - loss: 0.3578 - accuracy: 0.9119 - val_loss: 1.1165 - val_accuracy: 0.6667\n",
      "Epoch 31/100\n",
      "7/7 [==============================] - 4s 598ms/step - loss: 0.3193 - accuracy: 0.9024 - val_loss: 1.1385 - val_accuracy: 0.7048\n",
      "Epoch 32/100\n",
      "7/7 [==============================] - 2s 343ms/step - loss: 0.3019 - accuracy: 0.9238 - val_loss: 1.1884 - val_accuracy: 0.7524\n",
      "Epoch 33/100\n",
      "7/7 [==============================] - 3s 401ms/step - loss: 0.2738 - accuracy: 0.9238 - val_loss: 1.3771 - val_accuracy: 0.6857\n",
      "Epoch 34/100\n",
      "7/7 [==============================] - 3s 383ms/step - loss: 0.2726 - accuracy: 0.9262 - val_loss: 1.1291 - val_accuracy: 0.7048\n",
      "Epoch 35/100\n",
      "7/7 [==============================] - 3s 404ms/step - loss: 0.2517 - accuracy: 0.9452 - val_loss: 1.1071 - val_accuracy: 0.7333\n",
      "Epoch 36/100\n",
      "7/7 [==============================] - 5s 794ms/step - loss: 0.2417 - accuracy: 0.9429 - val_loss: 1.1750 - val_accuracy: 0.7238\n",
      "Epoch 37/100\n",
      "7/7 [==============================] - 3s 401ms/step - loss: 0.2003 - accuracy: 0.9524 - val_loss: 1.0883 - val_accuracy: 0.6952\n",
      "Epoch 38/100\n",
      "7/7 [==============================] - 3s 370ms/step - loss: 0.1884 - accuracy: 0.9571 - val_loss: 1.1960 - val_accuracy: 0.7238\n",
      "Epoch 39/100\n",
      "7/7 [==============================] - 3s 370ms/step - loss: 0.1812 - accuracy: 0.9738 - val_loss: 1.1958 - val_accuracy: 0.6952\n",
      "Epoch 40/100\n",
      "7/7 [==============================] - 2s 356ms/step - loss: 0.1659 - accuracy: 0.9595 - val_loss: 1.2443 - val_accuracy: 0.7048\n",
      "Epoch 41/100\n",
      "7/7 [==============================] - 3s 435ms/step - loss: 0.1636 - accuracy: 0.9548 - val_loss: 1.1830 - val_accuracy: 0.7048\n",
      "Epoch 42/100\n",
      "7/7 [==============================] - 2s 339ms/step - loss: 0.1447 - accuracy: 0.9643 - val_loss: 1.1576 - val_accuracy: 0.7333\n",
      "Epoch 43/100\n",
      "7/7 [==============================] - 3s 387ms/step - loss: 0.1705 - accuracy: 0.9476 - val_loss: 1.2187 - val_accuracy: 0.7429\n",
      "Epoch 44/100\n",
      "7/7 [==============================] - 2s 341ms/step - loss: 0.1870 - accuracy: 0.9524 - val_loss: 1.0822 - val_accuracy: 0.7333\n",
      "Epoch 45/100\n",
      "7/7 [==============================] - 2s 350ms/step - loss: 0.1650 - accuracy: 0.9667 - val_loss: 1.1071 - val_accuracy: 0.7143\n",
      "Epoch 46/100\n",
      "7/7 [==============================] - 2s 352ms/step - loss: 0.1748 - accuracy: 0.9595 - val_loss: 1.0954 - val_accuracy: 0.7238\n",
      "Epoch 47/100\n",
      "7/7 [==============================] - 6s 1s/step - loss: 0.1497 - accuracy: 0.9738 - val_loss: 1.0297 - val_accuracy: 0.7905\n",
      "Epoch 48/100\n",
      "7/7 [==============================] - 5s 690ms/step - loss: 0.1359 - accuracy: 0.9714 - val_loss: 1.0381 - val_accuracy: 0.7810\n",
      "Epoch 49/100\n",
      "7/7 [==============================] - 4s 535ms/step - loss: 0.1331 - accuracy: 0.9571 - val_loss: 1.1519 - val_accuracy: 0.7048\n",
      "Epoch 50/100\n",
      "7/7 [==============================] - 4s 592ms/step - loss: 0.1171 - accuracy: 0.9762 - val_loss: 1.0976 - val_accuracy: 0.7143\n",
      "Epoch 51/100\n",
      "7/7 [==============================] - 6s 687ms/step - loss: 0.0945 - accuracy: 0.9857 - val_loss: 1.0526 - val_accuracy: 0.7143\n",
      "Epoch 52/100\n",
      "7/7 [==============================] - 4s 515ms/step - loss: 0.0973 - accuracy: 0.9833 - val_loss: 1.1057 - val_accuracy: 0.7143\n",
      "Epoch 53/100\n",
      "7/7 [==============================] - 3s 507ms/step - loss: 0.0883 - accuracy: 0.9738 - val_loss: 1.0533 - val_accuracy: 0.7238\n",
      "Epoch 54/100\n",
      "7/7 [==============================] - 3s 476ms/step - loss: 0.0781 - accuracy: 0.9833 - val_loss: 1.0718 - val_accuracy: 0.7333\n",
      "Epoch 55/100\n",
      "7/7 [==============================] - 4s 552ms/step - loss: 0.1660 - accuracy: 0.9667 - val_loss: 1.1378 - val_accuracy: 0.7238\n",
      "Epoch 56/100\n",
      "7/7 [==============================] - 3s 438ms/step - loss: 0.1834 - accuracy: 0.9476 - val_loss: 1.3457 - val_accuracy: 0.6762\n",
      "Epoch 57/100\n",
      "7/7 [==============================] - 3s 376ms/step - loss: 0.1606 - accuracy: 0.9667 - val_loss: 1.0980 - val_accuracy: 0.7143\n",
      "Epoch 58/100\n",
      "7/7 [==============================] - 4s 516ms/step - loss: 0.1433 - accuracy: 0.9643 - val_loss: 1.0708 - val_accuracy: 0.7143\n"
     ]
    },
    {
     "name": "stdout",
     "output_type": "stream",
     "text": [
      "Epoch 59/100\n",
      "7/7 [==============================] - 7s 988ms/step - loss: 0.1042 - accuracy: 0.9857 - val_loss: 1.1799 - val_accuracy: 0.7143\n",
      "Epoch 60/100\n",
      "7/7 [==============================] - 3s 429ms/step - loss: 0.0861 - accuracy: 0.9929 - val_loss: 1.1771 - val_accuracy: 0.6952\n",
      "Epoch 61/100\n",
      "7/7 [==============================] - 4s 528ms/step - loss: 0.0731 - accuracy: 0.9881 - val_loss: 1.0772 - val_accuracy: 0.7238\n",
      "Epoch 62/100\n",
      "7/7 [==============================] - 3s 420ms/step - loss: 0.0742 - accuracy: 0.9810 - val_loss: 1.2207 - val_accuracy: 0.6952\n",
      "Epoch 63/100\n",
      "7/7 [==============================] - 5s 775ms/step - loss: 0.0727 - accuracy: 0.9929 - val_loss: 1.2487 - val_accuracy: 0.7048\n",
      "Epoch 64/100\n",
      "7/7 [==============================] - 3s 394ms/step - loss: 0.0656 - accuracy: 0.9929 - val_loss: 1.1843 - val_accuracy: 0.6952\n",
      "Epoch 65/100\n",
      "7/7 [==============================] - 3s 441ms/step - loss: 0.0772 - accuracy: 0.9857 - val_loss: 1.2063 - val_accuracy: 0.7238\n",
      "Epoch 66/100\n",
      "7/7 [==============================] - 4s 523ms/step - loss: 0.0666 - accuracy: 0.9857 - val_loss: 1.2288 - val_accuracy: 0.6952\n",
      "Epoch 67/100\n",
      "7/7 [==============================] - 4s 571ms/step - loss: 0.0598 - accuracy: 0.9905 - val_loss: 1.2302 - val_accuracy: 0.7143\n",
      "Epoch 68/100\n",
      "7/7 [==============================] - 3s 381ms/step - loss: 0.0546 - accuracy: 0.9905 - val_loss: 1.2197 - val_accuracy: 0.7143\n",
      "Epoch 69/100\n",
      "7/7 [==============================] - 3s 414ms/step - loss: 0.0488 - accuracy: 0.9929 - val_loss: 1.2613 - val_accuracy: 0.6857\n",
      "Epoch 70/100\n",
      "7/7 [==============================] - 4s 566ms/step - loss: 0.0483 - accuracy: 0.9929 - val_loss: 1.2763 - val_accuracy: 0.6952\n",
      "Epoch 71/100\n",
      "7/7 [==============================] - 4s 481ms/step - loss: 0.0455 - accuracy: 0.9929 - val_loss: 1.2242 - val_accuracy: 0.7048\n",
      "Epoch 72/100\n",
      "7/7 [==============================] - 6s 857ms/step - loss: 0.0505 - accuracy: 0.9929 - val_loss: 1.0374 - val_accuracy: 0.7333\n",
      "Epoch 73/100\n",
      "7/7 [==============================] - 3s 506ms/step - loss: 0.0694 - accuracy: 0.9905 - val_loss: 1.0475 - val_accuracy: 0.7429\n",
      "Epoch 74/100\n",
      "7/7 [==============================] - 4s 536ms/step - loss: 0.0635 - accuracy: 1.0000 - val_loss: 1.1345 - val_accuracy: 0.7333\n",
      "Epoch 75/100\n",
      "7/7 [==============================] - 4s 500ms/step - loss: 0.0636 - accuracy: 0.9929 - val_loss: 1.1572 - val_accuracy: 0.7143\n",
      "Epoch 76/100\n",
      "7/7 [==============================] - 4s 562ms/step - loss: 0.0450 - accuracy: 1.0000 - val_loss: 1.1652 - val_accuracy: 0.7143\n",
      "Epoch 77/100\n",
      "7/7 [==============================] - 3s 460ms/step - loss: 0.0512 - accuracy: 0.9905 - val_loss: 1.2015 - val_accuracy: 0.7238\n",
      "Epoch 78/100\n",
      "7/7 [==============================] - 3s 384ms/step - loss: 0.0431 - accuracy: 0.9976 - val_loss: 1.2636 - val_accuracy: 0.7048\n",
      "Epoch 79/100\n",
      "7/7 [==============================] - 3s 385ms/step - loss: 0.0414 - accuracy: 0.9952 - val_loss: 1.2444 - val_accuracy: 0.6952\n",
      "Epoch 80/100\n",
      "7/7 [==============================] - 3s 382ms/step - loss: 0.0544 - accuracy: 0.9952 - val_loss: 1.2338 - val_accuracy: 0.6952\n",
      "Epoch 81/100\n",
      "7/7 [==============================] - 3s 458ms/step - loss: 0.0433 - accuracy: 0.9952 - val_loss: 1.2888 - val_accuracy: 0.6857\n",
      "Epoch 82/100\n",
      "7/7 [==============================] - 3s 430ms/step - loss: 0.0583 - accuracy: 0.9952 - val_loss: 1.2498 - val_accuracy: 0.7143\n",
      "Epoch 83/100\n",
      "7/7 [==============================] - 4s 536ms/step - loss: 0.0474 - accuracy: 0.9929 - val_loss: 1.1454 - val_accuracy: 0.7429\n",
      "Epoch 84/100\n",
      "7/7 [==============================] - 3s 420ms/step - loss: 0.0379 - accuracy: 0.9976 - val_loss: 1.1302 - val_accuracy: 0.7333\n",
      "Epoch 85/100\n",
      "7/7 [==============================] - 3s 406ms/step - loss: 0.0338 - accuracy: 0.9976 - val_loss: 1.1913 - val_accuracy: 0.7238\n",
      "Epoch 86/100\n",
      "7/7 [==============================] - 4s 672ms/step - loss: 0.0353 - accuracy: 0.9976 - val_loss: 1.1951 - val_accuracy: 0.7143\n",
      "Epoch 87/100\n",
      "7/7 [==============================] - 3s 408ms/step - loss: 0.0331 - accuracy: 0.9952 - val_loss: 1.2996 - val_accuracy: 0.7048\n",
      "Epoch 88/100\n",
      "7/7 [==============================] - 3s 444ms/step - loss: 0.0425 - accuracy: 0.9905 - val_loss: 1.3557 - val_accuracy: 0.7143\n",
      "Epoch 89/100\n",
      "7/7 [==============================] - 3s 393ms/step - loss: 0.0325 - accuracy: 1.0000 - val_loss: 1.3966 - val_accuracy: 0.6952\n",
      "Epoch 90/100\n",
      "7/7 [==============================] - 3s 375ms/step - loss: 0.0270 - accuracy: 1.0000 - val_loss: 1.3685 - val_accuracy: 0.6952\n",
      "Epoch 91/100\n",
      "7/7 [==============================] - 4s 582ms/step - loss: 0.0319 - accuracy: 0.9952 - val_loss: 1.3253 - val_accuracy: 0.6857\n",
      "Epoch 92/100\n",
      "7/7 [==============================] - 4s 502ms/step - loss: 0.0263 - accuracy: 1.0000 - val_loss: 1.3447 - val_accuracy: 0.6857\n",
      "Epoch 93/100\n",
      "7/7 [==============================] - 3s 400ms/step - loss: 0.0225 - accuracy: 1.0000 - val_loss: 1.3352 - val_accuracy: 0.6952\n",
      "Epoch 94/100\n",
      "7/7 [==============================] - 3s 391ms/step - loss: 0.0218 - accuracy: 1.0000 - val_loss: 1.3242 - val_accuracy: 0.7048\n",
      "Epoch 95/100\n",
      "7/7 [==============================] - 3s 427ms/step - loss: 0.0199 - accuracy: 1.0000 - val_loss: 1.3063 - val_accuracy: 0.7048\n",
      "Epoch 96/100\n",
      "7/7 [==============================] - 5s 767ms/step - loss: 0.0229 - accuracy: 1.0000 - val_loss: 1.2529 - val_accuracy: 0.7048\n",
      "Epoch 97/100\n",
      "7/7 [==============================] - 3s 457ms/step - loss: 0.0213 - accuracy: 1.0000 - val_loss: 1.2717 - val_accuracy: 0.7048\n",
      "Epoch 98/100\n",
      "7/7 [==============================] - 3s 421ms/step - loss: 0.0197 - accuracy: 0.9976 - val_loss: 1.2976 - val_accuracy: 0.6762\n",
      "Epoch 99/100\n",
      "7/7 [==============================] - 3s 413ms/step - loss: 0.0190 - accuracy: 1.0000 - val_loss: 1.3148 - val_accuracy: 0.6857\n",
      "Epoch 100/100\n",
      "7/7 [==============================] - 3s 437ms/step - loss: 0.0178 - accuracy: 1.0000 - val_loss: 1.2949 - val_accuracy: 0.7048\n"
     ]
    }
   ],
   "source": [
    "history_lstm_s_cv = lstm_s_cv.fit(X_train_tcv, Y_shape_train_tcv, epochs=EPOCHS, \n",
    "                    batch_size=BATCH,validation_data=(X_test_tcv,Y_shape_test_tcv))"
   ]
  },
  {
   "cell_type": "code",
   "execution_count": 30,
   "id": "d0e8131d",
   "metadata": {},
   "outputs": [
    {
     "data": {
      "image/png": "[encoded data removed]",
      "text/plain": [
       "<Figure size 432x288 with 1 Axes>"
      ]
     },
     "metadata": {
      "needs_background": "light"
     },
     "output_type": "display_data"
    },
    {
     "data": {
      "image/png": "[encoded data removed]",
      "text/plain": [
       "<Figure size 432x288 with 1 Axes>"
      ]
     },
     "metadata": {
      "needs_background": "light"
     },
     "output_type": "display_data"
    }
   ],
   "source": [
    "plt.title('Loss')\n",
    "plt.plot(history_lstm_s_cv.history['loss'], label='train')\n",
    "plt.plot(history_lstm_s_cv.history['val_loss'], label='val')\n",
    "plt.legend()\n",
    "plt.show();\n",
    "\n",
    "plt.title('Accuracy')\n",
    "plt.plot(history_lstm_s_cv.history['accuracy'], label='train')\n",
    "plt.plot(history_lstm_s_cv.history['val_accuracy'], label='val')\n",
    "plt.legend()\n",
    "plt.show();"
   ]
  },
  {
   "cell_type": "code",
   "execution_count": 31,
   "id": "f5053023",
   "metadata": {},
   "outputs": [],
   "source": [
    "lstm_s_cv.save(\"lstm_s_cv.h5\")"
   ]
  },
  {
   "cell_type": "markdown",
   "id": "7e71b9aa",
   "metadata": {},
   "source": [
    "# LSTM - combined"
   ]
  },
  {
   "cell_type": "code",
   "execution_count": 3,
   "id": "00a48537",
   "metadata": {},
   "outputs": [
    {
     "name": "stdout",
     "output_type": "stream",
     "text": [
      "Train Accuracy of combined color + shape model: 1.0\n"
     ]
    }
   ],
   "source": [
    "correct = 0\n",
    "\n",
    "for pos,text in enumerate(X_train_tcv):\n",
    "\n",
    "    text_r = text.reshape(1,-1)\n",
    "\n",
    "    c_pred = np.argmax(lstm_c_cv.predict(text_r))\n",
    "    s_pred = np.argmax(lstm_s_cv.predict(text_r))\n",
    "    \n",
    "    l_pred = color_list[c_pred]+' '+shape_list[s_pred]\n",
    "    true = label_list[np.argmax(Y_train_tcv[pos])]\n",
    "    \n",
    "    #print ('Text:', sequence_to_text(text))\n",
    "    #print ('Predict:',l_pred)\n",
    "    #print ('True:', true)\n",
    "    \n",
    "    if l_pred == true:\n",
    "        correct += 1\n",
    "print('Train Accuracy of combined color + shape model:', correct/len(Y_train_tcv))"
   ]
  },
  {
   "cell_type": "code",
   "execution_count": 4,
   "id": "2c011188",
   "metadata": {},
   "outputs": [
    {
     "name": "stdout",
     "output_type": "stream",
     "text": [
      "Test Accuracy of combined color + shape model: 0.638095238095238\n"
     ]
    }
   ],
   "source": [
    "correct = 0\n",
    "\n",
    "for pos,text in enumerate(X_test_tcv):\n",
    "\n",
    "    text_r = text.reshape(1,-1)\n",
    "\n",
    "    c_pred = np.argmax(lstm_c_cv.predict(text_r))\n",
    "    s_pred = np.argmax(lstm_s_cv.predict(text_r))\n",
    "    \n",
    "    l_pred = color_list[c_pred]+' '+shape_list[s_pred]\n",
    "    true = label_list[np.argmax(Y_test_tcv[pos])]\n",
    "    \n",
    "    #print ('Text:', sequence_to_text(text))\n",
    "    #print ('Predict:',l_pred)\n",
    "    #print ('True:', true)\n",
    "    \n",
    "    if l_pred == true:\n",
    "        correct += 1\n",
    "print('Test Accuracy of combined color + shape model:', correct/len(Y_test_tcv))"
   ]
  },
  {
   "cell_type": "markdown",
   "id": "af3dfac8",
   "metadata": {},
   "source": [
    "# LSTM - Aug"
   ]
  },
  {
   "cell_type": "code",
   "execution_count": 25,
   "id": "d6b19526",
   "metadata": {},
   "outputs": [],
   "source": [
    "from tensorflow.keras.callbacks import EarlyStopping"
   ]
  },
  {
   "cell_type": "code",
   "execution_count": 26,
   "id": "0fc3b58b",
   "metadata": {},
   "outputs": [],
   "source": [
    "early_stopping = EarlyStopping(monitor='val_accuracy',patience=8,min_delta=0.01,mode='max')"
   ]
  },
  {
   "cell_type": "code",
   "execution_count": 46,
   "id": "772973c4",
   "metadata": {},
   "outputs": [
    {
     "name": "stdout",
     "output_type": "stream",
     "text": [
      "Model: \"sequential_4\"\n",
      "_________________________________________________________________\n",
      "Layer (type)                 Output Shape              Param #   \n",
      "=================================================================\n",
      "embedding_4 (Embedding)      (None, 287, 100)          20000     \n",
      "_________________________________________________________________\n",
      "spatial_dropout1d_4 (Spatial (None, 287, 100)          0         \n",
      "_________________________________________________________________\n",
      "lstm_4 (LSTM)                (None, 128)               117248    \n",
      "_________________________________________________________________\n",
      "dense_4 (Dense)              (None, 23)                2967      \n",
      "=================================================================\n",
      "Total params: 140,215\n",
      "Trainable params: 140,215\n",
      "Non-trainable params: 0\n",
      "_________________________________________________________________\n",
      "None\n"
     ]
    }
   ],
   "source": [
    "lstm_aug = Sequential()\n",
    "lstm_aug.add(Embedding(MAX_NB_WORDS, EMBEDDING_DIM, input_length=INPUT_LEN))\n",
    "lstm_aug.add(SpatialDropout1D(DROPOUT))\n",
    "lstm_aug.add(LSTM(128))\n",
    "lstm_aug.add(Dense(Y_train_aug.shape[1], activation='sigmoid'))\n",
    "lstm_aug.compile(loss='categorical_crossentropy', optimizer='adam', metrics=['accuracy'])\n",
    "print(lstm_aug.summary())"
   ]
  },
  {
   "cell_type": "code",
   "execution_count": 49,
   "id": "96f67fb1",
   "metadata": {
    "scrolled": true
   },
   "outputs": [
    {
     "name": "stdout",
     "output_type": "stream",
     "text": [
      "Epoch 1/50\n",
      "101/101 [==============================] - 173s 2s/step - loss: 2.3890 - accuracy: 0.3569 - val_loss: 1.3978 - val_accuracy: 0.6392\n",
      "Epoch 2/50\n",
      "101/101 [==============================] - 170s 2s/step - loss: 0.5836 - accuracy: 0.8555 - val_loss: 0.2192 - val_accuracy: 0.9279\n",
      "Epoch 3/50\n",
      "101/101 [==============================] - 169s 2s/step - loss: 0.1730 - accuracy: 0.9340 - val_loss: 0.1326 - val_accuracy: 0.9364\n",
      "Epoch 4/50\n",
      "101/101 [==============================] - 481s 5s/step - loss: 0.1257 - accuracy: 0.9387 - val_loss: 0.1138 - val_accuracy: 0.9386\n",
      "Epoch 5/50\n",
      "101/101 [==============================] - 203s 2s/step - loss: 0.1116 - accuracy: 0.9403 - val_loss: 0.1104 - val_accuracy: 0.9374\n",
      "Epoch 6/50\n",
      "101/101 [==============================] - 181s 2s/step - loss: 0.1059 - accuracy: 0.9405 - val_loss: 0.1028 - val_accuracy: 0.9377\n",
      "Epoch 7/50\n",
      "101/101 [==============================] - 168s 2s/step - loss: 0.1013 - accuracy: 0.9414 - val_loss: 0.0995 - val_accuracy: 0.9377\n",
      "Epoch 8/50\n",
      "101/101 [==============================] - 172s 2s/step - loss: 0.0993 - accuracy: 0.9407 - val_loss: 0.1001 - val_accuracy: 0.9380\n",
      "Epoch 9/50\n",
      "101/101 [==============================] - 173s 2s/step - loss: 0.0966 - accuracy: 0.9409 - val_loss: 0.0956 - val_accuracy: 0.9381\n",
      "Epoch 10/50\n",
      "101/101 [==============================] - 174s 2s/step - loss: 0.0958 - accuracy: 0.9426 - val_loss: 0.0968 - val_accuracy: 0.9378\n",
      "Epoch 11/50\n",
      "101/101 [==============================] - 174s 2s/step - loss: 0.0949 - accuracy: 0.9412 - val_loss: 0.0963 - val_accuracy: 0.9365\n",
      "Epoch 12/50\n",
      "101/101 [==============================] - 176s 2s/step - loss: 0.0934 - accuracy: 0.9414 - val_loss: 0.0948 - val_accuracy: 0.9350\n"
     ]
    }
   ],
   "source": [
    "history_lstm_aug = lstm_aug.fit(X_train_aug, Y_train_aug, epochs=EPOCHS_A, \n",
    "                    batch_size=BATCH_A,validation_data=(X_test_aug,Y_test_aug),callbacks=[early_stopping])"
   ]
  },
  {
   "cell_type": "code",
   "execution_count": 50,
   "id": "8f6a6c51",
   "metadata": {},
   "outputs": [
    {
     "data": {
      "image/png": "[encoded data removed]",
      "text/plain": [
       "<Figure size 432x288 with 1 Axes>"
      ]
     },
     "metadata": {
      "needs_background": "light"
     },
     "output_type": "display_data"
    },
    {
     "data": {
      "image/png": "[encoded data removed]",
      "text/plain": [
       "<Figure size 432x288 with 1 Axes>"
      ]
     },
     "metadata": {
      "needs_background": "light"
     },
     "output_type": "display_data"
    }
   ],
   "source": [
    "plt.title('Loss')\n",
    "plt.plot(history_lstm_aug.history['loss'], label='train')\n",
    "plt.plot(history_lstm_aug.history['val_loss'], label='val')\n",
    "plt.legend()\n",
    "plt.show();\n",
    "\n",
    "plt.title('Accuracy')\n",
    "plt.plot(history_lstm_aug.history['accuracy'], label='train')\n",
    "plt.plot(history_lstm_aug.history['val_accuracy'], label='val')\n",
    "plt.legend()\n",
    "plt.show();"
   ]
  },
  {
   "cell_type": "code",
   "execution_count": 51,
   "id": "55cc1935",
   "metadata": {},
   "outputs": [],
   "source": [
    "lstm_aug.save(\"lstm_aug.h5\")"
   ]
  },
  {
   "cell_type": "markdown",
   "id": "226b434e",
   "metadata": {},
   "source": [
    "# BiLSTM - full label"
   ]
  },
  {
   "cell_type": "code",
   "execution_count": 61,
   "id": "fa12a0e6",
   "metadata": {},
   "outputs": [],
   "source": [
    "from tensorflow.keras.layers import Bidirectional"
   ]
  },
  {
   "cell_type": "code",
   "execution_count": 47,
   "id": "b91d5902",
   "metadata": {},
   "outputs": [
    {
     "name": "stdout",
     "output_type": "stream",
     "text": [
      "Model: \"sequential_3\"\n",
      "_________________________________________________________________\n",
      "Layer (type)                 Output Shape              Param #   \n",
      "=================================================================\n",
      "embedding_3 (Embedding)      (None, 287, 100)          20000     \n",
      "_________________________________________________________________\n",
      "spatial_dropout1d_3 (Spatial (None, 287, 100)          0         \n",
      "_________________________________________________________________\n",
      "bidirectional_2 (Bidirection (None, 256)               234496    \n",
      "_________________________________________________________________\n",
      "dense_2 (Dense)              (None, 23)                5911      \n",
      "=================================================================\n",
      "Total params: 260,407\n",
      "Trainable params: 260,407\n",
      "Non-trainable params: 0\n",
      "_________________________________________________________________\n",
      "None\n"
     ]
    }
   ],
   "source": [
    "blstm_l_cv = Sequential()\n",
    "blstm_l_cv.add(Embedding(MAX_NB_WORDS, EMBEDDING_DIM, input_length=INPUT_LEN))\n",
    "blstm_l_cv.add(SpatialDropout1D(DROPOUT))\n",
    "blstm_l_cv.add(Bidirectional(LSTM(128)))\n",
    "blstm_l_cv.add(Dense(Y_train_tcv.shape[1], activation='sigmoid'))\n",
    "blstm_l_cv.compile(loss='categorical_crossentropy', optimizer='adam', metrics=['accuracy'])\n",
    "print(blstm_l_cv.summary())"
   ]
  },
  {
   "cell_type": "code",
   "execution_count": 48,
   "id": "505704d2",
   "metadata": {
    "scrolled": true
   },
   "outputs": [
    {
     "name": "stdout",
     "output_type": "stream",
     "text": [
      "Epoch 1/100\n",
      "7/7 [==============================] - 8s 618ms/step - loss: 3.1273 - accuracy: 0.0595 - val_loss: 3.1081 - val_accuracy: 0.0762\n",
      "Epoch 2/100\n",
      "7/7 [==============================] - 4s 570ms/step - loss: 3.0653 - accuracy: 0.0738 - val_loss: 3.0949 - val_accuracy: 0.0762\n",
      "Epoch 3/100\n",
      "7/7 [==============================] - 5s 722ms/step - loss: 3.0281 - accuracy: 0.1048 - val_loss: 3.0581 - val_accuracy: 0.0952\n",
      "Epoch 4/100\n",
      "7/7 [==============================] - 5s 664ms/step - loss: 3.0103 - accuracy: 0.1119 - val_loss: 3.0453 - val_accuracy: 0.0667\n",
      "Epoch 5/100\n",
      "7/7 [==============================] - 4s 647ms/step - loss: 2.9875 - accuracy: 0.1333 - val_loss: 3.0192 - val_accuracy: 0.1048\n",
      "Epoch 6/100\n",
      "7/7 [==============================] - 7s 1s/step - loss: 2.9393 - accuracy: 0.1571 - val_loss: 2.9825 - val_accuracy: 0.1143\n",
      "Epoch 7/100\n",
      "7/7 [==============================] - 5s 759ms/step - loss: 2.8946 - accuracy: 0.2000 - val_loss: 2.9441 - val_accuracy: 0.1333\n",
      "Epoch 8/100\n",
      "7/7 [==============================] - 6s 880ms/step - loss: 2.8425 - accuracy: 0.2381 - val_loss: 2.9048 - val_accuracy: 0.2000\n",
      "Epoch 9/100\n",
      "7/7 [==============================] - 5s 671ms/step - loss: 2.7589 - accuracy: 0.2190 - val_loss: 2.8423 - val_accuracy: 0.1810\n",
      "Epoch 10/100\n",
      "7/7 [==============================] - 4s 624ms/step - loss: 2.6344 - accuracy: 0.2786 - val_loss: 2.7459 - val_accuracy: 0.2667\n",
      "Epoch 11/100\n",
      "7/7 [==============================] - 5s 661ms/step - loss: 2.4657 - accuracy: 0.3429 - val_loss: 2.6171 - val_accuracy: 0.2952\n",
      "Epoch 12/100\n",
      "7/7 [==============================] - 6s 799ms/step - loss: 2.3406 - accuracy: 0.3619 - val_loss: 2.4936 - val_accuracy: 0.2952\n",
      "Epoch 13/100\n",
      "7/7 [==============================] - 4s 627ms/step - loss: 2.1729 - accuracy: 0.4262 - val_loss: 2.3919 - val_accuracy: 0.3143\n",
      "Epoch 14/100\n",
      "7/7 [==============================] - 4s 642ms/step - loss: 2.0674 - accuracy: 0.4262 - val_loss: 2.2273 - val_accuracy: 0.3333\n",
      "Epoch 15/100\n",
      "7/7 [==============================] - 8s 1s/step - loss: 1.8813 - accuracy: 0.5000 - val_loss: 2.0654 - val_accuracy: 0.3714\n",
      "Epoch 16/100\n",
      "7/7 [==============================] - 5s 650ms/step - loss: 1.7497 - accuracy: 0.5214 - val_loss: 1.9558 - val_accuracy: 0.4190\n",
      "Epoch 17/100\n",
      "7/7 [==============================] - 5s 791ms/step - loss: 1.5661 - accuracy: 0.5690 - val_loss: 1.8227 - val_accuracy: 0.4286\n",
      "Epoch 18/100\n",
      "7/7 [==============================] - 6s 853ms/step - loss: 1.4091 - accuracy: 0.6214 - val_loss: 1.6567 - val_accuracy: 0.4952\n",
      "Epoch 19/100\n",
      "7/7 [==============================] - 5s 674ms/step - loss: 1.3241 - accuracy: 0.6238 - val_loss: 1.5911 - val_accuracy: 0.5238\n",
      "Epoch 20/100\n",
      "7/7 [==============================] - 6s 927ms/step - loss: 1.1707 - accuracy: 0.6762 - val_loss: 1.5006 - val_accuracy: 0.5238\n",
      "Epoch 21/100\n",
      "7/7 [==============================] - 6s 729ms/step - loss: 1.0935 - accuracy: 0.6881 - val_loss: 1.5231 - val_accuracy: 0.5429\n",
      "Epoch 22/100\n",
      "7/7 [==============================] - 5s 711ms/step - loss: 1.0645 - accuracy: 0.6762 - val_loss: 1.4731 - val_accuracy: 0.5429\n",
      "Epoch 23/100\n",
      "7/7 [==============================] - 7s 1s/step - loss: 0.9583 - accuracy: 0.7333 - val_loss: 1.3244 - val_accuracy: 0.6000\n",
      "Epoch 24/100\n",
      "7/7 [==============================] - 5s 688ms/step - loss: 0.8943 - accuracy: 0.7381 - val_loss: 1.4384 - val_accuracy: 0.5238\n",
      "Epoch 25/100\n",
      "7/7 [==============================] - 6s 906ms/step - loss: 1.0095 - accuracy: 0.7357 - val_loss: 1.3307 - val_accuracy: 0.5810\n",
      "Epoch 26/100\n",
      "7/7 [==============================] - 8s 1s/step - loss: 0.8670 - accuracy: 0.7524 - val_loss: 1.3435 - val_accuracy: 0.5810\n",
      "Epoch 27/100\n",
      "7/7 [==============================] - 5s 663ms/step - loss: 0.7952 - accuracy: 0.7619 - val_loss: 1.3176 - val_accuracy: 0.5905\n",
      "Epoch 28/100\n",
      "7/7 [==============================] - 6s 873ms/step - loss: 0.7149 - accuracy: 0.8214 - val_loss: 1.2555 - val_accuracy: 0.6286\n",
      "Epoch 29/100\n",
      "7/7 [==============================] - 6s 793ms/step - loss: 0.6710 - accuracy: 0.8024 - val_loss: 1.2492 - val_accuracy: 0.6286\n",
      "Epoch 30/100\n",
      "7/7 [==============================] - 5s 684ms/step - loss: 0.5900 - accuracy: 0.8381 - val_loss: 1.2721 - val_accuracy: 0.6095\n",
      "Epoch 31/100\n",
      "7/7 [==============================] - 9s 1s/step - loss: 0.5773 - accuracy: 0.8310 - val_loss: 1.2843 - val_accuracy: 0.6286\n",
      "Epoch 32/100\n",
      "7/7 [==============================] - 5s 702ms/step - loss: 0.5254 - accuracy: 0.8524 - val_loss: 1.2021 - val_accuracy: 0.6000\n",
      "Epoch 33/100\n",
      "7/7 [==============================] - 8s 1s/step - loss: 0.5257 - accuracy: 0.8524 - val_loss: 1.2941 - val_accuracy: 0.6381\n",
      "Epoch 34/100\n",
      "7/7 [==============================] - 6s 807ms/step - loss: 0.5093 - accuracy: 0.8357 - val_loss: 1.2520 - val_accuracy: 0.6190\n",
      "Epoch 35/100\n",
      "7/7 [==============================] - 5s 686ms/step - loss: 0.4545 - accuracy: 0.8571 - val_loss: 1.2402 - val_accuracy: 0.6571\n",
      "Epoch 36/100\n",
      "7/7 [==============================] - 8s 1s/step - loss: 0.4323 - accuracy: 0.8762 - val_loss: 1.2039 - val_accuracy: 0.6476\n",
      "Epoch 37/100\n",
      "7/7 [==============================] - 5s 682ms/step - loss: 0.4106 - accuracy: 0.8976 - val_loss: 1.2015 - val_accuracy: 0.6476\n",
      "Epoch 38/100\n",
      "7/7 [==============================] - 7s 1s/step - loss: 0.3911 - accuracy: 0.8738 - val_loss: 1.2303 - val_accuracy: 0.6571\n",
      "Epoch 39/100\n",
      "7/7 [==============================] - 9s 726ms/step - loss: 0.3562 - accuracy: 0.8952 - val_loss: 1.1921 - val_accuracy: 0.6286\n",
      "Epoch 40/100\n",
      "7/7 [==============================] - 7s 968ms/step - loss: 0.3417 - accuracy: 0.8976 - val_loss: 1.2861 - val_accuracy: 0.6190\n",
      "Epoch 41/100\n",
      "7/7 [==============================] - 13s 2s/step - loss: 0.3215 - accuracy: 0.9238 - val_loss: 1.1547 - val_accuracy: 0.6476\n",
      "Epoch 42/100\n",
      "7/7 [==============================] - 13s 2s/step - loss: 0.3040 - accuracy: 0.9190 - val_loss: 1.1919 - val_accuracy: 0.6571\n",
      "Epoch 43/100\n",
      "7/7 [==============================] - 9s 1s/step - loss: 0.3059 - accuracy: 0.9167 - val_loss: 1.2584 - val_accuracy: 0.6476\n",
      "Epoch 44/100\n",
      "7/7 [==============================] - 10s 1s/step - loss: 0.3044 - accuracy: 0.9405 - val_loss: 1.3152 - val_accuracy: 0.6381\n",
      "Epoch 45/100\n",
      "7/7 [==============================] - 9s 1s/step - loss: 0.3099 - accuracy: 0.9214 - val_loss: 1.3052 - val_accuracy: 0.6476\n",
      "Epoch 46/100\n",
      "7/7 [==============================] - 5s 752ms/step - loss: 0.2593 - accuracy: 0.9405 - val_loss: 1.2879 - val_accuracy: 0.6571\n",
      "Epoch 47/100\n",
      "7/7 [==============================] - 6s 901ms/step - loss: 0.2492 - accuracy: 0.9405 - val_loss: 1.2219 - val_accuracy: 0.6571\n",
      "Epoch 48/100\n",
      "7/7 [==============================] - 6s 798ms/step - loss: 0.2363 - accuracy: 0.9476 - val_loss: 1.2631 - val_accuracy: 0.6857\n",
      "Epoch 49/100\n",
      "7/7 [==============================] - 5s 653ms/step - loss: 0.2071 - accuracy: 0.9571 - val_loss: 1.3181 - val_accuracy: 0.6667\n",
      "Epoch 50/100\n",
      "7/7 [==============================] - 6s 892ms/step - loss: 0.1964 - accuracy: 0.9548 - val_loss: 1.2256 - val_accuracy: 0.6762\n",
      "Epoch 51/100\n",
      "7/7 [==============================] - 6s 745ms/step - loss: 0.1969 - accuracy: 0.9524 - val_loss: 1.3081 - val_accuracy: 0.6476\n",
      "Epoch 52/100\n",
      "7/7 [==============================] - 5s 657ms/step - loss: 0.1971 - accuracy: 0.9452 - val_loss: 1.2649 - val_accuracy: 0.6857\n",
      "Epoch 53/100\n",
      "7/7 [==============================] - 7s 986ms/step - loss: 0.1851 - accuracy: 0.9571 - val_loss: 1.2915 - val_accuracy: 0.6476\n",
      "Epoch 54/100\n",
      "7/7 [==============================] - 5s 667ms/step - loss: 0.1802 - accuracy: 0.9476 - val_loss: 1.2565 - val_accuracy: 0.6762\n",
      "Epoch 55/100\n",
      "7/7 [==============================] - 5s 743ms/step - loss: 0.1863 - accuracy: 0.9548 - val_loss: 1.3154 - val_accuracy: 0.6857\n",
      "Epoch 56/100\n",
      "7/7 [==============================] - 7s 1s/step - loss: 0.1810 - accuracy: 0.9548 - val_loss: 1.2866 - val_accuracy: 0.6667\n",
      "Epoch 57/100\n",
      "7/7 [==============================] - 5s 735ms/step - loss: 0.1676 - accuracy: 0.9738 - val_loss: 1.2410 - val_accuracy: 0.6857\n",
      "Epoch 58/100\n",
      "7/7 [==============================] - 5s 666ms/step - loss: 0.1631 - accuracy: 0.9690 - val_loss: 1.2434 - val_accuracy: 0.6952\n",
      "Epoch 59/100\n"
     ]
    },
    {
     "name": "stdout",
     "output_type": "stream",
     "text": [
      "7/7 [==============================] - 7s 965ms/step - loss: 0.1566 - accuracy: 0.9738 - val_loss: 1.3249 - val_accuracy: 0.6476\n",
      "Epoch 60/100\n",
      "7/7 [==============================] - 5s 647ms/step - loss: 0.1607 - accuracy: 0.9643 - val_loss: 1.3028 - val_accuracy: 0.6381\n",
      "Epoch 61/100\n",
      "7/7 [==============================] - 5s 723ms/step - loss: 0.1467 - accuracy: 0.9690 - val_loss: 1.2654 - val_accuracy: 0.7143\n",
      "Epoch 62/100\n",
      "7/7 [==============================] - 7s 982ms/step - loss: 0.1388 - accuracy: 0.9667 - val_loss: 1.2871 - val_accuracy: 0.6952\n",
      "Epoch 63/100\n",
      "7/7 [==============================] - 5s 654ms/step - loss: 0.1255 - accuracy: 0.9833 - val_loss: 1.3004 - val_accuracy: 0.6762\n",
      "Epoch 64/100\n",
      "7/7 [==============================] - 5s 707ms/step - loss: 0.1275 - accuracy: 0.9762 - val_loss: 1.2622 - val_accuracy: 0.6857\n",
      "Epoch 65/100\n",
      "7/7 [==============================] - 7s 994ms/step - loss: 0.1346 - accuracy: 0.9738 - val_loss: 1.3958 - val_accuracy: 0.6857\n",
      "Epoch 66/100\n",
      "7/7 [==============================] - 5s 730ms/step - loss: 0.1183 - accuracy: 0.9762 - val_loss: 1.4913 - val_accuracy: 0.6571\n",
      "Epoch 67/100\n",
      "7/7 [==============================] - 6s 897ms/step - loss: 0.1151 - accuracy: 0.9833 - val_loss: 1.3628 - val_accuracy: 0.6762\n",
      "Epoch 68/100\n",
      "7/7 [==============================] - 8s 1s/step - loss: 0.1083 - accuracy: 0.9786 - val_loss: 1.3097 - val_accuracy: 0.6857\n",
      "Epoch 69/100\n",
      "7/7 [==============================] - 5s 717ms/step - loss: 0.1027 - accuracy: 0.9810 - val_loss: 1.3704 - val_accuracy: 0.7048\n",
      "Epoch 70/100\n",
      "7/7 [==============================] - 6s 973ms/step - loss: 0.0994 - accuracy: 0.9857 - val_loss: 1.4140 - val_accuracy: 0.6952\n",
      "Epoch 71/100\n",
      "7/7 [==============================] - 5s 690ms/step - loss: 0.0946 - accuracy: 0.9762 - val_loss: 1.4234 - val_accuracy: 0.6667\n",
      "Epoch 72/100\n",
      "7/7 [==============================] - 6s 883ms/step - loss: 0.0905 - accuracy: 0.9881 - val_loss: 1.3449 - val_accuracy: 0.6952\n",
      "Epoch 73/100\n",
      "7/7 [==============================] - 9s 1s/step - loss: 0.0847 - accuracy: 0.9905 - val_loss: 1.3839 - val_accuracy: 0.6857\n",
      "Epoch 74/100\n",
      "7/7 [==============================] - 5s 760ms/step - loss: 0.0915 - accuracy: 0.9857 - val_loss: 1.3772 - val_accuracy: 0.6857\n",
      "Epoch 75/100\n",
      "7/7 [==============================] - 8s 1s/step - loss: 0.0779 - accuracy: 0.9905 - val_loss: 1.3111 - val_accuracy: 0.6952\n",
      "Epoch 76/100\n",
      "7/7 [==============================] - 5s 693ms/step - loss: 0.0783 - accuracy: 0.9857 - val_loss: 1.5023 - val_accuracy: 0.6571\n",
      "Epoch 77/100\n",
      "7/7 [==============================] - 5s 724ms/step - loss: 0.0791 - accuracy: 0.9857 - val_loss: 1.3772 - val_accuracy: 0.6857\n",
      "Epoch 78/100\n",
      "7/7 [==============================] - 8s 1s/step - loss: 0.0765 - accuracy: 0.9905 - val_loss: 1.3054 - val_accuracy: 0.6762\n",
      "Epoch 79/100\n",
      "7/7 [==============================] - 5s 750ms/step - loss: 0.0724 - accuracy: 0.9905 - val_loss: 1.3096 - val_accuracy: 0.6667\n",
      "Epoch 80/100\n",
      "7/7 [==============================] - 10s 2s/step - loss: 0.0775 - accuracy: 0.9833 - val_loss: 1.3809 - val_accuracy: 0.6952\n",
      "Epoch 81/100\n",
      "7/7 [==============================] - 5s 706ms/step - loss: 0.0684 - accuracy: 0.9929 - val_loss: 1.2375 - val_accuracy: 0.7143\n",
      "Epoch 82/100\n",
      "7/7 [==============================] - 8s 1s/step - loss: 0.0859 - accuracy: 0.9833 - val_loss: 1.4021 - val_accuracy: 0.6762\n",
      "Epoch 83/100\n",
      "7/7 [==============================] - 8s 927ms/step - loss: 0.0839 - accuracy: 0.9905 - val_loss: 1.2692 - val_accuracy: 0.6762\n",
      "Epoch 84/100\n",
      "7/7 [==============================] - 6s 852ms/step - loss: 0.0686 - accuracy: 0.9929 - val_loss: 1.1992 - val_accuracy: 0.6952\n",
      "Epoch 85/100\n",
      "7/7 [==============================] - 9s 1s/step - loss: 0.0654 - accuracy: 0.9929 - val_loss: 1.2919 - val_accuracy: 0.6667\n",
      "Epoch 86/100\n",
      "7/7 [==============================] - 6s 883ms/step - loss: 0.0638 - accuracy: 0.9881 - val_loss: 1.3939 - val_accuracy: 0.6952\n",
      "Epoch 87/100\n",
      "7/7 [==============================] - 9s 1s/step - loss: 0.0600 - accuracy: 0.9905 - val_loss: 1.3767 - val_accuracy: 0.7048\n",
      "Epoch 88/100\n",
      "7/7 [==============================] - 5s 768ms/step - loss: 0.0585 - accuracy: 0.9929 - val_loss: 1.3958 - val_accuracy: 0.6571\n",
      "Epoch 89/100\n",
      "7/7 [==============================] - 9s 1s/step - loss: 0.0542 - accuracy: 0.9952 - val_loss: 1.4973 - val_accuracy: 0.6667\n",
      "Epoch 90/100\n",
      "7/7 [==============================] - 4s 634ms/step - loss: 0.0543 - accuracy: 0.9929 - val_loss: 1.6223 - val_accuracy: 0.6571\n",
      "Epoch 91/100\n",
      "7/7 [==============================] - 5s 676ms/step - loss: 0.0594 - accuracy: 0.9905 - val_loss: 1.3261 - val_accuracy: 0.6571\n",
      "Epoch 92/100\n",
      "7/7 [==============================] - 7s 1s/step - loss: 0.1015 - accuracy: 0.9786 - val_loss: 1.7108 - val_accuracy: 0.6286\n",
      "Epoch 93/100\n",
      "7/7 [==============================] - 5s 704ms/step - loss: 0.1923 - accuracy: 0.9595 - val_loss: 1.4482 - val_accuracy: 0.6952\n",
      "Epoch 94/100\n",
      "7/7 [==============================] - 5s 766ms/step - loss: 0.1410 - accuracy: 0.9714 - val_loss: 1.4362 - val_accuracy: 0.6476\n",
      "Epoch 95/100\n",
      "7/7 [==============================] - 6s 781ms/step - loss: 0.1519 - accuracy: 0.9690 - val_loss: 1.5031 - val_accuracy: 0.6190\n",
      "Epoch 96/100\n",
      "7/7 [==============================] - 5s 673ms/step - loss: 0.1055 - accuracy: 0.9857 - val_loss: 1.3865 - val_accuracy: 0.6857\n",
      "Epoch 97/100\n",
      "7/7 [==============================] - 5s 771ms/step - loss: 0.0890 - accuracy: 0.9881 - val_loss: 1.4091 - val_accuracy: 0.6762\n",
      "Epoch 98/100\n",
      "7/7 [==============================] - 6s 719ms/step - loss: 0.1120 - accuracy: 0.9857 - val_loss: 1.3596 - val_accuracy: 0.7048\n",
      "Epoch 99/100\n",
      "7/7 [==============================] - 5s 654ms/step - loss: 0.0644 - accuracy: 1.0000 - val_loss: 1.4363 - val_accuracy: 0.7143\n",
      "Epoch 100/100\n",
      "7/7 [==============================] - 6s 882ms/step - loss: 0.0598 - accuracy: 0.9952 - val_loss: 1.4597 - val_accuracy: 0.6857\n"
     ]
    }
   ],
   "source": [
    "history_blstm_l_cv = blstm_l_cv.fit(X_train_tcv, Y_train_tcv, epochs=EPOCHS, \n",
    "                    batch_size=BATCH,validation_data=(X_test_tcv,Y_test_tcv))"
   ]
  },
  {
   "cell_type": "code",
   "execution_count": 50,
   "id": "ca5a5853",
   "metadata": {},
   "outputs": [
    {
     "data": {
      "image/png": "[encoded data removed]",
      "text/plain": [
       "<Figure size 432x288 with 1 Axes>"
      ]
     },
     "metadata": {
      "needs_background": "light"
     },
     "output_type": "display_data"
    },
    {
     "data": {
      "image/png": "[encoded data removed]",
      "text/plain": [
       "<Figure size 432x288 with 1 Axes>"
      ]
     },
     "metadata": {
      "needs_background": "light"
     },
     "output_type": "display_data"
    }
   ],
   "source": [
    "plt.title('Loss')\n",
    "plt.plot(history_blstm_l_cv.history['loss'], label='train')\n",
    "plt.plot(history_blstm_l_cv.history['val_loss'], label='val')\n",
    "plt.legend()\n",
    "plt.show();\n",
    "\n",
    "plt.title('Accuracy')\n",
    "plt.plot(history_blstm_l_cv.history['accuracy'], label='train')\n",
    "plt.plot(history_blstm_l_cv.history['val_accuracy'], label='val')\n",
    "plt.legend()\n",
    "plt.show();"
   ]
  },
  {
   "cell_type": "code",
   "execution_count": 51,
   "id": "648df49a",
   "metadata": {},
   "outputs": [],
   "source": [
    "blstm_l_cv.save(\"blstm_l_cv.h5\")"
   ]
  },
  {
   "cell_type": "markdown",
   "id": "f6ed4e2e",
   "metadata": {},
   "source": [
    "# BiLSTM - color"
   ]
  },
  {
   "cell_type": "code",
   "execution_count": 62,
   "id": "8f28f30f",
   "metadata": {},
   "outputs": [
    {
     "name": "stdout",
     "output_type": "stream",
     "text": [
      "Model: \"sequential_3\"\n",
      "_________________________________________________________________\n",
      "Layer (type)                 Output Shape              Param #   \n",
      "=================================================================\n",
      "embedding_3 (Embedding)      (None, 287, 100)          20000     \n",
      "_________________________________________________________________\n",
      "spatial_dropout1d_3 (Spatial (None, 287, 100)          0         \n",
      "_________________________________________________________________\n",
      "bidirectional (Bidirectional (None, 256)               234496    \n",
      "_________________________________________________________________\n",
      "dense_2 (Dense)              (None, 9)                 2313      \n",
      "=================================================================\n",
      "Total params: 256,809\n",
      "Trainable params: 256,809\n",
      "Non-trainable params: 0\n",
      "_________________________________________________________________\n",
      "None\n"
     ]
    }
   ],
   "source": [
    "blstm_c_cv = Sequential()\n",
    "blstm_c_cv.add(Embedding(MAX_NB_WORDS, EMBEDDING_DIM, input_length=INPUT_LEN))\n",
    "blstm_c_cv.add(SpatialDropout1D(DROPOUT))\n",
    "blstm_c_cv.add(Bidirectional(LSTM(128)))\n",
    "blstm_c_cv.add(Dense(Y_color_train_tcv.shape[1], activation='sigmoid'))\n",
    "blstm_c_cv.compile(loss='categorical_crossentropy', optimizer='adam', metrics=['accuracy'])\n",
    "print(blstm_c_cv.summary())"
   ]
  },
  {
   "cell_type": "code",
   "execution_count": 63,
   "id": "b72f083a",
   "metadata": {},
   "outputs": [
    {
     "name": "stdout",
     "output_type": "stream",
     "text": [
      "Epoch 1/100\n",
      "7/7 [==============================] - 8s 554ms/step - loss: 2.1462 - accuracy: 0.2762 - val_loss: 2.0788 - val_accuracy: 0.2952\n",
      "Epoch 2/100\n",
      "7/7 [==============================] - 4s 568ms/step - loss: 2.0339 - accuracy: 0.2905 - val_loss: 2.0578 - val_accuracy: 0.2952\n",
      "Epoch 3/100\n",
      "7/7 [==============================] - 3s 449ms/step - loss: 2.0140 - accuracy: 0.2905 - val_loss: 2.0684 - val_accuracy: 0.2952\n",
      "Epoch 4/100\n",
      "7/7 [==============================] - 3s 442ms/step - loss: 1.9870 - accuracy: 0.2905 - val_loss: 2.0581 - val_accuracy: 0.2952\n",
      "Epoch 5/100\n",
      "7/7 [==============================] - 3s 490ms/step - loss: 1.9396 - accuracy: 0.2905 - val_loss: 2.0285 - val_accuracy: 0.2952\n",
      "Epoch 6/100\n",
      "7/7 [==============================] - 4s 556ms/step - loss: 1.8864 - accuracy: 0.3024 - val_loss: 1.9706 - val_accuracy: 0.3429\n",
      "Epoch 7/100\n",
      "7/7 [==============================] - 5s 799ms/step - loss: 1.7861 - accuracy: 0.3833 - val_loss: 1.8451 - val_accuracy: 0.4190\n",
      "Epoch 8/100\n",
      "7/7 [==============================] - 4s 591ms/step - loss: 1.6318 - accuracy: 0.5071 - val_loss: 1.6991 - val_accuracy: 0.4571\n",
      "Epoch 9/100\n",
      "7/7 [==============================] - 4s 577ms/step - loss: 1.4436 - accuracy: 0.5619 - val_loss: 1.4858 - val_accuracy: 0.4857\n",
      "Epoch 10/100\n",
      "7/7 [==============================] - 5s 739ms/step - loss: 1.2530 - accuracy: 0.5738 - val_loss: 1.3786 - val_accuracy: 0.5238\n",
      "Epoch 11/100\n",
      "7/7 [==============================] - 5s 669ms/step - loss: 3.1521 - accuracy: 0.4619 - val_loss: 3.1977 - val_accuracy: 0.3714\n",
      "Epoch 12/100\n",
      "7/7 [==============================] - 4s 591ms/step - loss: 2.1730 - accuracy: 0.4333 - val_loss: 1.4918 - val_accuracy: 0.5524\n",
      "Epoch 13/100\n",
      "7/7 [==============================] - 4s 599ms/step - loss: 1.6561 - accuracy: 0.5262 - val_loss: 1.6634 - val_accuracy: 0.5429\n",
      "Epoch 14/100\n",
      "7/7 [==============================] - 6s 853ms/step - loss: 1.5765 - accuracy: 0.5952 - val_loss: 1.5949 - val_accuracy: 0.5524\n",
      "Epoch 15/100\n",
      "7/7 [==============================] - 4s 615ms/step - loss: 1.4598 - accuracy: 0.5833 - val_loss: 1.5203 - val_accuracy: 0.4952\n",
      "Epoch 16/100\n",
      "7/7 [==============================] - 4s 631ms/step - loss: 1.3487 - accuracy: 0.5762 - val_loss: 1.4727 - val_accuracy: 0.5048\n",
      "Epoch 17/100\n",
      "7/7 [==============================] - 6s 842ms/step - loss: 1.2063 - accuracy: 0.6286 - val_loss: 1.3737 - val_accuracy: 0.5429\n",
      "Epoch 18/100\n",
      "7/7 [==============================] - 4s 603ms/step - loss: 1.0857 - accuracy: 0.6786 - val_loss: 1.2824 - val_accuracy: 0.5333\n",
      "Epoch 19/100\n",
      "7/7 [==============================] - 4s 606ms/step - loss: 1.0032 - accuracy: 0.6762 - val_loss: 1.2084 - val_accuracy: 0.5714\n",
      "Epoch 20/100\n",
      "7/7 [==============================] - 6s 914ms/step - loss: 0.9110 - accuracy: 0.7000 - val_loss: 1.1011 - val_accuracy: 0.6095\n",
      "Epoch 21/100\n",
      "7/7 [==============================] - 7s 736ms/step - loss: 0.8176 - accuracy: 0.7429 - val_loss: 1.0390 - val_accuracy: 0.6381\n",
      "Epoch 22/100\n",
      "7/7 [==============================] - 4s 639ms/step - loss: 0.7409 - accuracy: 0.7643 - val_loss: 0.9491 - val_accuracy: 0.6381\n",
      "Epoch 23/100\n",
      "7/7 [==============================] - 7s 1s/step - loss: 0.6755 - accuracy: 0.7881 - val_loss: 0.8805 - val_accuracy: 0.7048\n",
      "Epoch 24/100\n",
      "7/7 [==============================] - 6s 863ms/step - loss: 0.6162 - accuracy: 0.8286 - val_loss: 0.7838 - val_accuracy: 0.7524\n",
      "Epoch 25/100\n",
      "7/7 [==============================] - 5s 702ms/step - loss: 0.5654 - accuracy: 0.8357 - val_loss: 0.7801 - val_accuracy: 0.7048\n",
      "Epoch 26/100\n",
      "7/7 [==============================] - 7s 1s/step - loss: 0.5287 - accuracy: 0.8452 - val_loss: 0.7497 - val_accuracy: 0.7619\n",
      "Epoch 27/100\n",
      "7/7 [==============================] - 4s 633ms/step - loss: 0.4703 - accuracy: 0.8833 - val_loss: 0.6811 - val_accuracy: 0.8190\n",
      "Epoch 28/100\n",
      "7/7 [==============================] - 4s 643ms/step - loss: 0.4563 - accuracy: 0.8952 - val_loss: 0.7528 - val_accuracy: 0.7429\n",
      "Epoch 29/100\n",
      "7/7 [==============================] - 6s 962ms/step - loss: 0.4583 - accuracy: 0.8929 - val_loss: 0.6018 - val_accuracy: 0.8286\n",
      "Epoch 30/100\n",
      "7/7 [==============================] - 5s 685ms/step - loss: 0.4152 - accuracy: 0.8976 - val_loss: 0.6141 - val_accuracy: 0.8286\n",
      "Epoch 31/100\n",
      "7/7 [==============================] - 4s 625ms/step - loss: 0.3760 - accuracy: 0.8881 - val_loss: 0.6081 - val_accuracy: 0.8000\n",
      "Epoch 32/100\n",
      "7/7 [==============================] - 6s 891ms/step - loss: 0.3416 - accuracy: 0.9024 - val_loss: 0.5635 - val_accuracy: 0.8381\n",
      "Epoch 33/100\n",
      "7/7 [==============================] - 4s 618ms/step - loss: 0.3431 - accuracy: 0.9214 - val_loss: 0.5289 - val_accuracy: 0.8476\n",
      "Epoch 34/100\n",
      "7/7 [==============================] - 4s 623ms/step - loss: 0.3174 - accuracy: 0.9333 - val_loss: 0.5664 - val_accuracy: 0.8286\n",
      "Epoch 35/100\n",
      "7/7 [==============================] - 6s 876ms/step - loss: 0.3033 - accuracy: 0.9190 - val_loss: 0.5026 - val_accuracy: 0.8667\n",
      "Epoch 36/100\n",
      "7/7 [==============================] - 5s 622ms/step - loss: 0.2999 - accuracy: 0.9310 - val_loss: 0.5465 - val_accuracy: 0.8381\n",
      "Epoch 37/100\n",
      "7/7 [==============================] - 4s 632ms/step - loss: 0.4511 - accuracy: 0.8810 - val_loss: 0.5970 - val_accuracy: 0.8095\n",
      "Epoch 38/100\n",
      "7/7 [==============================] - 5s 686ms/step - loss: 0.4120 - accuracy: 0.8976 - val_loss: 0.5623 - val_accuracy: 0.8190\n",
      "Epoch 39/100\n",
      "7/7 [==============================] - 6s 749ms/step - loss: 0.3418 - accuracy: 0.9190 - val_loss: 0.6057 - val_accuracy: 0.8190\n",
      "Epoch 40/100\n",
      "7/7 [==============================] - 4s 633ms/step - loss: 0.3220 - accuracy: 0.9143 - val_loss: 0.5078 - val_accuracy: 0.8476\n",
      "Epoch 41/100\n",
      "7/7 [==============================] - 5s 660ms/step - loss: 0.2863 - accuracy: 0.9357 - val_loss: 0.4628 - val_accuracy: 0.8571\n",
      "Epoch 42/100\n",
      "7/7 [==============================] - 6s 907ms/step - loss: 0.2527 - accuracy: 0.9476 - val_loss: 0.5009 - val_accuracy: 0.8667\n",
      "Epoch 43/100\n",
      "7/7 [==============================] - 4s 621ms/step - loss: 0.2299 - accuracy: 0.9381 - val_loss: 0.5178 - val_accuracy: 0.8571\n",
      "Epoch 44/100\n",
      "7/7 [==============================] - 4s 643ms/step - loss: 0.2184 - accuracy: 0.9500 - val_loss: 0.4780 - val_accuracy: 0.8857\n",
      "Epoch 45/100\n",
      "7/7 [==============================] - 6s 934ms/step - loss: 0.2048 - accuracy: 0.9476 - val_loss: 0.4765 - val_accuracy: 0.8667\n",
      "Epoch 46/100\n",
      "7/7 [==============================] - 5s 739ms/step - loss: 0.1912 - accuracy: 0.9500 - val_loss: 0.5312 - val_accuracy: 0.8381\n",
      "Epoch 47/100\n",
      "7/7 [==============================] - 5s 659ms/step - loss: 0.1874 - accuracy: 0.9643 - val_loss: 0.4823 - val_accuracy: 0.8857\n",
      "Epoch 48/100\n",
      "7/7 [==============================] - 7s 1s/step - loss: 0.1733 - accuracy: 0.9643 - val_loss: 0.4679 - val_accuracy: 0.8667\n",
      "Epoch 49/100\n",
      "7/7 [==============================] - 5s 724ms/step - loss: 0.1636 - accuracy: 0.9619 - val_loss: 0.4677 - val_accuracy: 0.8857\n",
      "Epoch 50/100\n",
      "7/7 [==============================] - 5s 773ms/step - loss: 0.1529 - accuracy: 0.9714 - val_loss: 0.4621 - val_accuracy: 0.8762\n",
      "Epoch 51/100\n",
      "7/7 [==============================] - 7s 1s/step - loss: 0.1510 - accuracy: 0.9643 - val_loss: 0.5332 - val_accuracy: 0.8476\n",
      "Epoch 52/100\n",
      "7/7 [==============================] - 5s 675ms/step - loss: 0.1379 - accuracy: 0.9762 - val_loss: 0.5031 - val_accuracy: 0.8667\n",
      "Epoch 53/100\n",
      "7/7 [==============================] - 5s 770ms/step - loss: 0.1413 - accuracy: 0.9714 - val_loss: 0.4743 - val_accuracy: 0.8667\n",
      "Epoch 54/100\n",
      "7/7 [==============================] - 7s 929ms/step - loss: 0.1266 - accuracy: 0.9833 - val_loss: 0.4745 - val_accuracy: 0.8667\n",
      "Epoch 55/100\n",
      "7/7 [==============================] - 5s 700ms/step - loss: 0.1117 - accuracy: 0.9833 - val_loss: 0.5134 - val_accuracy: 0.8667\n",
      "Epoch 56/100\n",
      "7/7 [==============================] - 5s 695ms/step - loss: 0.1184 - accuracy: 0.9714 - val_loss: 0.5131 - val_accuracy: 0.8762\n",
      "Epoch 57/100\n",
      "7/7 [==============================] - 7s 896ms/step - loss: 0.1141 - accuracy: 0.9786 - val_loss: 0.4693 - val_accuracy: 0.8762\n",
      "Epoch 58/100\n",
      "7/7 [==============================] - 5s 677ms/step - loss: 0.1042 - accuracy: 0.9786 - val_loss: 0.4674 - val_accuracy: 0.8762\n"
     ]
    },
    {
     "name": "stdout",
     "output_type": "stream",
     "text": [
      "Epoch 59/100\n",
      "7/7 [==============================] - 7s 1s/step - loss: 0.0995 - accuracy: 0.9857 - val_loss: 0.4678 - val_accuracy: 0.8857\n",
      "Epoch 60/100\n",
      "7/7 [==============================] - 6s 744ms/step - loss: 0.1045 - accuracy: 0.9786 - val_loss: 0.4811 - val_accuracy: 0.8571\n",
      "Epoch 61/100\n",
      "7/7 [==============================] - 6s 853ms/step - loss: 0.0916 - accuracy: 0.9905 - val_loss: 0.5332 - val_accuracy: 0.8571\n",
      "Epoch 62/100\n",
      "7/7 [==============================] - 7s 1s/step - loss: 0.1393 - accuracy: 0.9690 - val_loss: 0.4273 - val_accuracy: 0.8857\n",
      "Epoch 63/100\n",
      "7/7 [==============================] - 5s 765ms/step - loss: 0.0923 - accuracy: 0.9857 - val_loss: 0.3958 - val_accuracy: 0.8762\n",
      "Epoch 64/100\n",
      "7/7 [==============================] - 6s 930ms/step - loss: 0.1019 - accuracy: 0.9810 - val_loss: 0.4050 - val_accuracy: 0.8857\n",
      "Epoch 65/100\n",
      "7/7 [==============================] - 7s 779ms/step - loss: 0.1144 - accuracy: 0.9786 - val_loss: 0.4196 - val_accuracy: 0.9048\n",
      "Epoch 66/100\n",
      "7/7 [==============================] - 5s 705ms/step - loss: 0.0850 - accuracy: 0.9857 - val_loss: 0.4648 - val_accuracy: 0.8762\n",
      "Epoch 67/100\n",
      "7/7 [==============================] - 7s 1s/step - loss: 0.0884 - accuracy: 0.9881 - val_loss: 0.3838 - val_accuracy: 0.8667\n",
      "Epoch 68/100\n",
      "7/7 [==============================] - 5s 736ms/step - loss: 0.0853 - accuracy: 0.9881 - val_loss: 0.3698 - val_accuracy: 0.8762\n",
      "Epoch 69/100\n",
      "7/7 [==============================] - 5s 674ms/step - loss: 0.2053 - accuracy: 0.9762 - val_loss: 0.3758 - val_accuracy: 0.9048\n",
      "Epoch 70/100\n",
      "7/7 [==============================] - 7s 1s/step - loss: 0.0835 - accuracy: 0.9905 - val_loss: 0.3439 - val_accuracy: 0.9048\n",
      "Epoch 71/100\n",
      "7/7 [==============================] - 5s 652ms/step - loss: 0.0789 - accuracy: 0.9881 - val_loss: 0.4090 - val_accuracy: 0.9048\n",
      "Epoch 72/100\n",
      "7/7 [==============================] - 5s 696ms/step - loss: 0.0663 - accuracy: 1.0000 - val_loss: 0.4512 - val_accuracy: 0.8762\n",
      "Epoch 73/100\n",
      "7/7 [==============================] - 7s 1s/step - loss: 0.0687 - accuracy: 0.9881 - val_loss: 0.3754 - val_accuracy: 0.8952\n",
      "Epoch 74/100\n",
      "7/7 [==============================] - 4s 645ms/step - loss: 0.0587 - accuracy: 0.9929 - val_loss: 0.3635 - val_accuracy: 0.8952\n",
      "Epoch 75/100\n",
      "7/7 [==============================] - 5s 685ms/step - loss: 0.0569 - accuracy: 0.9976 - val_loss: 0.3846 - val_accuracy: 0.9048\n",
      "Epoch 76/100\n",
      "7/7 [==============================] - 7s 1s/step - loss: 0.0437 - accuracy: 1.0000 - val_loss: 0.3857 - val_accuracy: 0.9048\n",
      "Epoch 77/100\n",
      "7/7 [==============================] - 5s 735ms/step - loss: 0.0547 - accuracy: 0.9905 - val_loss: 0.3504 - val_accuracy: 0.9143\n",
      "Epoch 78/100\n",
      "7/7 [==============================] - 6s 829ms/step - loss: 0.0550 - accuracy: 0.9857 - val_loss: 0.4165 - val_accuracy: 0.8952\n",
      "Epoch 79/100\n",
      "7/7 [==============================] - 6s 765ms/step - loss: 0.0513 - accuracy: 0.9952 - val_loss: 0.4704 - val_accuracy: 0.8857\n",
      "Epoch 80/100\n",
      "7/7 [==============================] - 4s 643ms/step - loss: 0.0477 - accuracy: 0.9976 - val_loss: 0.4336 - val_accuracy: 0.8667\n",
      "Epoch 81/100\n",
      "7/7 [==============================] - 5s 707ms/step - loss: 0.0406 - accuracy: 0.9976 - val_loss: 0.4378 - val_accuracy: 0.8857\n",
      "Epoch 82/100\n",
      "7/7 [==============================] - 7s 846ms/step - loss: 0.0402 - accuracy: 0.9976 - val_loss: 0.4365 - val_accuracy: 0.8857\n",
      "Epoch 83/100\n",
      "7/7 [==============================] - 5s 651ms/step - loss: 0.0392 - accuracy: 0.9976 - val_loss: 0.4548 - val_accuracy: 0.8952\n",
      "Epoch 84/100\n",
      "7/7 [==============================] - 5s 715ms/step - loss: 0.0377 - accuracy: 0.9929 - val_loss: 0.4471 - val_accuracy: 0.9048\n",
      "Epoch 85/100\n",
      "7/7 [==============================] - 5s 673ms/step - loss: 0.0353 - accuracy: 0.9976 - val_loss: 0.4371 - val_accuracy: 0.8762\n",
      "Epoch 86/100\n",
      "7/7 [==============================] - 5s 686ms/step - loss: 0.0321 - accuracy: 0.9952 - val_loss: 0.4688 - val_accuracy: 0.8857\n",
      "Epoch 87/100\n",
      "7/7 [==============================] - 5s 792ms/step - loss: 0.0321 - accuracy: 0.9976 - val_loss: 0.4708 - val_accuracy: 0.8857\n",
      "Epoch 88/100\n",
      "7/7 [==============================] - 7s 1s/step - loss: 0.0287 - accuracy: 1.0000 - val_loss: 0.4913 - val_accuracy: 0.8667\n",
      "Epoch 89/100\n",
      "7/7 [==============================] - 5s 727ms/step - loss: 0.0309 - accuracy: 0.9976 - val_loss: 0.4753 - val_accuracy: 0.8762\n",
      "Epoch 90/100\n",
      "7/7 [==============================] - 6s 915ms/step - loss: 0.0315 - accuracy: 0.9976 - val_loss: 0.4657 - val_accuracy: 0.8762\n",
      "Epoch 91/100\n",
      "7/7 [==============================] - 5s 697ms/step - loss: 0.0314 - accuracy: 0.9976 - val_loss: 0.5053 - val_accuracy: 0.8571\n",
      "Epoch 92/100\n",
      "7/7 [==============================] - 4s 638ms/step - loss: 0.0239 - accuracy: 1.0000 - val_loss: 0.5175 - val_accuracy: 0.8667\n",
      "Epoch 93/100\n",
      "7/7 [==============================] - 4s 647ms/step - loss: 0.0306 - accuracy: 0.9929 - val_loss: 0.4615 - val_accuracy: 0.8476\n",
      "Epoch 94/100\n",
      "7/7 [==============================] - 6s 817ms/step - loss: 0.0459 - accuracy: 0.9905 - val_loss: 0.4969 - val_accuracy: 0.8571\n",
      "Epoch 95/100\n",
      "7/7 [==============================] - 5s 649ms/step - loss: 0.0377 - accuracy: 0.9929 - val_loss: 0.4264 - val_accuracy: 0.8667\n",
      "Epoch 96/100\n",
      "7/7 [==============================] - 5s 721ms/step - loss: 0.0295 - accuracy: 0.9976 - val_loss: 0.3955 - val_accuracy: 0.8762\n",
      "Epoch 97/100\n",
      "7/7 [==============================] - 7s 1s/step - loss: 0.0322 - accuracy: 0.9976 - val_loss: 0.4666 - val_accuracy: 0.8762\n",
      "Epoch 98/100\n",
      "7/7 [==============================] - 5s 701ms/step - loss: 0.0247 - accuracy: 0.9976 - val_loss: 0.4609 - val_accuracy: 0.8857\n",
      "Epoch 99/100\n",
      "7/7 [==============================] - 5s 734ms/step - loss: 0.0227 - accuracy: 0.9976 - val_loss: 0.4488 - val_accuracy: 0.8952\n",
      "Epoch 100/100\n",
      "7/7 [==============================] - 7s 933ms/step - loss: 0.0224 - accuracy: 1.0000 - val_loss: 0.4899 - val_accuracy: 0.8667\n"
     ]
    }
   ],
   "source": [
    "history_blstm_c_cv = blstm_c_cv.fit(X_train_tcv, Y_color_train_tcv, epochs=EPOCHS, \n",
    "                    batch_size=BATCH,validation_data=(X_test_tcv,Y_color_test_tcv))"
   ]
  },
  {
   "cell_type": "code",
   "execution_count": 64,
   "id": "29d1061a",
   "metadata": {},
   "outputs": [
    {
     "data": {
      "image/png": "[encoded data removed]",
      "text/plain": [
       "<Figure size 432x288 with 1 Axes>"
      ]
     },
     "metadata": {
      "needs_background": "light"
     },
     "output_type": "display_data"
    },
    {
     "data": {
      "image/png": "[encoded data removed]",
      "text/plain": [
       "<Figure size 432x288 with 1 Axes>"
      ]
     },
     "metadata": {
      "needs_background": "light"
     },
     "output_type": "display_data"
    }
   ],
   "source": [
    "plt.title('Loss')\n",
    "plt.plot(history_blstm_c_cv.history['loss'], label='train')\n",
    "plt.plot(history_blstm_c_cv.history['val_loss'], label='val')\n",
    "plt.legend()\n",
    "plt.show();\n",
    "\n",
    "plt.title('Accuracy')\n",
    "plt.plot(history_blstm_c_cv.history['accuracy'], label='train')\n",
    "plt.plot(history_blstm_c_cv.history['val_accuracy'], label='val')\n",
    "plt.legend()\n",
    "plt.show();"
   ]
  },
  {
   "cell_type": "code",
   "execution_count": 65,
   "id": "29a9f8da",
   "metadata": {},
   "outputs": [],
   "source": [
    "blstm_c_cv.save(\"blstm_c_cv.h5\")"
   ]
  },
  {
   "cell_type": "markdown",
   "id": "35a2c4e2",
   "metadata": {},
   "source": [
    "# BiLSTM - shape"
   ]
  },
  {
   "cell_type": "code",
   "execution_count": 66,
   "id": "227225d2",
   "metadata": {},
   "outputs": [
    {
     "name": "stdout",
     "output_type": "stream",
     "text": [
      "Model: \"sequential_4\"\n",
      "_________________________________________________________________\n",
      "Layer (type)                 Output Shape              Param #   \n",
      "=================================================================\n",
      "embedding_4 (Embedding)      (None, 287, 100)          20000     \n",
      "_________________________________________________________________\n",
      "spatial_dropout1d_4 (Spatial (None, 287, 100)          0         \n",
      "_________________________________________________________________\n",
      "bidirectional_1 (Bidirection (None, 256)               234496    \n",
      "_________________________________________________________________\n",
      "dense_3 (Dense)              (None, 12)                3084      \n",
      "=================================================================\n",
      "Total params: 257,580\n",
      "Trainable params: 257,580\n",
      "Non-trainable params: 0\n",
      "_________________________________________________________________\n",
      "None\n"
     ]
    }
   ],
   "source": [
    "blstm_s_cv = Sequential()\n",
    "blstm_s_cv.add(Embedding(MAX_NB_WORDS, EMBEDDING_DIM, input_length=INPUT_LEN))\n",
    "blstm_s_cv.add(SpatialDropout1D(DROPOUT))\n",
    "blstm_s_cv.add(Bidirectional(LSTM(128)))\n",
    "blstm_s_cv.add(Dense(Y_shape_train_tcv.shape[1], activation='sigmoid'))\n",
    "blstm_s_cv.compile(loss='categorical_crossentropy', optimizer='adam', metrics=['accuracy'])\n",
    "print(blstm_s_cv.summary())"
   ]
  },
  {
   "cell_type": "code",
   "execution_count": 67,
   "id": "bf41338c",
   "metadata": {},
   "outputs": [
    {
     "name": "stdout",
     "output_type": "stream",
     "text": [
      "Epoch 1/100\n",
      "7/7 [==============================] - 12s 1s/step - loss: 2.4831 - accuracy: 0.0976 - val_loss: 2.4747 - val_accuracy: 0.1238\n",
      "Epoch 2/100\n",
      "7/7 [==============================] - 4s 639ms/step - loss: 2.4634 - accuracy: 0.1119 - val_loss: 2.4597 - val_accuracy: 0.1048\n",
      "Epoch 3/100\n",
      "7/7 [==============================] - 5s 650ms/step - loss: 2.4478 - accuracy: 0.1071 - val_loss: 2.4439 - val_accuracy: 0.1048\n",
      "Epoch 4/100\n",
      "7/7 [==============================] - 6s 939ms/step - loss: 2.4228 - accuracy: 0.1476 - val_loss: 2.4203 - val_accuracy: 0.1619\n",
      "Epoch 5/100\n",
      "7/7 [==============================] - 5s 691ms/step - loss: 2.3873 - accuracy: 0.1905 - val_loss: 2.3887 - val_accuracy: 0.2286\n",
      "Epoch 6/100\n",
      "7/7 [==============================] - 5s 659ms/step - loss: 2.3328 - accuracy: 0.2738 - val_loss: 2.3654 - val_accuracy: 0.1524\n",
      "Epoch 7/100\n",
      "7/7 [==============================] - 6s 946ms/step - loss: 2.2669 - accuracy: 0.2881 - val_loss: 2.2628 - val_accuracy: 0.2571\n",
      "Epoch 8/100\n",
      "7/7 [==============================] - 5s 669ms/step - loss: 2.1458 - accuracy: 0.2929 - val_loss: 2.2120 - val_accuracy: 0.2571\n",
      "Epoch 9/100\n",
      "7/7 [==============================] - 5s 702ms/step - loss: 2.0243 - accuracy: 0.3810 - val_loss: 2.0584 - val_accuracy: 0.4000\n",
      "Epoch 10/100\n",
      "7/7 [==============================] - 6s 978ms/step - loss: 1.8636 - accuracy: 0.4143 - val_loss: 1.9610 - val_accuracy: 0.4095\n",
      "Epoch 11/100\n",
      "7/7 [==============================] - 5s 706ms/step - loss: 1.7552 - accuracy: 0.5000 - val_loss: 1.8824 - val_accuracy: 0.4667\n",
      "Epoch 12/100\n",
      "7/7 [==============================] - 5s 715ms/step - loss: 1.6255 - accuracy: 0.5381 - val_loss: 1.7719 - val_accuracy: 0.5238\n",
      "Epoch 13/100\n",
      "7/7 [==============================] - 8s 1s/step - loss: 1.4840 - accuracy: 0.5548 - val_loss: 1.6953 - val_accuracy: 0.4952\n",
      "Epoch 14/100\n",
      "7/7 [==============================] - 5s 746ms/step - loss: 1.3504 - accuracy: 0.5810 - val_loss: 1.5534 - val_accuracy: 0.5714\n",
      "Epoch 15/100\n",
      "7/7 [==============================] - 5s 732ms/step - loss: 1.2215 - accuracy: 0.6548 - val_loss: 1.4725 - val_accuracy: 0.5810\n",
      "Epoch 16/100\n",
      "7/7 [==============================] - 8s 1s/step - loss: 1.0895 - accuracy: 0.6833 - val_loss: 1.4478 - val_accuracy: 0.5619\n",
      "Epoch 17/100\n",
      "7/7 [==============================] - 5s 734ms/step - loss: 1.0149 - accuracy: 0.7024 - val_loss: 1.3887 - val_accuracy: 0.5714\n",
      "Epoch 18/100\n",
      "7/7 [==============================] - 8s 1s/step - loss: 0.8936 - accuracy: 0.7238 - val_loss: 1.3580 - val_accuracy: 0.5810\n",
      "Epoch 19/100\n",
      "7/7 [==============================] - 5s 754ms/step - loss: 0.7905 - accuracy: 0.7571 - val_loss: 1.2821 - val_accuracy: 0.6286\n",
      "Epoch 20/100\n",
      "7/7 [==============================] - 5s 775ms/step - loss: 0.7529 - accuracy: 0.7952 - val_loss: 1.2736 - val_accuracy: 0.6381\n",
      "Epoch 21/100\n",
      "7/7 [==============================] - 7s 1s/step - loss: 0.6800 - accuracy: 0.8024 - val_loss: 1.3807 - val_accuracy: 0.6476\n",
      "Epoch 22/100\n",
      "7/7 [==============================] - 5s 723ms/step - loss: 0.6321 - accuracy: 0.8119 - val_loss: 1.2740 - val_accuracy: 0.6476\n",
      "Epoch 23/100\n",
      "7/7 [==============================] - 5s 752ms/step - loss: 0.5527 - accuracy: 0.8357 - val_loss: 1.3573 - val_accuracy: 0.6571\n",
      "Epoch 24/100\n",
      "7/7 [==============================] - 6s 832ms/step - loss: 0.5334 - accuracy: 0.8381 - val_loss: 1.2213 - val_accuracy: 0.6381\n",
      "Epoch 25/100\n",
      "7/7 [==============================] - 5s 713ms/step - loss: 0.4648 - accuracy: 0.8905 - val_loss: 1.2746 - val_accuracy: 0.6571\n",
      "Epoch 26/100\n",
      "7/7 [==============================] - 6s 868ms/step - loss: 0.4120 - accuracy: 0.9000 - val_loss: 1.2826 - val_accuracy: 0.6476\n",
      "Epoch 27/100\n",
      "7/7 [==============================] - 6s 762ms/step - loss: 0.4012 - accuracy: 0.8857 - val_loss: 1.2578 - val_accuracy: 0.6762\n",
      "Epoch 28/100\n",
      "7/7 [==============================] - 4s 642ms/step - loss: 0.3517 - accuracy: 0.9048 - val_loss: 1.1451 - val_accuracy: 0.6952\n",
      "Epoch 29/100\n",
      "7/7 [==============================] - 7s 1s/step - loss: 0.3463 - accuracy: 0.9071 - val_loss: 1.2133 - val_accuracy: 0.6857\n",
      "Epoch 30/100\n",
      "7/7 [==============================] - 5s 663ms/step - loss: 0.3022 - accuracy: 0.9095 - val_loss: 1.1496 - val_accuracy: 0.7429\n",
      "Epoch 31/100\n",
      "7/7 [==============================] - 4s 641ms/step - loss: 0.3058 - accuracy: 0.9310 - val_loss: 1.1243 - val_accuracy: 0.7333\n",
      "Epoch 32/100\n",
      "7/7 [==============================] - 6s 881ms/step - loss: 0.2864 - accuracy: 0.9262 - val_loss: 1.0964 - val_accuracy: 0.7714\n",
      "Epoch 33/100\n",
      "7/7 [==============================] - 5s 635ms/step - loss: 0.3007 - accuracy: 0.9190 - val_loss: 1.2159 - val_accuracy: 0.6952\n",
      "Epoch 34/100\n",
      "7/7 [==============================] - 5s 652ms/step - loss: 0.2495 - accuracy: 0.9381 - val_loss: 1.2157 - val_accuracy: 0.7333\n",
      "Epoch 35/100\n",
      "7/7 [==============================] - 6s 929ms/step - loss: 0.2163 - accuracy: 0.9500 - val_loss: 1.2045 - val_accuracy: 0.7238\n",
      "Epoch 36/100\n",
      "7/7 [==============================] - 5s 656ms/step - loss: 0.2087 - accuracy: 0.9357 - val_loss: 1.2506 - val_accuracy: 0.7143\n",
      "Epoch 37/100\n",
      "7/7 [==============================] - 5s 653ms/step - loss: 0.1761 - accuracy: 0.9476 - val_loss: 1.2495 - val_accuracy: 0.7143\n",
      "Epoch 38/100\n",
      "7/7 [==============================] - 8s 1s/step - loss: 0.1715 - accuracy: 0.9548 - val_loss: 1.1547 - val_accuracy: 0.7429\n",
      "Epoch 39/100\n",
      "7/7 [==============================] - 5s 678ms/step - loss: 0.1610 - accuracy: 0.9548 - val_loss: 1.1847 - val_accuracy: 0.7524\n",
      "Epoch 40/100\n",
      "7/7 [==============================] - 5s 686ms/step - loss: 0.1446 - accuracy: 0.9690 - val_loss: 1.2037 - val_accuracy: 0.7333\n",
      "Epoch 41/100\n",
      "7/7 [==============================] - 6s 931ms/step - loss: 0.1415 - accuracy: 0.9643 - val_loss: 1.2217 - val_accuracy: 0.7238\n",
      "Epoch 42/100\n",
      "7/7 [==============================] - 4s 635ms/step - loss: 0.1395 - accuracy: 0.9619 - val_loss: 1.0950 - val_accuracy: 0.7333\n",
      "Epoch 43/100\n",
      "7/7 [==============================] - 4s 632ms/step - loss: 0.1473 - accuracy: 0.9524 - val_loss: 1.1597 - val_accuracy: 0.7429\n",
      "Epoch 44/100\n",
      "7/7 [==============================] - 6s 882ms/step - loss: 0.1572 - accuracy: 0.9595 - val_loss: 1.1381 - val_accuracy: 0.7429\n",
      "Epoch 45/100\n",
      "7/7 [==============================] - 5s 636ms/step - loss: 0.1332 - accuracy: 0.9690 - val_loss: 1.1205 - val_accuracy: 0.7524\n",
      "Epoch 46/100\n",
      "7/7 [==============================] - 4s 628ms/step - loss: 0.1279 - accuracy: 0.9690 - val_loss: 1.1975 - val_accuracy: 0.7524\n",
      "Epoch 47/100\n",
      "7/7 [==============================] - 5s 666ms/step - loss: 0.1267 - accuracy: 0.9690 - val_loss: 1.0738 - val_accuracy: 0.7524\n",
      "Epoch 48/100\n",
      "7/7 [==============================] - 6s 796ms/step - loss: 0.1198 - accuracy: 0.9667 - val_loss: 1.1168 - val_accuracy: 0.7714\n",
      "Epoch 49/100\n",
      "7/7 [==============================] - 4s 639ms/step - loss: 0.1117 - accuracy: 0.9786 - val_loss: 1.1593 - val_accuracy: 0.7429\n",
      "Epoch 50/100\n",
      "7/7 [==============================] - 4s 643ms/step - loss: 0.0966 - accuracy: 0.9833 - val_loss: 1.1613 - val_accuracy: 0.7333\n",
      "Epoch 51/100\n",
      "7/7 [==============================] - 6s 910ms/step - loss: 0.0963 - accuracy: 0.9738 - val_loss: 1.2121 - val_accuracy: 0.7238\n",
      "Epoch 52/100\n",
      "7/7 [==============================] - 4s 631ms/step - loss: 0.0799 - accuracy: 0.9738 - val_loss: 1.1963 - val_accuracy: 0.7238\n",
      "Epoch 53/100\n",
      "7/7 [==============================] - 4s 641ms/step - loss: 0.0876 - accuracy: 0.9714 - val_loss: 1.1621 - val_accuracy: 0.7429\n",
      "Epoch 54/100\n",
      "7/7 [==============================] - 6s 903ms/step - loss: 0.0778 - accuracy: 0.9905 - val_loss: 1.1642 - val_accuracy: 0.7429\n",
      "Epoch 55/100\n",
      "7/7 [==============================] - 4s 641ms/step - loss: 0.0953 - accuracy: 0.9810 - val_loss: 1.1280 - val_accuracy: 0.7619\n",
      "Epoch 56/100\n",
      "7/7 [==============================] - 4s 634ms/step - loss: 0.0907 - accuracy: 0.9786 - val_loss: 1.2142 - val_accuracy: 0.7524\n",
      "Epoch 57/100\n",
      "7/7 [==============================] - 6s 932ms/step - loss: 0.0702 - accuracy: 0.9881 - val_loss: 1.1763 - val_accuracy: 0.7429\n",
      "Epoch 58/100\n",
      "7/7 [==============================] - 5s 648ms/step - loss: 0.0767 - accuracy: 0.9810 - val_loss: 1.1193 - val_accuracy: 0.7714\n"
     ]
    },
    {
     "name": "stdout",
     "output_type": "stream",
     "text": [
      "Epoch 59/100\n",
      "7/7 [==============================] - 4s 634ms/step - loss: 0.0804 - accuracy: 0.9833 - val_loss: 1.1686 - val_accuracy: 0.7524\n",
      "Epoch 60/100\n",
      "7/7 [==============================] - 5s 778ms/step - loss: 0.0868 - accuracy: 0.9738 - val_loss: 1.1594 - val_accuracy: 0.7429\n",
      "Epoch 61/100\n",
      "7/7 [==============================] - 5s 683ms/step - loss: 0.0756 - accuracy: 0.9810 - val_loss: 1.0903 - val_accuracy: 0.7905\n",
      "Epoch 62/100\n",
      "7/7 [==============================] - 4s 638ms/step - loss: 0.0669 - accuracy: 0.9833 - val_loss: 1.1087 - val_accuracy: 0.7619\n",
      "Epoch 63/100\n",
      "7/7 [==============================] - 5s 750ms/step - loss: 0.0877 - accuracy: 0.9810 - val_loss: 1.1173 - val_accuracy: 0.7429\n",
      "Epoch 64/100\n",
      "7/7 [==============================] - 7s 960ms/step - loss: 0.0744 - accuracy: 0.9857 - val_loss: 1.1728 - val_accuracy: 0.7619\n",
      "Epoch 65/100\n",
      "7/7 [==============================] - 5s 704ms/step - loss: 0.0670 - accuracy: 0.9810 - val_loss: 1.1628 - val_accuracy: 0.7714\n",
      "Epoch 66/100\n",
      "7/7 [==============================] - 7s 1s/step - loss: 0.0679 - accuracy: 0.9810 - val_loss: 1.2119 - val_accuracy: 0.7619\n",
      "Epoch 67/100\n",
      "7/7 [==============================] - 5s 674ms/step - loss: 0.0670 - accuracy: 0.9857 - val_loss: 1.2043 - val_accuracy: 0.7619\n",
      "Epoch 68/100\n",
      "7/7 [==============================] - 4s 639ms/step - loss: 0.0833 - accuracy: 0.9833 - val_loss: 1.2225 - val_accuracy: 0.7524\n",
      "Epoch 69/100\n",
      "7/7 [==============================] - 7s 1s/step - loss: 0.1031 - accuracy: 0.9690 - val_loss: 1.1816 - val_accuracy: 0.7619\n",
      "Epoch 70/100\n",
      "7/7 [==============================] - 5s 760ms/step - loss: 0.0976 - accuracy: 0.9786 - val_loss: 1.1243 - val_accuracy: 0.7238\n",
      "Epoch 71/100\n",
      "7/7 [==============================] - 5s 784ms/step - loss: 0.1205 - accuracy: 0.9667 - val_loss: 1.1801 - val_accuracy: 0.7810\n",
      "Epoch 72/100\n",
      "7/7 [==============================] - 7s 973ms/step - loss: 0.0890 - accuracy: 0.9762 - val_loss: 1.2582 - val_accuracy: 0.7619\n",
      "Epoch 73/100\n",
      "7/7 [==============================] - 5s 691ms/step - loss: 0.0779 - accuracy: 0.9833 - val_loss: 1.2532 - val_accuracy: 0.7238\n",
      "Epoch 74/100\n",
      "7/7 [==============================] - 5s 656ms/step - loss: 0.0957 - accuracy: 0.9786 - val_loss: 1.5108 - val_accuracy: 0.7238\n",
      "Epoch 75/100\n",
      "7/7 [==============================] - 6s 969ms/step - loss: 0.1020 - accuracy: 0.9714 - val_loss: 1.0871 - val_accuracy: 0.7524\n",
      "Epoch 76/100\n",
      "7/7 [==============================] - 4s 638ms/step - loss: 0.1380 - accuracy: 0.9738 - val_loss: 1.1606 - val_accuracy: 0.6952\n",
      "Epoch 77/100\n",
      "7/7 [==============================] - 5s 655ms/step - loss: 0.0899 - accuracy: 0.9762 - val_loss: 1.2098 - val_accuracy: 0.7238\n",
      "Epoch 78/100\n",
      "7/7 [==============================] - 6s 957ms/step - loss: 0.0753 - accuracy: 0.9833 - val_loss: 1.4907 - val_accuracy: 0.7048\n",
      "Epoch 79/100\n",
      "7/7 [==============================] - 4s 632ms/step - loss: 0.0850 - accuracy: 0.9690 - val_loss: 1.4004 - val_accuracy: 0.7429\n",
      "Epoch 80/100\n",
      "7/7 [==============================] - 4s 648ms/step - loss: 0.0620 - accuracy: 0.9929 - val_loss: 1.2732 - val_accuracy: 0.7238\n",
      "Epoch 81/100\n",
      "7/7 [==============================] - 6s 939ms/step - loss: 0.0605 - accuracy: 0.9905 - val_loss: 1.3332 - val_accuracy: 0.7238\n",
      "Epoch 82/100\n",
      "7/7 [==============================] - 4s 637ms/step - loss: 0.0571 - accuracy: 0.9857 - val_loss: 1.2996 - val_accuracy: 0.7429\n",
      "Epoch 83/100\n",
      "7/7 [==============================] - 4s 635ms/step - loss: 0.0475 - accuracy: 0.9929 - val_loss: 1.2234 - val_accuracy: 0.7429\n",
      "Epoch 84/100\n",
      "7/7 [==============================] - 6s 892ms/step - loss: 0.0442 - accuracy: 0.9976 - val_loss: 1.2393 - val_accuracy: 0.7429\n",
      "Epoch 85/100\n",
      "7/7 [==============================] - 5s 627ms/step - loss: 0.0372 - accuracy: 1.0000 - val_loss: 1.3115 - val_accuracy: 0.7333\n",
      "Epoch 86/100\n",
      "7/7 [==============================] - 4s 635ms/step - loss: 0.0390 - accuracy: 0.9952 - val_loss: 1.3306 - val_accuracy: 0.7143\n",
      "Epoch 87/100\n",
      "7/7 [==============================] - 5s 682ms/step - loss: 0.0379 - accuracy: 0.9952 - val_loss: 1.2516 - val_accuracy: 0.7333\n",
      "Epoch 88/100\n",
      "7/7 [==============================] - 6s 754ms/step - loss: 0.0420 - accuracy: 0.9857 - val_loss: 1.2398 - val_accuracy: 0.7524\n",
      "Epoch 89/100\n",
      "7/7 [==============================] - 4s 634ms/step - loss: 0.0351 - accuracy: 1.0000 - val_loss: 1.1789 - val_accuracy: 0.7429\n",
      "Epoch 90/100\n",
      "7/7 [==============================] - 5s 659ms/step - loss: 0.0328 - accuracy: 1.0000 - val_loss: 1.1809 - val_accuracy: 0.7238\n",
      "Epoch 91/100\n",
      "7/7 [==============================] - 6s 935ms/step - loss: 0.0385 - accuracy: 0.9952 - val_loss: 1.1890 - val_accuracy: 0.7333\n",
      "Epoch 92/100\n",
      "7/7 [==============================] - 5s 643ms/step - loss: 0.0276 - accuracy: 0.9976 - val_loss: 1.2250 - val_accuracy: 0.7333\n",
      "Epoch 93/100\n",
      "7/7 [==============================] - 5s 665ms/step - loss: 0.0340 - accuracy: 0.9929 - val_loss: 1.2595 - val_accuracy: 0.7238\n",
      "Epoch 94/100\n",
      "7/7 [==============================] - 6s 957ms/step - loss: 0.0291 - accuracy: 0.9976 - val_loss: 1.3141 - val_accuracy: 0.7333\n",
      "Epoch 95/100\n",
      "7/7 [==============================] - 5s 689ms/step - loss: 0.0280 - accuracy: 1.0000 - val_loss: 1.3468 - val_accuracy: 0.7048\n",
      "Epoch 96/100\n",
      "7/7 [==============================] - 5s 685ms/step - loss: 0.0335 - accuracy: 0.9976 - val_loss: 1.2993 - val_accuracy: 0.7143\n",
      "Epoch 97/100\n",
      "7/7 [==============================] - 7s 980ms/step - loss: 0.0273 - accuracy: 0.9976 - val_loss: 1.2696 - val_accuracy: 0.7333\n",
      "Epoch 98/100\n",
      "7/7 [==============================] - 5s 677ms/step - loss: 0.0272 - accuracy: 0.9976 - val_loss: 1.2813 - val_accuracy: 0.7333\n",
      "Epoch 99/100\n",
      "7/7 [==============================] - 5s 695ms/step - loss: 0.0222 - accuracy: 0.9976 - val_loss: 1.2857 - val_accuracy: 0.7333\n",
      "Epoch 100/100\n",
      "7/7 [==============================] - 7s 996ms/step - loss: 0.0236 - accuracy: 1.0000 - val_loss: 1.2771 - val_accuracy: 0.7238\n"
     ]
    }
   ],
   "source": [
    "history_blstm_s_cv = blstm_s_cv.fit(X_train_tcv, Y_shape_train_tcv, epochs=EPOCHS, \n",
    "                    batch_size=BATCH,validation_data=(X_test_tcv,Y_shape_test_tcv))"
   ]
  },
  {
   "cell_type": "code",
   "execution_count": 68,
   "id": "2c55f466",
   "metadata": {},
   "outputs": [
    {
     "data": {
      "image/png": "[encoded data removed]",
      "text/plain": [
       "<Figure size 432x288 with 1 Axes>"
      ]
     },
     "metadata": {
      "needs_background": "light"
     },
     "output_type": "display_data"
    },
    {
     "data": {
      "image/png": "[encoded data removed]",
      "text/plain": [
       "<Figure size 432x288 with 1 Axes>"
      ]
     },
     "metadata": {
      "needs_background": "light"
     },
     "output_type": "display_data"
    }
   ],
   "source": [
    "plt.title('Loss')\n",
    "plt.plot(history_blstm_s_cv.history['loss'], label='train')\n",
    "plt.plot(history_blstm_s_cv.history['val_loss'], label='val')\n",
    "plt.legend()\n",
    "plt.show();\n",
    "\n",
    "plt.title('Accuracy')\n",
    "plt.plot(history_blstm_s_cv.history['accuracy'], label='train')\n",
    "plt.plot(history_blstm_s_cv.history['val_accuracy'], label='val')\n",
    "plt.legend()\n",
    "plt.show();"
   ]
  },
  {
   "cell_type": "code",
   "execution_count": 69,
   "id": "8137fee9",
   "metadata": {},
   "outputs": [],
   "source": [
    "blstm_s_cv.save(\"blstm_s_cv.h5\")"
   ]
  },
  {
   "cell_type": "markdown",
   "id": "f260d6af",
   "metadata": {},
   "source": [
    "## BiLSTM Combined"
   ]
  },
  {
   "cell_type": "code",
   "execution_count": 1,
   "id": "eedbf0b4",
   "metadata": {},
   "outputs": [
    {
     "name": "stdout",
     "output_type": "stream",
     "text": [
      "Train Accuracy of combined color + shape model: 1.0\n"
     ]
    }
   ],
   "source": [
    "correct = 0\n",
    "\n",
    "for pos,text in enumerate(X_train_tcv):\n",
    "\n",
    "    text_r = text.reshape(1,-1)\n",
    "\n",
    "    c_pred = np.argmax(blstm_c_cv.predict(text_r))\n",
    "    s_pred = np.argmax(blstm_s_cv.predict(text_r))\n",
    "    \n",
    "    l_pred = color_list[c_pred]+' '+shape_list[s_pred]\n",
    "    true = label_list[np.argmax(Y_train_tcv[pos])]\n",
    "    \n",
    "#    print ('Text:', sequence_to_text(text))\n",
    "#    print ('Predict:',l_pred)\n",
    "#    print ('True:', true)\n",
    "    \n",
    "    if l_pred == true:\n",
    "        correct += 1\n",
    "print('Train Accuracy of combined color + shape model:', correct/len(Y_train_tcv))"
   ]
  },
  {
   "cell_type": "code",
   "execution_count": 2,
   "id": "e3e01e89",
   "metadata": {},
   "outputs": [
    {
     "name": "stdout",
     "output_type": "stream",
     "text": [
      "Test Accuracy of combined color + shape model: 0.638095238095238\n"
     ]
    }
   ],
   "source": [
    "correct = 0\n",
    "\n",
    "for pos,text in enumerate(X_test_tcv):\n",
    "\n",
    "    text_r = text.reshape(1,-1)\n",
    "\n",
    "    c_pred = np.argmax(blstm_c_cv.predict(text_r))\n",
    "    s_pred = np.argmax(blstm_s_cv.predict(text_r))\n",
    "    \n",
    "    l_pred = color_list[c_pred]+' '+shape_list[s_pred]\n",
    "    true = label_list[np.argmax(Y_test_tcv[pos])]\n",
    "    \n",
    "    print ('Text:', sequence_to_text(text))\n",
    "    print ('Predict:',l_pred)\n",
    "    print ('True:', true)\n",
    "    \n",
    "    if l_pred == true:\n",
    "        correct += 1\n",
    "print('Test Accuracy of combined color + shape model:', correct/len(Y_test_tcv))"
   ]
  },
  {
   "cell_type": "markdown",
   "id": "d62dfe58",
   "metadata": {},
   "source": [
    "# BiLSTM - Aug"
   ]
  },
  {
   "cell_type": "code",
   "execution_count": 27,
   "id": "1ad3b5e8",
   "metadata": {},
   "outputs": [
    {
     "name": "stdout",
     "output_type": "stream",
     "text": [
      "Model: \"sequential_1\"\n",
      "_________________________________________________________________\n",
      "Layer (type)                 Output Shape              Param #   \n",
      "=================================================================\n",
      "embedding_1 (Embedding)      (None, 287, 100)          20000     \n",
      "_________________________________________________________________\n",
      "spatial_dropout1d_1 (Spatial (None, 287, 100)          0         \n",
      "_________________________________________________________________\n",
      "bidirectional (Bidirectional (None, 256)               234496    \n",
      "_________________________________________________________________\n",
      "dense (Dense)                (None, 23)                5911      \n",
      "=================================================================\n",
      "Total params: 260,407\n",
      "Trainable params: 260,407\n",
      "Non-trainable params: 0\n",
      "_________________________________________________________________\n",
      "None\n"
     ]
    }
   ],
   "source": [
    "blstm_aug = Sequential()\n",
    "blstm_aug.add(Embedding(MAX_NB_WORDS, EMBEDDING_DIM, input_length=INPUT_LEN))\n",
    "blstm_aug.add(SpatialDropout1D(DROPOUT))\n",
    "blstm_aug.add(Bidirectional((LSTM(128))))\n",
    "blstm_aug.add(Dense(Y_train_aug.shape[1], activation='sigmoid'))\n",
    "blstm_aug.compile(loss='categorical_crossentropy', optimizer='adam', metrics=['accuracy'])\n",
    "print(blstm_aug.summary())"
   ]
  },
  {
   "cell_type": "code",
   "execution_count": 28,
   "id": "29bb813a",
   "metadata": {},
   "outputs": [
    {
     "name": "stdout",
     "output_type": "stream",
     "text": [
      "Epoch 1/50\n",
      "101/101 [==============================] - 324s 3s/step - loss: 2.5061 - accuracy: 0.3208 - val_loss: 1.6125 - val_accuracy: 0.6005\n",
      "Epoch 2/50\n",
      "101/101 [==============================] - 330s 3s/step - loss: 0.6711 - accuracy: 0.8504 - val_loss: 0.2378 - val_accuracy: 0.9261\n",
      "Epoch 3/50\n",
      "101/101 [==============================] - 372s 4s/step - loss: 0.1833 - accuracy: 0.9337 - val_loss: 0.1390 - val_accuracy: 0.9321\n",
      "Epoch 4/50\n",
      "101/101 [==============================] - 341s 3s/step - loss: 0.1315 - accuracy: 0.9387 - val_loss: 0.1190 - val_accuracy: 0.9386\n",
      "Epoch 5/50\n",
      "101/101 [==============================] - 353s 3s/step - loss: 0.1141 - accuracy: 0.9414 - val_loss: 0.1069 - val_accuracy: 0.9368\n",
      "Epoch 6/50\n",
      "101/101 [==============================] - 357s 4s/step - loss: 0.1072 - accuracy: 0.9416 - val_loss: 0.1035 - val_accuracy: 0.9354\n",
      "Epoch 7/50\n",
      "101/101 [==============================] - 362s 4s/step - loss: 0.1027 - accuracy: 0.9415 - val_loss: 0.1021 - val_accuracy: 0.9364\n",
      "Epoch 8/50\n",
      "101/101 [==============================] - 369s 4s/step - loss: 0.0992 - accuracy: 0.9423 - val_loss: 0.0999 - val_accuracy: 0.9373\n",
      "Epoch 9/50\n",
      "101/101 [==============================] - 485s 5s/step - loss: 0.0981 - accuracy: 0.9411 - val_loss: 0.0967 - val_accuracy: 0.9364\n",
      "Epoch 10/50\n",
      "101/101 [==============================] - 362s 4s/step - loss: 0.0964 - accuracy: 0.9412 - val_loss: 0.0962 - val_accuracy: 0.9385\n",
      "Epoch 11/50\n",
      "101/101 [==============================] - 440s 4s/step - loss: 0.0951 - accuracy: 0.9412 - val_loss: 0.0959 - val_accuracy: 0.9384\n",
      "Epoch 12/50\n",
      "101/101 [==============================] - 371s 4s/step - loss: 0.0943 - accuracy: 0.9423 - val_loss: 0.0950 - val_accuracy: 0.9381\n"
     ]
    }
   ],
   "source": [
    "history_blstm_aug = blstm_aug.fit(X_train_aug, Y_train_aug, epochs=EPOCHS_A, \n",
    "                    batch_size=BATCH_A,validation_data=(X_test_aug,Y_test_aug),callbacks=[early_stopping])"
   ]
  },
  {
   "cell_type": "code",
   "execution_count": 30,
   "id": "1407cb45",
   "metadata": {},
   "outputs": [
    {
     "data": {
      "image/png": "[encoded data removed]",
      "text/plain": [
       "<Figure size 432x288 with 1 Axes>"
      ]
     },
     "metadata": {
      "needs_background": "light"
     },
     "output_type": "display_data"
    },
    {
     "data": {
      "image/png": "[encoded data removed]",
      "text/plain": [
       "<Figure size 432x288 with 1 Axes>"
      ]
     },
     "metadata": {
      "needs_background": "light"
     },
     "output_type": "display_data"
    }
   ],
   "source": [
    "plt.title('Loss')\n",
    "plt.plot(history_blstm_aug.history['loss'], label='train')\n",
    "plt.plot(history_blstm_aug.history['val_loss'], label='val')\n",
    "plt.legend()\n",
    "plt.show();\n",
    "\n",
    "plt.title('Accuracy')\n",
    "plt.plot(history_blstm_aug.history['accuracy'], label='train')\n",
    "plt.plot(history_blstm_aug.history['val_accuracy'], label='val')\n",
    "plt.legend()\n",
    "plt.show();"
   ]
  },
  {
   "cell_type": "code",
   "execution_count": 31,
   "id": "d9715608",
   "metadata": {},
   "outputs": [],
   "source": [
    "blstm_aug.save(\"blstm_aug.h5\")"
   ]
  },
  {
   "cell_type": "markdown",
   "id": "56a1a4bd",
   "metadata": {},
   "source": [
    "# Testing with Survey"
   ]
  },
  {
   "cell_type": "markdown",
   "id": "6d47b4b3",
   "metadata": {},
   "source": [
    "### TakeCV models"
   ]
  },
  {
   "cell_type": "code",
   "execution_count": 59,
   "id": "f20af9b0",
   "metadata": {},
   "outputs": [
    {
     "name": "stdout",
     "output_type": "stream",
     "text": [
      "LSTM Test Accuracy of full label model: 0.30113636363636365\n",
      "LSTM Test Accuracy of color model: 0.7102272727272727\n",
      "LSTM Test Accuracy of shape model: 0.6079545454545454\n",
      "LSTM Test Accuracy of combined color + shape model: 0.38636363636363635\n"
     ]
    }
   ],
   "source": [
    "#LSTM\n",
    "\n",
    "l_correct_full = 0\n",
    "l_correct_c = 0\n",
    "l_correct_s = 0\n",
    "l_correct_l = 0\n",
    "    \n",
    "for pos,text in enumerate(X_sur):\n",
    "    text_r = text.reshape(1,-1)\n",
    "\n",
    "    f_p = np.argmax(lstm_l_cv.predict(text_r))\n",
    "    c_p = np.argmax(lstm_c_cv.predict(text_r))\n",
    "    s_p = np.argmax(lstm_s_cv.predict(text_r))\n",
    "    \n",
    "    f_pred = label_list[f_p]\n",
    "    c_pred = color_list[c_p]\n",
    "    s_pred = shape_list[s_p]\n",
    "    l_pred = color_list[c_p]+' '+shape_list[s_p]\n",
    "    \n",
    "    true_f = label_list[np.argmax(Y_sur[pos])]\n",
    "    true_c = color_list[np.argmax(Y_color_sur[pos])]\n",
    "    true_s = shape_list[np.argmax(Y_shape_sur[pos])]\n",
    "    \n",
    "    if f_pred == true_f:\n",
    "        l_correct_full += 1\n",
    "    if c_pred == true_c:\n",
    "        l_correct_c += 1\n",
    "    if s_pred == true_s:\n",
    "        l_correct_s += 1\n",
    "    if l_pred == true_f:\n",
    "        l_correct_l += 1\n",
    "\n",
    "print('LSTM Test Accuracy of full label model:', l_correct_full/len(Y_sur))\n",
    "print('LSTM Test Accuracy of color model:', l_correct_c/len(Y_color_sur))   \n",
    "print('LSTM Test Accuracy of shape model:', l_correct_s/len(Y_shape_sur))   \n",
    "print('LSTM Test Accuracy of combined color + shape model:', l_correct_l/len(Y_sur))"
   ]
  },
  {
   "cell_type": "code",
   "execution_count": 79,
   "id": "46a036e6",
   "metadata": {},
   "outputs": [
    {
     "name": "stdout",
     "output_type": "stream",
     "text": [
      "BiLSTM Test Accuracy of full label model: 0.26704545454545453\n",
      "BiLSTM Test Accuracy of color model: 0.6761363636363636\n",
      "BiLSTM Test Accuracy of shape model: 0.5113636363636364\n",
      "BiLSTM Test Accuracy of combined color + shape model: 0.3465909090909091\n"
     ]
    }
   ],
   "source": [
    "#BiLSTM\n",
    "\n",
    "bl_correct_full = 0\n",
    "bl_correct_c = 0\n",
    "bl_correct_s = 0\n",
    "bl_correct_l = 0\n",
    "    \n",
    "for pos,text in enumerate(X_sur):\n",
    "    text_r = text.reshape(1,-1)\n",
    "\n",
    "    f_p = np.argmax(blstm_l_cv.predict(text_r))\n",
    "    c_p = np.argmax(blstm_c_cv.predict(text_r))\n",
    "    s_p = np.argmax(blstm_s_cv.predict(text_r))\n",
    "    \n",
    "    f_pred = label_list[f_p]\n",
    "    c_pred = color_list[c_p]\n",
    "    s_pred = shape_list[s_p]\n",
    "    l_pred = color_list[c_p]+' '+shape_list[s_p]\n",
    "    \n",
    "    true_f = label_list[np.argmax(Y_sur[pos])]\n",
    "    true_c = color_list[np.argmax(Y_color_sur[pos])]\n",
    "    true_s = shape_list[np.argmax(Y_shape_sur[pos])]\n",
    "    \n",
    "    if f_pred == true_f:\n",
    "        bl_correct_full += 1\n",
    "    if c_pred == true_c:\n",
    "        bl_correct_c += 1\n",
    "    if s_pred == true_s:\n",
    "        bl_correct_s += 1\n",
    "    if l_pred == true_f:\n",
    "        bl_correct_l += 1\n",
    "\n",
    "print('BiLSTM Test Accuracy of full label model:', bl_correct_full/len(Y_sur))\n",
    "print('BiLSTM Test Accuracy of color model:', bl_correct_c/len(Y_color_sur))   \n",
    "print('BiLSTM Test Accuracy of shape model:', bl_correct_s/len(Y_shape_sur))   \n",
    "print('BiLSTM Test Accuracy of combined color + shape model:', bl_correct_l/len(Y_sur))   "
   ]
  },
  {
   "cell_type": "markdown",
   "id": "51b34d10",
   "metadata": {},
   "source": [
    "### AugData Models"
   ]
  },
  {
   "cell_type": "code",
   "execution_count": 53,
   "id": "a8276863",
   "metadata": {},
   "outputs": [
    {
     "name": "stdout",
     "output_type": "stream",
     "text": [
      "LSTM-aug Test Accuracy of full label model: 0.30113636363636365\n"
     ]
    }
   ],
   "source": [
    "#LSTM-AUG\n",
    "\n",
    "la_correct_full = 0\n",
    "    \n",
    "for pos,text in enumerate(X_sur):\n",
    "    text_r = text.reshape(1,-1)\n",
    "\n",
    "    f_p = np.argmax(lstm_l_cv.predict(text_r))\n",
    "    f_pred = label_list[f_p]\n",
    "    \n",
    "    true_f = label_list[np.argmax(Y_sur[pos])]\n",
    "    \n",
    "    if f_pred == true_f:\n",
    "        la_correct_full += 1\n",
    "\n",
    "print('LSTM-aug Test Accuracy of full label model:', la_correct_full/len(Y_sur))"
   ]
  },
  {
   "cell_type": "code",
   "execution_count": 33,
   "id": "4fb5575e",
   "metadata": {},
   "outputs": [
    {
     "name": "stdout",
     "output_type": "stream",
     "text": [
      "BiLSTM-aug Test Accuracy of full label model: 0.4034090909090909\n"
     ]
    }
   ],
   "source": [
    "#BiLSTM-AUG\n",
    "\n",
    "bla_correct_full = 0\n",
    "    \n",
    "for pos,text in enumerate(X_sur):\n",
    "    text_r = text.reshape(1,-1)\n",
    "\n",
    "    f_p = np.argmax(blstm_aug.predict(text_r))\n",
    "    f_pred = label_list[f_p]\n",
    "    \n",
    "    true_f = label_list[np.argmax(Y_sur[pos])]\n",
    "    \n",
    "    if f_pred == true_f:\n",
    "        bla_correct_full += 1\n",
    "\n",
    "print('BiLSTM-aug Test Accuracy of full label model:', bla_correct_full/len(Y_sur))"
   ]
  },
  {
   "cell_type": "markdown",
   "id": "c104df34",
   "metadata": {},
   "source": [
    "# GridSearch CV"
   ]
  },
  {
   "cell_type": "code",
   "execution_count": null,
   "id": "afb6e9cf",
   "metadata": {},
   "outputs": [],
   "source": [
    "# IMPORT USEFUL LIBRARIES\n",
    "import tensorflow as tf\n",
    "from tensorflow.keras.models import *\n",
    "from tensorflow.keras.layers import *\n",
    "from tensorflow.keras.layers.experimental.preprocessing import TextVectorization\n",
    "from sklearn.model_selection import GridSearchCV\n",
    "from tensorflow.keras.wrappers.scikit_learn import KerasClassifier"
   ]
  },
  {
   "cell_type": "code",
   "execution_count": null,
   "id": "d5980273",
   "metadata": {},
   "outputs": [],
   "source": [
    "def build_model(max_tokens, max_len, dropout, lr, first_neurons, second_neurons, first_activation='relu', second_activation='sigmoid'):\n",
    "\n",
    "    vectorize_layer = TextVectorization(\n",
    "        max_tokens=max_tokens,\n",
    "        output_mode=\"int\",\n",
    "        output_sequence_length=max_len,\n",
    "    )\n",
    "    vectorize_layer.adapt(df['text'])\n",
    "    \n",
    "    model = Sequential()\n",
    "    model.add(Input(shape=(1,), dtype=tf.string))   ## <=== enable str inputs\n",
    "    model.add(vectorize_layer)    ## <==== add TextVectorization inside Sequential\n",
    "    model.add(Embedding(max_tokens + 1, 128))\n",
    "    model.add(LSTM(first_neurons, dropout=dropout, recurrent_dropout=dropout)) #units\n",
    "    model.add(Dense(second_neurons, activation=first_activation)) #n_neurons #1st_activation\n",
    "    model.add(Dense(1, activation=second_activation)) #2nd_actication\n",
    "    model.compile(optimizer='adam', loss='categorical_crossentropy', metrics=['accuracy'])\n",
    "\n",
    "    return model"
   ]
  },
  {
   "cell_type": "code",
   "execution_count": null,
   "id": "6b32edcb",
   "metadata": {},
   "outputs": [],
   "source": [
    "# HYPERPARAMETER SEARCHING 1\n",
    "\n",
    "param_grid = {\n",
    "    \"max_tokens\" : [25], #, 50],\n",
    "    \"max_len\" : [5], #, 50],\n",
    "    \"dropout\" : [0.1, 0.2],\n",
    "    \"units\" : [64],\n",
    "    \"n_neurons\" : [64],\n",
    "    \"activation_function\" : ['relu']\n",
    "}\n",
    "model = GridSearchCV(KerasClassifier(build_model), param_grid, cv=3, scoring='accuracy')\n",
    "model.fit(np.asarray(list(df['text'])).reshape(-1,1), \n",
    "          np.asarray(list(df['label'])).reshape(-1,1), \n",
    "          epochs=128, batch_size=64, callbacks=[early_stopping], verbose=1)"
   ]
  },
  {
   "cell_type": "code",
   "execution_count": null,
   "id": "f1815d27",
   "metadata": {
    "scrolled": true
   },
   "outputs": [],
   "source": [
    "# HYPERPARAMETER SEARCHING 2\n",
    "\n",
    "params = {\n",
    "    \"max_tokens\" : [300], #, 50],\n",
    "    \"max_len\" : [100], #, 50],\n",
    "    \"dropout\" : [0.1, 0.2],\n",
    "    'lr': [0.01],#, 0.1],\n",
    "    'first_neurons':[64],\n",
    "    'second_neurons':[100],\n",
    "    'batch_size': [50], #,40,50],\n",
    "    'epochs': [1],\n",
    "#    'optimizer': [Adam],\n",
    "#    'first_activation':['relu'],\n",
    "#    'second_activation':['sigmoid'],\n",
    "     }\n",
    "\n",
    "model = GridSearchCV(KerasClassifier(build_model), param_grid=params, cv=3, scoring='accuracy')\n",
    "model.fit(np.asarray(list(df['text'])).reshape(-1,1), \n",
    "          np.asarray(list(df['label'])).reshape(-1,1),\n",
    "          #callbacks=[early_stopping], \n",
    "          verbose=2)"
   ]
  },
  {
   "cell_type": "code",
   "execution_count": null,
   "id": "e7325888",
   "metadata": {},
   "outputs": [],
   "source": [
    "model.best_params_"
   ]
  },
  {
   "cell_type": "code",
   "execution_count": null,
   "id": "38063296",
   "metadata": {},
   "outputs": [],
   "source": [
    "pred = model.predict(np.asarray(list(df['text'])).reshape(-1,1))"
   ]
  },
  {
   "cell_type": "code",
   "execution_count": null,
   "id": "28b6a2f5",
   "metadata": {},
   "outputs": [],
   "source": [
    "from sklearn.metrics import accuracy_score"
   ]
  },
  {
   "cell_type": "code",
   "execution_count": null,
   "id": "f190378b",
   "metadata": {},
   "outputs": [],
   "source": [
    "accuracy_score(pred,np.asarray(list(df['label'])).reshape(-1,1))"
   ]
  },
  {
   "cell_type": "markdown",
   "id": "7c8502e4",
   "metadata": {},
   "source": [
    "# KERAS TUNER"
   ]
  },
  {
   "cell_type": "code",
   "execution_count": null,
   "id": "e48fe85b",
   "metadata": {},
   "outputs": [],
   "source": [
    "#pip install keras-tuner --upgrade"
   ]
  },
  {
   "cell_type": "code",
   "execution_count": null,
   "id": "572e595e",
   "metadata": {},
   "outputs": [],
   "source": [
    "import keras_tuner as kt"
   ]
  },
  {
   "cell_type": "code",
   "execution_count": null,
   "id": "d35d0449",
   "metadata": {},
   "outputs": [],
   "source": [
    "def model_builder(hp):\n",
    "    model = Sequential()\n",
    "    \n",
    "    hp_emb_dim = hp.Int('output_dim', min_value=10, max_value=200, step=20)\n",
    "    \n",
    "    model.add(Embedding(MAX_NB_WORDS, hp_emb_dim, input_length=X_train.shape[1]))\n",
    "\n",
    "    # Tune drop_out in the first Dense layer\n",
    "    # Choose an optimal value between 0.0 - 0.5 \n",
    "    hp_dropout = hp.Choice('drop_out', values=[0.0, 0.1, 0.2, 0.3, 0.4, 0.5])\n",
    "    model.add(SpatialDropout1D(hp_dropout))\n",
    "\n",
    "    # Tune the number of units in the first Dense layer\n",
    "    # Choose an optimal value between 32-256\n",
    "    hp_units = hp.Int('units', min_value=32, max_value=256, step=32)\n",
    "    hp_act_func = hp.Choice('dense_activation', values=['relu', 'tanh', 'sigmoid'])\n",
    "    model.add(LSTM(hp_units))\n",
    "    model.add(Dense(Y_shape.shape[1], activation=hp_act_func)) #### lok at Y\n",
    "\n",
    "    # Tune the learning rate for the optimizer\n",
    "    # Choose an optimal value from 0.01, 0.001, or 0.0001\n",
    "    hp_learning_rate = hp.Choice('learning_rate', values=[1e-2, 1e-3, 1e-4])\n",
    "    \n",
    "    # Set Optimizer\n",
    "    opt = adam_v2.Adam(learning_rate=hp_learning_rate)\n",
    "\n",
    "    model.compile(optimizer='adam',\n",
    "                loss=\"categorical_crossentropy\",\n",
    "                metrics=['accuracy'])\n",
    "\n",
    "    return model "
   ]
  },
  {
   "cell_type": "code",
   "execution_count": null,
   "id": "627d2f5d",
   "metadata": {},
   "outputs": [],
   "source": [
    "#v2\n",
    "from keras_tuner import HyperModel"
   ]
  },
  {
   "cell_type": "code",
   "execution_count": null,
   "id": "c47f6b2b",
   "metadata": {},
   "outputs": [],
   "source": [
    "#v2\n",
    "class LSTMHyperModel(HyperModel):\n",
    "        \n",
    "    def build(self, hp):\n",
    "        model = Sequential()\n",
    "        \n",
    "        #hp_emb_dim = hp.Int('output_dim', min_value=10, max_value=200, step=20)\n",
    "        hp_dropout = hp.Float('drop_out', min_value=0.0, max_value=0.5, step=0.1)\n",
    "        hp_units = hp.Int('units', min_value=32, max_value=256, step=64)\n",
    "        hp_act_func = hp.Choice('dense_activation', values=['relu', 'tanh', 'sigmoid'])\n",
    "        hp_learning_rate = hp.Choice('learning_rate', values=[1e-2, 1e-3, 1e-4])\n",
    "        \n",
    "\n",
    "        model.add(Embedding(MAX_NB_WORDS, EMBEDDING_DIM, input_length=X_train.shape[1]))\n",
    "        model.add(SpatialDropout1D(hp_dropout))\n",
    "        model.add(LSTM(hp_units))\n",
    "        model.add(Dense(Y.shape[1], activation=hp_act_func))\n",
    "        \n",
    "        # Set Optimizer\n",
    "        opt = adam_v2.Adam(learning_rate=hp_learning_rate)\n",
    "\n",
    "        model.compile(optimizer=opt, loss=\"categorical_crossentropy\", metrics=['accuracy'])\n",
    "\n",
    "   #     print(model.summary())\n",
    "        \n",
    "        return model\n",
    "    \n",
    "    def fit(self, hp, model):\n",
    "        \n",
    "        hp_batch_size = hp.Choice(\"batch_size\", [16, 32, 64])\n",
    "        return model.fit(batch_size=hp_batch_size)"
   ]
  },
  {
   "cell_type": "code",
   "execution_count": null,
   "id": "7bb5b696",
   "metadata": {},
   "outputs": [],
   "source": [
    "#RandomSearch #Hyperband #BayesianOptimization #SKlearnTuner\n",
    "\n",
    "#v1\n",
    "tuner = kt.Hyperband(model_builder, \n",
    "#v2\n",
    "#tuner_2 = kt.Hyperband(LSTMHyperModel(),\n",
    "                     objective='val_accuracy', #val_loss\n",
    "                     max_epochs=100,\n",
    "                     factor=3,\n",
    "                     #directory='my_dir',\n",
    "                     #project_name='intro_to_kt'\n",
    "                    )\n",
    "\n",
    "stop_early = EarlyStopping(monitor='val_loss', patience=5)"
   ]
  },
  {
   "cell_type": "code",
   "execution_count": null,
   "id": "01f980e3",
   "metadata": {
    "scrolled": false
   },
   "outputs": [],
   "source": [
    "# v1\n",
    "tuner.search(X_train, Y_shape_train, epochs=100, validation_split=0.2, callbacks=[stop_early])\n",
    "best_model = tuner.get_best_models()[0]\n",
    "\n",
    "# v2\n",
    "#tuner_2.search(X_train, Y_train, callbacks=[stop_early])\n",
    "#best_model_2 = tuner_2.get_best_models()[0]"
   ]
  },
  {
   "cell_type": "code",
   "execution_count": null,
   "id": "750c70b5",
   "metadata": {},
   "outputs": [],
   "source": [
    "#tuner.search(X_train, Y_train, epochs=50, validation_split=0.2, callbacks=[stop_early])\n",
    "\n",
    "# Get the optimal hyperparameters\n",
    "best_hps=tuner.get_best_hyperparameters(num_trials=1)[0]\n",
    "\n",
    "print(f\"\"\"\n",
    "The hyperparameter search is complete. The optimal number of units in the first densely-connected\n",
    "layer is {best_hps.get('units')} and the optimal learning rate for the optimizer\n",
    "is {best_hps.get('learning_rate')}.\n",
    "\"\"\")"
   ]
  },
  {
   "cell_type": "code",
   "execution_count": null,
   "id": "1d9c7ae3",
   "metadata": {},
   "outputs": [],
   "source": [
    "print(best_hps.get('output_dim'))\n",
    "print(best_hps.get('drop_out'))\n",
    "print(best_hps.get('units'))\n",
    "print(best_hps.get('dense_activation'))\n",
    "print(best_hps.get('learning_rate'))"
   ]
  },
  {
   "cell_type": "code",
   "execution_count": null,
   "id": "8157312d",
   "metadata": {
    "scrolled": true
   },
   "outputs": [],
   "source": [
    "#loss, acc = \n",
    "best_model.evaluate(X_test, Y_shape_test)\n",
    "\n",
    "#full=51(66) #color=85(91) #shape=60(66)"
   ]
  }
 ],
 "metadata": {
  "colab": {
   "collapsed_sections": [],
   "name": "Model_LSTM.ipynb",
   "provenance": []
  },
  "kernelspec": {
   "display_name": "Python 3 (ipykernel)",
   "language": "python",
   "name": "python3"
  },
  "language_info": {
   "codemirror_mode": {
    "name": "ipython",
    "version": 3
   },
   "file_extension": ".py",
   "mimetype": "text/x-python",
   "name": "python",
   "nbconvert_exporter": "python",
   "pygments_lexer": "ipython3",
   "version": "3.9.12"
  }
 },
 "nbformat": 4,
 "nbformat_minor": 5
}
