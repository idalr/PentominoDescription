{
 "cells": [
  {
   "cell_type": "markdown",
   "metadata": {},
   "source": [
    "## Overview\n",
    "\n",
    "In this notebook, we use the TakeCV corpus as train and validation data to train Naive Bayes classifiers. Then, we test the models on the Survey corpus. \n",
    "- in the first section, we import the TakeCV data and Multinomial NB from `sklearn`.\n",
    "- We initiate baseline NB, which takes bags-of-unigrams as input. Baseline NB are trained on three types of labels: full labels (color and shape), color, and shape. As well, we assess the results of combining predictions from the color model and the shape model (color + shape).\n",
    "- Then, we build different NB models that take unigrams, bigrams, trigrams, and four-grams. We also report 5-fold cross-validation results, as seen below.\n",
    "- The last section, we import the Survey data and test our models on it."
   ]
  },
  {
   "cell_type": "markdown",
   "metadata": {},
   "source": [
    "# Import data and model\n",
    "## data"
   ]
  },
  {
   "cell_type": "code",
   "execution_count": 2,
   "metadata": {},
   "outputs": [],
   "source": [
    "import pandas as pd\n",
    "import re"
   ]
  },
  {
   "cell_type": "code",
   "execution_count": 3,
   "metadata": {},
   "outputs": [
    {
     "name": "stdout",
     "output_type": "stream",
     "text": [
      "(525, 2)\n"
     ]
    }
   ],
   "source": [
    "df = pd.read_csv('data_clean.csv')\n",
    "print (df.shape)"
   ]
  },
  {
   "cell_type": "code",
   "execution_count": 1,
   "metadata": {
    "scrolled": true
   },
   "outputs": [],
   "source": [
    "# split label into color and shape\n",
    "df[['color','shape']] = df['label'].str.split(' ',expand=True)"
   ]
  },
  {
   "cell_type": "code",
   "execution_count": 5,
   "metadata": {},
   "outputs": [
    {
     "name": "stdout",
     "output_type": "stream",
     "text": [
      "wooden    153\n",
      "blue       84\n",
      "green      68\n",
      "orange     51\n",
      "yellow     48\n",
      "gray       33\n",
      "pink       30\n",
      "red        30\n",
      "purple     28\n",
      "Name: color, dtype: int64\n",
      "t    56\n",
      "f    50\n",
      "w    47\n",
      "u    47\n",
      "i    44\n",
      "v    44\n",
      "l    43\n",
      "z    42\n",
      "p    42\n",
      "y    39\n",
      "n    36\n",
      "x    35\n",
      "Name: shape, dtype: int64\n"
     ]
    }
   ],
   "source": [
    "# check if split correctly\n",
    "print (df['color'].value_counts())\n",
    "print (df['shape'].value_counts())"
   ]
  },
  {
   "cell_type": "markdown",
   "metadata": {},
   "source": [
    "## MultinomialNB"
   ]
  },
  {
   "cell_type": "markdown",
   "metadata": {},
   "source": [
    "https://practicaldatascience.co.uk/machine-learning/how-to-create-a-naive-bayes-text-classification-model-using-scikit-learn"
   ]
  },
  {
   "cell_type": "code",
   "execution_count": 6,
   "metadata": {},
   "outputs": [],
   "source": [
    "import numpy as np\n",
    "from sklearn.feature_extraction.text import CountVectorizer\n",
    "from sklearn.model_selection import train_test_split\n",
    "from sklearn.naive_bayes import MultinomialNB\n",
    "from sklearn.model_selection import cross_val_score\n",
    "from sklearn.metrics import accuracy_score\n",
    "from sklearn.metrics import classification_report, confusion_matrix, ConfusionMatrixDisplay\n",
    "from sklearn.metrics import f1_score\n",
    "import matplotlib.pyplot as plt\n",
    "import seaborn as sns"
   ]
  },
  {
   "cell_type": "markdown",
   "metadata": {},
   "source": [
    "# Baseline NB"
   ]
  },
  {
   "cell_type": "code",
   "execution_count": 20,
   "metadata": {},
   "outputs": [],
   "source": [
    "# default setting\n",
    "test_size = 0.2\n",
    "seed = 1\n",
    "\n",
    "# transform df into BoW and define X,y\n",
    "count_vec = CountVectorizer(stop_words='english', ngram_range=ngram_range)\n",
    "bow = count_vec.fit_transform(df['correct'])\n",
    "bow = np.array(bow.todense())\n",
    "\n",
    "# define X,y\n",
    "X = bow\n",
    "y = df['label']\n",
    "\n",
    "# shuffle and split\n",
    "X_train, X_test, y_train, y_test = train_test_split(X,y, test_size = test_size, random_state = seed)\n",
    "\n",
    "# split labels\n",
    "y_train_color = [i.split(' ')[0] for i in y_train]\n",
    "y_train_shape = [i.split(' ')[1] for i in y_train]\n",
    "y_test_color = [i.split(' ')[0] for i in y_test]\n",
    "y_test_shape = [i.split(' ')[1] for i in y_test]"
   ]
  },
  {
   "cell_type": "code",
   "execution_count": 21,
   "metadata": {},
   "outputs": [
    {
     "data": {
      "text/plain": [
       "((420, 3198), (105, 3198), (420,), (105,))"
      ]
     },
     "execution_count": 21,
     "metadata": {},
     "output_type": "execute_result"
    }
   ],
   "source": [
    "X_train.shape, X_test.shape, y_train.shape, y_test.shape"
   ]
  },
  {
   "cell_type": "code",
   "execution_count": 22,
   "metadata": {
    "scrolled": true
   },
   "outputs": [
    {
     "name": "stdout",
     "output_type": "stream",
     "text": [
      "true: wooden z : pred: wooden y\n",
      "true: wooden p : pred: orange y\n",
      "true: orange u : pred: orange u\n",
      "true: wooden f : pred: wooden w\n",
      "true: gray f : pred: blue v\n",
      "true: purple n : pred: purple n\n",
      "true: blue v : pred: blue v\n",
      "true: wooden i : pred: wooden y\n",
      "true: pink p : pred: green p\n",
      "true: orange u : pred: yellow t\n",
      "true: wooden i : pred: wooden y\n",
      "true: blue v : pred: blue v\n",
      "true: yellow u : pred: yellow u\n",
      "true: purple n : pred: wooden n\n",
      "true: green t : pred: green t\n",
      "true: wooden p : pred: purple p\n",
      "true: wooden l : pred: wooden p\n",
      "true: blue z : pred: blue v\n",
      "true: wooden p : pred: wooden f\n",
      "true: blue v : pred: blue i\n",
      "true: wooden f : pred: wooden p\n",
      "true: red x : pred: wooden x\n",
      "true: red x : pred: red x\n",
      "true: blue v : pred: blue v\n",
      "true: wooden l : pred: wooden y\n",
      "true: pink p : pred: pink p\n",
      "true: wooden p : pred: wooden y\n",
      "true: pink p : pred: pink p\n",
      "true: gray f : pred: gray f\n",
      "true: wooden n : pred: wooden f\n",
      "true: orange l : pred: orange l\n",
      "true: wooden y : pred: wooden y\n",
      "true: gray f : pred: gray f\n",
      "true: purple n : pred: orange l\n",
      "true: wooden w : pred: wooden f\n",
      "true: wooden l : pred: wooden p\n",
      "true: green t : pred: green t\n",
      "true: wooden l : pred: wooden p\n",
      "true: wooden w : pred: wooden w\n",
      "true: orange l : pred: orange t\n",
      "true: green w : pred: green w\n",
      "true: wooden z : pred: wooden i\n",
      "true: wooden w : pred: red x\n",
      "true: orange l : pred: yellow t\n",
      "true: purple n : pred: yellow u\n",
      "true: blue i : pred: blue i\n",
      "true: green w : pred: green w\n",
      "true: pink p : pred: pink p\n",
      "true: wooden i : pred: wooden w\n",
      "true: purple n : pred: wooden i\n",
      "true: pink p : pred: pink p\n",
      "true: gray f : pred: gray f\n",
      "true: wooden f : pred: wooden y\n",
      "true: blue z : pred: orange w\n",
      "true: wooden z : pred: wooden y\n",
      "true: yellow t : pred: yellow u\n",
      "true: wooden z : pred: wooden y\n",
      "true: purple n : pred: wooden w\n",
      "true: wooden y : pred: wooden y\n",
      "true: orange u : pred: yellow u\n",
      "true: wooden y : pred: wooden l\n",
      "true: green t : pred: green t\n",
      "true: green t : pred: green w\n",
      "true: yellow u : pred: yellow u\n",
      "true: blue z : pred: blue z\n",
      "true: blue i : pred: blue i\n",
      "true: pink p : pred: blue p\n",
      "true: wooden n : pred: wooden l\n",
      "true: wooden i : pred: wooden i\n",
      "true: blue i : pred: blue i\n",
      "true: red x : pred: red x\n",
      "true: green w : pred: green w\n",
      "true: blue z : pred: blue v\n",
      "true: green w : pred: green w\n",
      "true: green w : pred: orange l\n",
      "true: pink p : pred: pink p\n",
      "true: blue v : pred: blue v\n",
      "true: red x : pred: red x\n",
      "true: purple n : pred: wooden n\n",
      "true: wooden l : pred: wooden y\n",
      "true: green w : pred: green w\n",
      "true: gray f : pred: gray f\n",
      "true: blue i : pred: blue i\n",
      "true: wooden y : pred: wooden y\n",
      "true: yellow t : pred: orange u\n",
      "true: green t : pred: green t\n",
      "true: red x : pred: red x\n",
      "true: wooden l : pred: blue z\n",
      "true: purple n : pred: purple n\n",
      "true: orange u : pred: wooden f\n",
      "true: green t : pred: green w\n",
      "true: green t : pred: green t\n",
      "true: green w : pred: wooden w\n",
      "true: red x : pred: red x\n",
      "true: yellow u : pred: yellow u\n",
      "true: wooden z : pred: blue z\n",
      "true: wooden y : pred: wooden v\n",
      "true: wooden v : pred: blue v\n",
      "true: yellow u : pred: yellow u\n",
      "true: pink p : pred: pink p\n",
      "true: wooden f : pred: wooden f\n",
      "true: wooden y : pred: wooden y\n",
      "true: wooden v : pred: wooden z\n",
      "true: yellow u : pred: yellow u\n",
      "true: wooden i : pred: wooden y\n"
     ]
    }
   ],
   "source": [
    "# train models\n",
    "label_model = MultinomialNB().fit(X_train,y_train)\n",
    "color_model = MultinomialNB().fit(X_train,y_train_color)\n",
    "shape_model = MultinomialNB().fit(X_train,y_train_shape)\n",
    "\n",
    "# get predictions\n",
    "y_pred = label_model.predict(X_test)\n",
    "color_pred = color_model.predict(X_test)\n",
    "shape_pred = shape_model.predict(X_test)\n",
    "\n",
    "cs_pred = []\n",
    "\n",
    "for x,y in zip(X_test, y_test):\n",
    "    c_pred = color_model.predict(x.reshape(1,-1))\n",
    "    s_pred = shape_model.predict(x.reshape(1,-1))\n",
    "\n",
    "    color_shape_pred = c_pred.item()+' '+s_pred.item()\n",
    "    cs_pred.append(color_shape_pred)\n",
    "    \n",
    "    print ('true:', y, ': pred:', color_shape_pred)   \n",
    "\n",
    "# cannot do cross-validation, except by manual coding"
   ]
  },
  {
   "cell_type": "code",
   "execution_count": 23,
   "metadata": {},
   "outputs": [
    {
     "name": "stdout",
     "output_type": "stream",
     "text": [
      "Acc on full label: 0.5428571428571428\n",
      "Acc on color: 0.7714285714285715\n",
      "Acc on shape: 0.5714285714285714\n",
      "Acc on color + shape: 0.47619047619047616\n"
     ]
    }
   ],
   "source": [
    "# print accuracy\n",
    "# this is accuracy on test data\n",
    "print('Acc on full label:', accuracy_score(np.array(y_test), y_pred))\n",
    "print('Acc on color:', accuracy_score(y_test_color, color_pred))\n",
    "print('Acc on shape:', accuracy_score(y_test_shape, shape_pred))\n",
    "print('Acc on color + shape:', accuracy_score(y_test, cs_pred))"
   ]
  },
  {
   "cell_type": "markdown",
   "metadata": {},
   "source": [
    "# NB Extension"
   ]
  },
  {
   "cell_type": "code",
   "execution_count": 13,
   "metadata": {},
   "outputs": [],
   "source": [
    "# default setting\n",
    "ngram_range = (1,3) # n-grams (min, max)\n",
    "cv = 5 # cross validation folds: set to 5 because the smallest class have only 5 instances\n",
    "\n",
    "def transform_data(label, ngram_range):\n",
    "    # transform df into BoW and define X,y\n",
    "    count_vec = CountVectorizer(stop_words='english', ngram_range=ngram_range)\n",
    "    bow = count_vec.fit_transform(df['text'])\n",
    "    bow = np.array(bow.todense())\n",
    "\n",
    "    # define X,y\n",
    "    X = bow\n",
    "    y = df[label]\n",
    "\n",
    "    return X, y\n",
    "\n",
    "\n",
    "def train_and_predict(X,y,test_size=test_size, seed=seed):\n",
    "    \"\"\"\n",
    "    input: X (vectorized, as np.array), y (label, as string)\n",
    "    print: results on accuracy\n",
    "    output: y_prediction on test data\n",
    "    \n",
    "    \"\"\"\n",
    "    # split data\n",
    "    X_train, X_test, y_train, y_test = train_test_split(X, y, \n",
    "                                                    test_size=test_size,\n",
    "                                                    random_state=seed, \n",
    "                                                    stratify=y) # make sure to split instances from each class of y\n",
    "    # train and predict\n",
    "    # initialize model\n",
    "    batch_model = MultinomialNB().fit(np.random.rand(X_train.shape[0],X_train.shape[1]), y_train) # feed with random data\n",
    "    \n",
    "    # pre-trained model's prediction\n",
    "    y_pred = batch_model.predict(X_test)\n",
    "    print('Pre-trained accuracy:', accuracy_score(y_test, y_pred)) \n",
    "    print('Pre-trained F1 score:', f1_score(y_test, y_pred, average=\"macro\"))\n",
    "\n",
    "    # trained model's prediction\n",
    "    batch_model.fit(X_train, y_train)\n",
    "    y_pred = batch_model.predict(X_test)\n",
    "    \n",
    "    # get scores\n",
    "    print('Trained accuracy:', accuracy_score(y_test, y_pred)) \n",
    "    print('Trained F1 score:', f1_score(y_test, y_pred, average=\"macro\"),'\\n')\n",
    "    \n",
    "    return (y_test, y_pred, batch_model)\n",
    "    \n",
    "def report_prediction(y_test,y_pred, batch_model):\n",
    "    \"\"\"\n",
    "    input: true label and prediction\n",
    "    print: classification report, confusion matrix\n",
    "    return: nothing\n",
    "    \"\"\"\n",
    "    \n",
    "    # get prediction report\n",
    "    print(classification_report(y_test,y_pred))\n",
    "\n",
    "    # confusion matrix and viualization\n",
    "    cm = confusion_matrix(y_test, y_pred, labels=batch_model.classes_)\n",
    "    disp = ConfusionMatrixDisplay(confusion_matrix=cm, display_labels=batch_model.classes_)\n",
    "    disp.plot()\n",
    "    plt.show()\n",
    "    \n",
    "def cross_val(X, y, batch_model, cv=cv): \n",
    "    scores = cross_val_score(batch_model, X, y, cv=cv)\n",
    "    print ('Cross validation accuracy score:', scores)\n",
    "    print ('Cross validation accuracy score (average):', np.average(scores))\n",
    "    return np.average(scores)"
   ]
  },
  {
   "cell_type": "code",
   "execution_count": 14,
   "metadata": {},
   "outputs": [
    {
     "name": "stdout",
     "output_type": "stream",
     "text": [
      "Trained accuracy, on train data: 0.76\n"
     ]
    }
   ],
   "source": [
    "# Accuracy on full training data\n",
    "\n",
    "(X,y) = transform_data('label', (1,1))\n",
    "\n",
    "model = MultinomialNB().fit(X,y)\n",
    "y_pred = model.predict(X)\n",
    "\n",
    "print('Trained accuracy, on train data:', accuracy_score(y, y_pred))"
   ]
  },
  {
   "cell_type": "code",
   "execution_count": 15,
   "metadata": {
    "scrolled": true
   },
   "outputs": [
    {
     "name": "stdout",
     "output_type": "stream",
     "text": [
      "\n",
      "Label: label\n",
      "\n",
      "n-gram: (1, 1)\n",
      "Pre-trained accuracy: 0.0380952380952381\n",
      "Pre-trained F1 score: 0.01316661930472672\n",
      "Trained accuracy: 0.5619047619047619\n",
      "Trained F1 score: 0.43392660479617007 \n",
      "\n",
      "Cross validation accuracy score: [0.53333333 0.52380952 0.51428571 0.53333333 0.55238095]\n",
      "Cross validation accuracy score (average): 0.5314285714285715\n",
      "\n",
      "n-gram: (1, 2)\n",
      "Pre-trained accuracy: 0.009523809523809525\n",
      "Pre-trained F1 score: 0.021739130434782608\n",
      "Trained accuracy: 0.5714285714285714\n",
      "Trained F1 score: 0.42668020385411687 \n",
      "\n",
      "Cross validation accuracy score: [0.54285714 0.44761905 0.52380952 0.57142857 0.57142857]\n",
      "Cross validation accuracy score (average): 0.5314285714285714\n",
      "\n",
      "n-gram: (1, 3)\n",
      "Pre-trained accuracy: 0.06666666666666667\n",
      "Pre-trained F1 score: 0.03714479387447252\n",
      "Trained accuracy: 0.5904761904761905\n",
      "Trained F1 score: 0.4342464298986038 \n",
      "\n",
      "Cross validation accuracy score: [0.56190476 0.44761905 0.52380952 0.56190476 0.57142857]\n",
      "Cross validation accuracy score (average): 0.5333333333333332\n",
      "\n",
      "n-gram: (1, 4)\n",
      "Pre-trained accuracy: 0.0380952380952381\n",
      "Pre-trained F1 score: 0.01941901856089499\n",
      "Trained accuracy: 0.5904761904761905\n",
      "Trained F1 score: 0.425879917184265 \n",
      "\n",
      "Cross validation accuracy score: [0.56190476 0.43809524 0.53333333 0.57142857 0.57142857]\n",
      "Cross validation accuracy score (average): 0.5352380952380951\n",
      "\n",
      "n-gram: (2, 2)\n",
      "Pre-trained accuracy: 0.0761904761904762\n",
      "Pre-trained F1 score: 0.02474712057461005\n",
      "Trained accuracy: 0.4380952380952381\n",
      "Trained F1 score: 0.347914194606066 \n",
      "\n",
      "Cross validation accuracy score: [0.44761905 0.32380952 0.37142857 0.43809524 0.35238095]\n",
      "Cross validation accuracy score (average): 0.38666666666666666\n",
      "\n",
      "n-gram: (2, 3)\n",
      "Pre-trained accuracy: 0.05714285714285714\n",
      "Pre-trained F1 score: 0.04072557876905703\n",
      "Trained accuracy: 0.47619047619047616\n",
      "Trained F1 score: 0.38145483388450147 \n",
      "\n",
      "Cross validation accuracy score: [0.45714286 0.34285714 0.35238095 0.41904762 0.37142857]\n",
      "Cross validation accuracy score (average): 0.3885714285714286\n",
      "\n",
      "n-gram: (2, 4)\n",
      "Pre-trained accuracy: 0.08571428571428572\n",
      "Pre-trained F1 score: 0.04998086645498234\n",
      "Trained accuracy: 0.47619047619047616\n",
      "Trained F1 score: 0.38046041767269384 \n",
      "\n",
      "Cross validation accuracy score: [0.46666667 0.33333333 0.35238095 0.42857143 0.37142857]\n",
      "Cross validation accuracy score (average): 0.39047619047619053\n",
      "\n",
      "n-gram: (3, 3)\n",
      "Pre-trained accuracy: 0.0761904761904762\n",
      "Pre-trained F1 score: 0.031578573458368855\n",
      "Trained accuracy: 0.37142857142857144\n",
      "Trained F1 score: 0.28975131149044187 \n",
      "\n",
      "Cross validation accuracy score: [0.2952381  0.25714286 0.2        0.2952381  0.26666667]\n",
      "Cross validation accuracy score (average): 0.26285714285714284\n",
      "\n",
      "n-gram: (3, 4)\n",
      "Pre-trained accuracy: 0.0761904761904762\n",
      "Pre-trained F1 score: 0.04885265700483092\n",
      "Trained accuracy: 0.38095238095238093\n",
      "Trained F1 score: 0.3044138126596897 \n",
      "\n",
      "Cross validation accuracy score: [0.3047619  0.26666667 0.2        0.2952381  0.2952381 ]\n",
      "Cross validation accuracy score (average): 0.2723809523809524\n",
      "\n",
      "n-gram: (4, 4)\n",
      "Pre-trained accuracy: 0.05714285714285714\n",
      "Pre-trained F1 score: 0.036547152395679745\n",
      "Trained accuracy: 0.1523809523809524\n",
      "Trained F1 score: 0.11053367936518108 \n",
      "\n",
      "Cross validation accuracy score: [0.14285714 0.16190476 0.13333333 0.08571429 0.12380952]\n",
      "Cross validation accuracy score (average): 0.12952380952380954\n",
      "\n",
      "Label: color\n",
      "\n",
      "n-gram: (1, 1)\n",
      "Pre-trained accuracy: 0.2761904761904762\n",
      "Pre-trained F1 score: 0.04809286898839137\n",
      "Trained accuracy: 0.8761904761904762\n",
      "Trained F1 score: 0.8827212003682592 \n",
      "\n",
      "Cross validation accuracy score: [0.78095238 0.8        0.80952381 0.77142857 0.75238095]\n",
      "Cross validation accuracy score (average): 0.7828571428571429\n",
      "\n",
      "n-gram: (1, 2)\n",
      "Pre-trained accuracy: 0.26666666666666666\n",
      "Pre-trained F1 score: 0.04786324786324787\n",
      "Trained accuracy: 0.8095238095238095\n",
      "Trained F1 score: 0.7810739158799449 \n",
      "\n",
      "Cross validation accuracy score: [0.79047619 0.73333333 0.8        0.7047619  0.68571429]\n",
      "Cross validation accuracy score (average): 0.7428571428571429\n",
      "\n",
      "n-gram: (1, 3)\n",
      "Pre-trained accuracy: 0.2857142857142857\n",
      "Pre-trained F1 score: 0.050125313283208024\n",
      "Trained accuracy: 0.819047619047619\n",
      "Trained F1 score: 0.8000749753861433 \n",
      "\n",
      "Cross validation accuracy score: [0.78095238 0.71428571 0.8        0.6952381  0.67619048]\n",
      "Cross validation accuracy score (average): 0.7333333333333334\n",
      "\n",
      "n-gram: (1, 4)\n",
      "Pre-trained accuracy: 0.26666666666666666\n",
      "Pre-trained F1 score: 0.06844444444444446\n",
      "Trained accuracy: 0.8571428571428571\n",
      "Trained F1 score: 0.8339275103980986 \n",
      "\n",
      "Cross validation accuracy score: [0.78095238 0.73333333 0.81904762 0.7047619  0.6952381 ]\n",
      "Cross validation accuracy score (average): 0.7466666666666667\n",
      "\n",
      "n-gram: (2, 2)\n",
      "Pre-trained accuracy: 0.29523809523809524\n",
      "Pre-trained F1 score: 0.06209692279344021\n",
      "Trained accuracy: 0.6\n",
      "Trained F1 score: 0.5168177761551256 \n",
      "\n",
      "Cross validation accuracy score: [0.64761905 0.53333333 0.56190476 0.57142857 0.58095238]\n",
      "Cross validation accuracy score (average): 0.579047619047619\n",
      "\n",
      "n-gram: (2, 3)\n",
      "Pre-trained accuracy: 0.2857142857142857\n",
      "Pre-trained F1 score: 0.06326928432191589\n",
      "Trained accuracy: 0.6476190476190476\n",
      "Trained F1 score: 0.612679549934452 \n",
      "\n",
      "Cross validation accuracy score: [0.61904762 0.52380952 0.51428571 0.55238095 0.57142857]\n",
      "Cross validation accuracy score (average): 0.5561904761904761\n",
      "\n",
      "n-gram: (2, 4)\n",
      "Pre-trained accuracy: 0.2857142857142857\n",
      "Pre-trained F1 score: 0.06126855600539812\n",
      "Trained accuracy: 0.6190476190476191\n",
      "Trained F1 score: 0.5755582112466171 \n",
      "\n",
      "Cross validation accuracy score: [0.6        0.4952381  0.5047619  0.52380952 0.53333333]\n",
      "Cross validation accuracy score (average): 0.5314285714285714\n",
      "\n",
      "n-gram: (3, 3)\n",
      "Pre-trained accuracy: 0.2761904761904762\n",
      "Pre-trained F1 score: 0.04809286898839137\n",
      "Trained accuracy: 0.4857142857142857\n",
      "Trained F1 score: 0.4099817265388044 \n",
      "\n",
      "Cross validation accuracy score: [0.39047619 0.36190476 0.33333333 0.33333333 0.34285714]\n",
      "Cross validation accuracy score (average): 0.35238095238095235\n",
      "\n",
      "n-gram: (3, 4)\n",
      "Pre-trained accuracy: 0.26666666666666666\n",
      "Pre-trained F1 score: 0.04678362573099414\n",
      "Trained accuracy: 0.4\n",
      "Trained F1 score: 0.36810742815644776 \n",
      "\n",
      "Cross validation accuracy score: [0.31428571 0.28571429 0.27619048 0.28571429 0.33333333]\n",
      "Cross validation accuracy score (average): 0.299047619047619\n",
      "\n",
      "n-gram: (4, 4)\n",
      "Pre-trained accuracy: 0.2857142857142857\n",
      "Pre-trained F1 score: 0.04938271604938272\n",
      "Trained accuracy: 0.3238095238095238\n",
      "Trained F1 score: 0.26463435284606096 \n",
      "\n",
      "Cross validation accuracy score: [0.28571429 0.26666667 0.31428571 0.19047619 0.24761905]\n",
      "Cross validation accuracy score (average): 0.26095238095238094\n",
      "\n",
      "Label: shape\n",
      "\n",
      "n-gram: (1, 1)\n",
      "Pre-trained accuracy: 0.08571428571428572\n",
      "Pre-trained F1 score: 0.039834793424183425\n",
      "Trained accuracy: 0.7047619047619048\n",
      "Trained F1 score: 0.7001896930487589 \n",
      "\n",
      "Cross validation accuracy score: [0.7047619  0.61904762 0.63809524 0.46666667 0.24761905]\n",
      "Cross validation accuracy score (average): 0.5352380952380953\n",
      "\n",
      "n-gram: (1, 2)\n",
      "Pre-trained accuracy: 0.06666666666666667\n",
      "Pre-trained F1 score: 0.05911680911680911\n",
      "Trained accuracy: 0.7333333333333333\n",
      "Trained F1 score: 0.7318775125840343 \n",
      "\n",
      "Cross validation accuracy score: [0.6952381  0.61904762 0.6        0.47619048 0.3047619 ]\n",
      "Cross validation accuracy score (average): 0.5390476190476191\n",
      "\n",
      "n-gram: (1, 3)\n",
      "Pre-trained accuracy: 0.0761904761904762\n",
      "Pre-trained F1 score: 0.06251134618070102\n",
      "Trained accuracy: 0.7142857142857143\n",
      "Trained F1 score: 0.7123381751099144 \n",
      "\n",
      "Cross validation accuracy score: [0.71428571 0.60952381 0.59047619 0.5047619  0.32380952]\n",
      "Cross validation accuracy score (average): 0.5485714285714287\n",
      "\n",
      "n-gram: (1, 4)\n",
      "Pre-trained accuracy: 0.06666666666666667\n",
      "Pre-trained F1 score: 0.054522031026626776\n",
      "Trained accuracy: 0.7142857142857143\n",
      "Trained F1 score: 0.7123381751099144 \n",
      "\n",
      "Cross validation accuracy score: [0.72380952 0.6        0.59047619 0.4952381  0.3047619 ]\n",
      "Cross validation accuracy score (average): 0.5428571428571429\n",
      "\n",
      "n-gram: (2, 2)\n",
      "Pre-trained accuracy: 0.1619047619047619\n",
      "Pre-trained F1 score: 0.11741783024117851\n",
      "Trained accuracy: 0.5619047619047619\n",
      "Trained F1 score: 0.5480010449175534 \n",
      "\n",
      "Cross validation accuracy score: [0.51428571 0.5047619  0.45714286 0.32380952 0.27619048]\n",
      "Cross validation accuracy score (average): 0.4152380952380952\n",
      "\n",
      "n-gram: (2, 3)\n",
      "Pre-trained accuracy: 0.11428571428571428\n"
     ]
    },
    {
     "name": "stdout",
     "output_type": "stream",
     "text": [
      "Pre-trained F1 score: 0.0993219652533378\n",
      "Trained accuracy: 0.5428571428571428\n",
      "Trained F1 score: 0.5371685819054239 \n",
      "\n",
      "Cross validation accuracy score: [0.53333333 0.45714286 0.44761905 0.34285714 0.27619048]\n",
      "Cross validation accuracy score (average): 0.41142857142857137\n",
      "\n",
      "n-gram: (2, 4)\n",
      "Pre-trained accuracy: 0.09523809523809523\n",
      "Pre-trained F1 score: 0.0633501096915731\n",
      "Trained accuracy: 0.5428571428571428\n",
      "Trained F1 score: 0.5414253756649267 \n",
      "\n",
      "Cross validation accuracy score: [0.53333333 0.43809524 0.42857143 0.33333333 0.26666667]\n",
      "Cross validation accuracy score (average): 0.39999999999999997\n",
      "\n",
      "n-gram: (3, 3)\n",
      "Pre-trained accuracy: 0.09523809523809523\n",
      "Pre-trained F1 score: 0.06543400102722136\n",
      "Trained accuracy: 0.44761904761904764\n",
      "Trained F1 score: 0.45468663889716515 \n",
      "\n",
      "Cross validation accuracy score: [0.39047619 0.28571429 0.3047619  0.23809524 0.26666667]\n",
      "Cross validation accuracy score (average): 0.29714285714285715\n",
      "\n",
      "n-gram: (3, 4)\n",
      "Pre-trained accuracy: 0.14285714285714285\n",
      "Pre-trained F1 score: 0.09492673992673994\n",
      "Trained accuracy: 0.45714285714285713\n",
      "Trained F1 score: 0.4666188386776622 \n",
      "\n",
      "Cross validation accuracy score: [0.4        0.28571429 0.3047619  0.22857143 0.25714286]\n",
      "Cross validation accuracy score (average): 0.29523809523809524\n",
      "\n",
      "n-gram: (4, 4)\n",
      "Pre-trained accuracy: 0.1619047619047619\n",
      "Pre-trained F1 score: 0.08399959689433373\n",
      "Trained accuracy: 0.23809523809523808\n",
      "Trained F1 score: 0.23975125403696831 \n",
      "\n",
      "Cross validation accuracy score: [0.24761905 0.21904762 0.17142857 0.16190476 0.13333333]\n",
      "Cross validation accuracy score (average): 0.18666666666666665\n"
     ]
    }
   ],
   "source": [
    "# get accuracy for each type of label and n-gram\n",
    "ngram_list = [(1,1),(1,2),(1,3),(1,4),(2,2),(2,3),(2,4),(3,3),(3,4),(4,4)]\n",
    "y_list = ['label','color','shape']\n",
    "\n",
    "# store result\n",
    "result_list = []\n",
    "\n",
    "for i,y in enumerate(y_list):\n",
    "    print ('\\nLabel:', y_list[i])\n",
    "    for n in ngram_list:\n",
    "        print ('\\nn-gram:', n)\n",
    "        (X,y) = transform_data(y_list[i], n)\n",
    "        (y_test, y_pred, batch_model) = train_and_predict(X,y)\n",
    "        #report_prediction(y_test, y_pred, batch_model)\n",
    "        avg_cv_score = cross_val(X,y, batch_model)\n",
    "        result_list.append([y_list[i], n, accuracy_score(y_test,y_pred), avg_cv_score])"
   ]
  },
  {
   "cell_type": "code",
   "execution_count": 16,
   "metadata": {},
   "outputs": [
    {
     "name": "stdout",
     "output_type": "stream",
     "text": [
      "   Label  Accuracy           CV_Accuracy          \n",
      "              mean       std        mean       std\n",
      "0  color  0.643810  0.196374    0.558476  0.197144\n",
      "1  label  0.460952  0.136042    0.396190  0.141075\n",
      "2  shape  0.565714  0.158361    0.417143  0.126752\n"
     ]
    }
   ],
   "source": [
    "result_df = pd.DataFrame({\n",
    "    'Label': [item[0] for item in result_list],\n",
    "    'Ngram': [item[1] for item in result_list],\n",
    "    'Accuracy': [item[2] for item in result_list],\n",
    "    'CV_Accuracy': [item[3] for item in result_list]\n",
    "    })\n",
    "\n",
    "print (result_df.groupby('Label').agg({'Accuracy':['mean','std'],'CV_Accuracy':['mean','std']}).reset_index())"
   ]
  },
  {
   "cell_type": "code",
   "execution_count": 17,
   "metadata": {},
   "outputs": [
    {
     "data": {
      "text/html": [
       "<div>\n",
       "<style scoped>\n",
       "    .dataframe tbody tr th:only-of-type {\n",
       "        vertical-align: middle;\n",
       "    }\n",
       "\n",
       "    .dataframe tbody tr th {\n",
       "        vertical-align: top;\n",
       "    }\n",
       "\n",
       "    .dataframe thead th {\n",
       "        text-align: right;\n",
       "    }\n",
       "</style>\n",
       "<table border=\"1\" class=\"dataframe\">\n",
       "  <thead>\n",
       "    <tr style=\"text-align: right;\">\n",
       "      <th></th>\n",
       "      <th>Ngram</th>\n",
       "      <th>Accuracy</th>\n",
       "      <th>CV_Accuracy</th>\n",
       "    </tr>\n",
       "  </thead>\n",
       "  <tbody>\n",
       "    <tr>\n",
       "      <th>0</th>\n",
       "      <td>(1, 1)</td>\n",
       "      <td>0.561905</td>\n",
       "      <td>0.531429</td>\n",
       "    </tr>\n",
       "    <tr>\n",
       "      <th>1</th>\n",
       "      <td>(1, 2)</td>\n",
       "      <td>0.571429</td>\n",
       "      <td>0.531429</td>\n",
       "    </tr>\n",
       "    <tr>\n",
       "      <th>2</th>\n",
       "      <td>(1, 3)</td>\n",
       "      <td>0.590476</td>\n",
       "      <td>0.533333</td>\n",
       "    </tr>\n",
       "    <tr>\n",
       "      <th>3</th>\n",
       "      <td>(1, 4)</td>\n",
       "      <td>0.590476</td>\n",
       "      <td>0.535238</td>\n",
       "    </tr>\n",
       "    <tr>\n",
       "      <th>4</th>\n",
       "      <td>(2, 2)</td>\n",
       "      <td>0.438095</td>\n",
       "      <td>0.386667</td>\n",
       "    </tr>\n",
       "    <tr>\n",
       "      <th>5</th>\n",
       "      <td>(2, 3)</td>\n",
       "      <td>0.476190</td>\n",
       "      <td>0.388571</td>\n",
       "    </tr>\n",
       "    <tr>\n",
       "      <th>6</th>\n",
       "      <td>(2, 4)</td>\n",
       "      <td>0.476190</td>\n",
       "      <td>0.390476</td>\n",
       "    </tr>\n",
       "    <tr>\n",
       "      <th>7</th>\n",
       "      <td>(3, 3)</td>\n",
       "      <td>0.371429</td>\n",
       "      <td>0.262857</td>\n",
       "    </tr>\n",
       "    <tr>\n",
       "      <th>8</th>\n",
       "      <td>(3, 4)</td>\n",
       "      <td>0.380952</td>\n",
       "      <td>0.272381</td>\n",
       "    </tr>\n",
       "    <tr>\n",
       "      <th>9</th>\n",
       "      <td>(4, 4)</td>\n",
       "      <td>0.152381</td>\n",
       "      <td>0.129524</td>\n",
       "    </tr>\n",
       "  </tbody>\n",
       "</table>\n",
       "</div>"
      ],
      "text/plain": [
       "    Ngram  Accuracy  CV_Accuracy\n",
       "0  (1, 1)  0.561905     0.531429\n",
       "1  (1, 2)  0.571429     0.531429\n",
       "2  (1, 3)  0.590476     0.533333\n",
       "3  (1, 4)  0.590476     0.535238\n",
       "4  (2, 2)  0.438095     0.386667\n",
       "5  (2, 3)  0.476190     0.388571\n",
       "6  (2, 4)  0.476190     0.390476\n",
       "7  (3, 3)  0.371429     0.262857\n",
       "8  (3, 4)  0.380952     0.272381\n",
       "9  (4, 4)  0.152381     0.129524"
      ]
     },
     "execution_count": 17,
     "metadata": {},
     "output_type": "execute_result"
    }
   ],
   "source": [
    "res = result_df[result_df['Label']=='label']\n",
    "res = res.drop(columns=['Label'])\n",
    "res"
   ]
  },
  {
   "cell_type": "code",
   "execution_count": 18,
   "metadata": {
    "scrolled": false
   },
   "outputs": [
    {
     "data": {
      "image/png": "[encoded data removed]",
      "text/plain": [
       "<Figure size 720x720 with 1 Axes>"
      ]
     },
     "metadata": {
      "needs_background": "light"
     },
     "output_type": "display_data"
    },
    {
     "data": {
      "image/png": "[encoded data removed]",
      "text/plain": [
       "<Figure size 720x720 with 1 Axes>"
      ]
     },
     "metadata": {
      "needs_background": "light"
     },
     "output_type": "display_data"
    },
    {
     "data": {
      "image/png": "[encoded data removed]",
      "text/plain": [
       "<Figure size 720x720 with 1 Axes>"
      ]
     },
     "metadata": {
      "needs_background": "light"
     },
     "output_type": "display_data"
    }
   ],
   "source": [
    "# plot with y = color + shape\n",
    "plot_label = result_df[result_df['Label']=='label']\n",
    "plot_label = plot_label.drop(columns=['Label'])\n",
    "\n",
    "fig, ax1 = plt.subplots(figsize=(10, 10))\n",
    "tidy = plot_label.melt(id_vars='Ngram').rename(columns=str.title)\n",
    "sns.barplot(x='Ngram', y='Value', hue='Variable', data=tidy, ax=ax1).set_title('Full label')\n",
    "sns.despine(fig)\n",
    "\n",
    "# plot with y = color\n",
    "plot_color = result_df[result_df['Label']=='color']\n",
    "plot_color = plot_color.drop(columns=['Label'])\n",
    "\n",
    "fig, ax1 = plt.subplots(figsize=(10, 10))\n",
    "tidy = plot_color.melt(id_vars='Ngram').rename(columns=str.title)\n",
    "sns.barplot(x='Ngram', y='Value', hue='Variable', data=tidy, ax=ax1).set_title('Color')\n",
    "sns.despine(fig)\n",
    "\n",
    "# plot with y = shape\n",
    "plot_shape = result_df[result_df['Label']=='shape']\n",
    "plot_shape = plot_shape.drop(columns=['Label'])\n",
    "\n",
    "fig, ax1 = plt.subplots(figsize=(10, 10))\n",
    "tidy = plot_shape.melt(id_vars='Ngram').rename(columns=str.title)\n",
    "sns.barplot(x='Ngram', y='Value', hue='Variable', data=tidy, ax=ax1).set_title('Shape')\n",
    "sns.despine(fig)\n",
    "\n",
    "# from the figure, smaller n-grams performed bettwe than large n_grams"
   ]
  },
  {
   "cell_type": "markdown",
   "metadata": {},
   "source": [
    "# Testing on Survey Data"
   ]
  },
  {
   "cell_type": "code",
   "execution_count": 24,
   "metadata": {},
   "outputs": [
    {
     "name": "stdout",
     "output_type": "stream",
     "text": [
      "(176, 3)\n"
     ]
    }
   ],
   "source": [
    "df = pd.read_excel('processed_survey.xlsx')\n",
    "print (df.shape)"
   ]
  },
  {
   "cell_type": "code",
   "execution_count": 2,
   "metadata": {},
   "outputs": [],
   "source": [
    "# split label into color and shape\n",
    "df[['color','shape']] = df['label'].str.split(' ',expand=True)\n",
    "#df"
   ]
  },
  {
   "cell_type": "code",
   "execution_count": 31,
   "metadata": {},
   "outputs": [],
   "source": [
    "bow_survey = count_vec.transform(df['text'])"
   ]
  },
  {
   "cell_type": "code",
   "execution_count": 32,
   "metadata": {},
   "outputs": [],
   "source": [
    "y_pred = label_model.predict(bow_survey)\n",
    "color_pred = color_model.predict(bow_survey)\n",
    "shape_pred = shape_model.predict(bow_survey)\n",
    "\n",
    "com_pred = []\n",
    "for c,s in zip(color_pred,shape_pred):\n",
    "    com = c+' '+s\n",
    "    com_pred.append(com)"
   ]
  },
  {
   "cell_type": "code",
   "execution_count": 41,
   "metadata": {},
   "outputs": [
    {
     "name": "stdout",
     "output_type": "stream",
     "text": [
      "Acc on full label: 0.4034090909090909\n",
      "Acc on color: 0.7443181818181818\n",
      "Acc on shape: 0.4431818181818182\n",
      "Acc on color + shape: 0.6363636363636364\n"
     ]
    }
   ],
   "source": [
    "# print accuracy\n",
    "# this is accuracy on survey data\n",
    "print('Acc on full label:', accuracy_score(np.array(df['label']), y_pred))\n",
    "print('Acc on color:', accuracy_score(np.array(df['color']), color_pred))\n",
    "print('Acc on shape:', accuracy_score(np.array(df['shape']), shape_pred))\n",
    "print('Acc on color + shape:', accuracy_score(com_pred, y_pred))"
   ]
  },
  {
   "cell_type": "code",
   "execution_count": null,
   "metadata": {},
   "outputs": [],
   "source": []
  }
 ],
 "metadata": {
  "kernelspec": {
   "display_name": "Python 3",
   "language": "python",
   "name": "python3"
  },
  "language_info": {
   "codemirror_mode": {
    "name": "ipython",
    "version": 3
   },
   "file_extension": ".py",
   "mimetype": "text/x-python",
   "name": "python",
   "nbconvert_exporter": "python",
   "pygments_lexer": "ipython3",
   "version": "3.8.3"
  }
 },
 "nbformat": 4,
 "nbformat_minor": 5
}
